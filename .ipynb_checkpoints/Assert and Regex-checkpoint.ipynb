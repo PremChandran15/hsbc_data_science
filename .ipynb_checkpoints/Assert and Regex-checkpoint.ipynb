{
 "cells": [
  {
   "cell_type": "code",
   "execution_count": 1,
   "metadata": {},
   "outputs": [],
   "source": [
    "#a function to calculate the average of marks\n",
    "def avg_marks(marks_list):\n",
    "    return sum(marks_list)/len(marks_list)"
   ]
  },
  {
   "cell_type": "code",
   "execution_count": 2,
   "metadata": {},
   "outputs": [
    {
     "data": {
      "text/plain": [
       "62.25"
      ]
     },
     "execution_count": 2,
     "metadata": {},
     "output_type": "execute_result"
    }
   ],
   "source": [
    "marks = [76, 67, 98, 81, 40, 37, 44, 55]\n",
    "avg_marks(marks)"
   ]
  },
  {
   "cell_type": "code",
   "execution_count": 3,
   "metadata": {},
   "outputs": [
    {
     "ename": "ZeroDivisionError",
     "evalue": "division by zero",
     "output_type": "error",
     "traceback": [
      "\u001b[0;31m---------------------------------------------------------------------------\u001b[0m",
      "\u001b[0;31mZeroDivisionError\u001b[0m                         Traceback (most recent call last)",
      "\u001b[0;32m/var/folders/l9/swvqvt0552gfk3662mhw83b00000gn/T/ipykernel_21107/4179744264.py\u001b[0m in \u001b[0;36m<module>\u001b[0;34m\u001b[0m\n\u001b[1;32m      1\u001b[0m \u001b[0mmarks\u001b[0m \u001b[0;34m=\u001b[0m \u001b[0;34m[\u001b[0m\u001b[0;34m]\u001b[0m\u001b[0;34m\u001b[0m\u001b[0;34m\u001b[0m\u001b[0m\n\u001b[0;32m----> 2\u001b[0;31m \u001b[0mavg_marks\u001b[0m\u001b[0;34m(\u001b[0m\u001b[0mmarks\u001b[0m\u001b[0;34m)\u001b[0m\u001b[0;34m\u001b[0m\u001b[0;34m\u001b[0m\u001b[0m\n\u001b[0m",
      "\u001b[0;32m/var/folders/l9/swvqvt0552gfk3662mhw83b00000gn/T/ipykernel_21107/1145199468.py\u001b[0m in \u001b[0;36mavg_marks\u001b[0;34m(marks_list)\u001b[0m\n\u001b[1;32m      1\u001b[0m \u001b[0;32mdef\u001b[0m \u001b[0mavg_marks\u001b[0m\u001b[0;34m(\u001b[0m\u001b[0mmarks_list\u001b[0m\u001b[0;34m)\u001b[0m\u001b[0;34m:\u001b[0m\u001b[0;34m\u001b[0m\u001b[0;34m\u001b[0m\u001b[0m\n\u001b[0;32m----> 2\u001b[0;31m     \u001b[0;32mreturn\u001b[0m \u001b[0msum\u001b[0m\u001b[0;34m(\u001b[0m\u001b[0mmarks_list\u001b[0m\u001b[0;34m)\u001b[0m\u001b[0;34m/\u001b[0m\u001b[0mlen\u001b[0m\u001b[0;34m(\u001b[0m\u001b[0mmarks_list\u001b[0m\u001b[0;34m)\u001b[0m\u001b[0;34m\u001b[0m\u001b[0;34m\u001b[0m\u001b[0m\n\u001b[0m",
      "\u001b[0;31mZeroDivisionError\u001b[0m: division by zero"
     ]
    }
   ],
   "source": [
    "marks = []\n",
    "avg_marks(marks)"
   ]
  },
  {
   "cell_type": "markdown",
   "metadata": {},
   "source": [
    "### Assertion example\n",
    "Reminder: <br>\n",
    "use `assert` for **errors that should never happen** <br>\n",
    "use `try, except` for **errors that can conceivably** happen\n",
    "\n",
    "Format is:\n",
    "\n",
    "```python\n",
    "#never use assert(condition,exception)! this is treated as a tuple for condition\n",
    "assert condition, exception\n",
    "```"
   ]
  },
  {
   "cell_type": "code",
   "execution_count": 8,
   "metadata": {},
   "outputs": [],
   "source": [
    "#a function to calculate the average of marks\n",
    "def avg_marks(marks_list):\n",
    "    assert len(marks_list) != 0, \"The list is empty\"\n",
    "    assert type(marks_list) == list, \"Must provide list\"\n",
    "    #try, except can be used\n",
    "    #if, else \n",
    "    return sum(marks_list)/len(marks_list)"
   ]
  },
  {
   "cell_type": "code",
   "execution_count": 10,
   "metadata": {},
   "outputs": [
    {
     "ename": "AssertionError",
     "evalue": "Must provide list",
     "output_type": "error",
     "traceback": [
      "\u001b[0;31m---------------------------------------------------------------------------\u001b[0m",
      "\u001b[0;31mAssertionError\u001b[0m                            Traceback (most recent call last)",
      "\u001b[0;32m/var/folders/l9/swvqvt0552gfk3662mhw83b00000gn/T/ipykernel_21107/786406135.py\u001b[0m in \u001b[0;36m<module>\u001b[0;34m\u001b[0m\n\u001b[1;32m      1\u001b[0m \u001b[0mmarks\u001b[0m \u001b[0;34m=\u001b[0m \u001b[0;34m(\u001b[0m\u001b[0;36m23\u001b[0m\u001b[0;34m,\u001b[0m\u001b[0;36m45\u001b[0m\u001b[0;34m,\u001b[0m\u001b[0;36m67\u001b[0m\u001b[0;34m)\u001b[0m\u001b[0;34m\u001b[0m\u001b[0;34m\u001b[0m\u001b[0m\n\u001b[0;32m----> 2\u001b[0;31m \u001b[0mavg_marks\u001b[0m\u001b[0;34m(\u001b[0m\u001b[0mmarks\u001b[0m\u001b[0;34m)\u001b[0m\u001b[0;34m\u001b[0m\u001b[0;34m\u001b[0m\u001b[0m\n\u001b[0m",
      "\u001b[0;32m/var/folders/l9/swvqvt0552gfk3662mhw83b00000gn/T/ipykernel_21107/1769508907.py\u001b[0m in \u001b[0;36mavg_marks\u001b[0;34m(marks_list)\u001b[0m\n\u001b[1;32m      2\u001b[0m \u001b[0;32mdef\u001b[0m \u001b[0mavg_marks\u001b[0m\u001b[0;34m(\u001b[0m\u001b[0mmarks_list\u001b[0m\u001b[0;34m)\u001b[0m\u001b[0;34m:\u001b[0m\u001b[0;34m\u001b[0m\u001b[0;34m\u001b[0m\u001b[0m\n\u001b[1;32m      3\u001b[0m     \u001b[0;32massert\u001b[0m \u001b[0mlen\u001b[0m\u001b[0;34m(\u001b[0m\u001b[0mmarks_list\u001b[0m\u001b[0;34m)\u001b[0m \u001b[0;34m!=\u001b[0m \u001b[0;36m0\u001b[0m\u001b[0;34m,\u001b[0m \u001b[0;34m\"The list is empty\"\u001b[0m\u001b[0;34m\u001b[0m\u001b[0;34m\u001b[0m\u001b[0m\n\u001b[0;32m----> 4\u001b[0;31m     \u001b[0;32massert\u001b[0m \u001b[0mtype\u001b[0m\u001b[0;34m(\u001b[0m\u001b[0mmarks_list\u001b[0m\u001b[0;34m)\u001b[0m \u001b[0;34m==\u001b[0m \u001b[0mlist\u001b[0m\u001b[0;34m,\u001b[0m \u001b[0;34m\"Must provide list\"\u001b[0m\u001b[0;34m\u001b[0m\u001b[0;34m\u001b[0m\u001b[0m\n\u001b[0m\u001b[1;32m      5\u001b[0m     \u001b[0;31m#try, except can be used\u001b[0m\u001b[0;34m\u001b[0m\u001b[0;34m\u001b[0m\u001b[0;34m\u001b[0m\u001b[0m\n\u001b[1;32m      6\u001b[0m     \u001b[0;31m#if, else\u001b[0m\u001b[0;34m\u001b[0m\u001b[0;34m\u001b[0m\u001b[0;34m\u001b[0m\u001b[0m\n",
      "\u001b[0;31mAssertionError\u001b[0m: Must provide list"
     ]
    }
   ],
   "source": [
    "marks = (23,45,67)\n",
    "avg_marks(marks)"
   ]
  },
  {
   "cell_type": "code",
   "execution_count": 7,
   "metadata": {},
   "outputs": [
    {
     "name": "stdout",
     "output_type": "stream",
     "text": [
      "There is an error ('The list is empty',)\n"
     ]
    }
   ],
   "source": [
    "try:\n",
    "    marks = []\n",
    "    avg_marks(marks) #\n",
    "except AssertionError as ae:\n",
    "    print(\"There is an error {}\".format(ae.args))"
   ]
  },
  {
   "cell_type": "markdown",
   "metadata": {},
   "source": [
    "## Regular Expressions\n",
    "\n",
    "Regular expressions are text matching patterns described with a formal syntax. You'll often hear regular expressions referred to as 'regex' or 'regexp' in conversation (and Yes, you have regexp in ES). Regular expressions can include a variety of rules, for finding repetition, to text-matching, and much more. As you advance in Python you'll see that a lot of your parsing problems can be solved with regular expressions."
   ]
  },
  {
   "cell_type": "markdown",
   "metadata": {},
   "source": [
    "### Basic Patterns\n",
    "\n",
    "       \n",
    "Pattern    | Match      \n",
    ":----------|:-----------\n",
    "a, W, 9, < |  ordinary characters match themselves exactly\n",
    ".          |a period matches any single character except newline\n",
    "\\w | matches a ”word” character: a letter or digit or underbar [a-zA-Z0-9 ]\n",
    "\\W | matches any non-word character\n",
    "\\b | boundary between word and non-word\n",
    "\\s | a single whitespace character – space, newline, return, tab, form [\\n \\r \\t \\f]\n",
    "\\S | matches any non-whitespace character\n",
    "\\t | tab\n",
    "\\n | newline\n",
    "\\r | return\n",
    "\\d | decimal digit [0-9]\n",
    "\\D | non-digit character\n",
    "ˆ | circumflex (top hat) matches the start of a string\n",
    "$ | dollar matches the end of a string\n",
    "\\ | inhibits the ”specialness” of a character. So, for example, use \\. to match a period\n",
    "\n",
    "```python\n",
    "'''\n",
    "These are some of the most commonly used methods\n",
    "'''\n",
    "re.search(pattern,text,condition)\n",
    "re.findall(pattern,text,condition)\n",
    "re.sub(existing_pattern,replace_with,text)\n",
    "re.compile(pattern) #compiles the pattern => especially useful if pattern is used multiple times\n",
    "```"
   ]
  },
  {
   "cell_type": "code",
   "execution_count": 11,
   "metadata": {},
   "outputs": [],
   "source": [
    "import re"
   ]
  },
  {
   "cell_type": "code",
   "execution_count": 12,
   "metadata": {},
   "outputs": [
    {
     "name": "stdout",
     "output_type": "stream",
     "text": [
      "Match found:  abcd!!\n"
     ]
    }
   ],
   "source": [
    "#look for abcd!! in the following string\n",
    "string = '@@!abcd!!'\n",
    "\n",
    "match = re.search('abcd!!', string)\n",
    "\n",
    "if match:\n",
    "    print(\"Match found: \",match.group())\n",
    "else:\n",
    "    print(\"No Match\")"
   ]
  },
  {
   "cell_type": "code",
   "execution_count": 14,
   "metadata": {},
   "outputs": [
    {
     "name": "stdout",
     "output_type": "stream",
     "text": [
      "Match found:  cghz!!\n"
     ]
    }
   ],
   "source": [
    "#look for 4letters followed by!! in the following string\n",
    "string = '@@!cghz!!'\n",
    "\n",
    "match = re.search('\\w\\w\\w\\w\\W\\W', string)\n",
    "\n",
    "if match:\n",
    "    print(\"Match found: \",match.group())\n",
    "else:\n",
    "    print(\"No Match\")"
   ]
  },
  {
   "cell_type": "code",
   "execution_count": 15,
   "metadata": {},
   "outputs": [
    {
     "name": "stdout",
     "output_type": "stream",
     "text": [
      "Match found:  cghz!!\n"
     ]
    }
   ],
   "source": [
    "#look for 4letters followed by!! in the following string\n",
    "string = '@@!cghz!!'\n",
    "\n",
    "match = re.search('\\w{4}\\W{2}', string)\n",
    "\n",
    "if match:\n",
    "    print(\"Match found: \",match.group())\n",
    "else:\n",
    "    print(\"No Match\")"
   ]
  },
  {
   "cell_type": "code",
   "execution_count": 16,
   "metadata": {},
   "outputs": [
    {
     "data": {
      "text/plain": [
       "['tshirt', 'tshirt']"
      ]
     },
     "execution_count": 16,
     "metadata": {},
     "output_type": "execute_result"
    }
   ],
   "source": [
    "text = \"How many tshirts are there in this tshirt text\"\n",
    "re.findall('tshirt',text)"
   ]
  },
  {
   "cell_type": "code",
   "execution_count": 17,
   "metadata": {},
   "outputs": [
    {
     "data": {
      "text/plain": [
       "9"
      ]
     },
     "execution_count": 17,
     "metadata": {},
     "output_type": "execute_result"
    }
   ],
   "source": [
    "text.find('tshirt')"
   ]
  },
  {
   "cell_type": "code",
   "execution_count": 18,
   "metadata": {},
   "outputs": [
    {
     "name": "stdout",
     "output_type": "stream",
     "text": [
      "Match found:  pi\n"
     ]
    }
   ],
   "source": [
    "# + => 1 or more occurences of the pattern = GREEDY\n",
    "# * => 0 or more occurences of the pattern = GREEDY\n",
    "# ? => 0 or 1 occurence of the pattern\n",
    "\n",
    "match = re.search(r'pi?','piiigiiii')\n",
    "\n",
    "if match:\n",
    "    print(\"Match found: \",match.group())\n",
    "else:\n",
    "    print(\"No Match\")\n"
   ]
  },
  {
   "cell_type": "code",
   "execution_count": 20,
   "metadata": {},
   "outputs": [
    {
     "name": "stdout",
     "output_type": "stream",
     "text": [
      "Match found:  piii\n"
     ]
    }
   ],
   "source": [
    "# + => 1 or more occurences of the pattern = GREEDY\n",
    "# * => 0 or more occurences of the pattern = GREEDY\n",
    "# ? => 0 or 1 occurence of the pattern\n",
    "\n",
    "match = re.search(r'pi*','piiigiiii')\n",
    "\n",
    "if match:\n",
    "    print(\"Match found: \",match.group())\n",
    "else:\n",
    "    print(\"No Match\")"
   ]
  },
  {
   "cell_type": "code",
   "execution_count": 21,
   "metadata": {},
   "outputs": [
    {
     "name": "stdout",
     "output_type": "stream",
     "text": [
      "Match found:  2 3456xx\n"
     ]
    }
   ],
   "source": [
    "string = 'piiig12 3456xx'\n",
    "#find 2 3456xx\n",
    "match = re.search(r'\\d\\s+\\d\\s*\\d.+', string)\n",
    "\n",
    "if match:\n",
    "    print(\"Match found: \",match.group())\n",
    "else:\n",
    "    print(\"No Match\")"
   ]
  },
  {
   "cell_type": "code",
   "execution_count": 31,
   "metadata": {},
   "outputs": [
    {
     "name": "stdout",
     "output_type": "stream",
     "text": [
      "No Match\n"
     ]
    }
   ],
   "source": [
    "string = 'piiig12  3456xx'\n",
    "#find 2 3456xx\n",
    "match = re.search(r'\\d{1}\\s?\\d{4}\\w+', string)\n",
    "\n",
    "if match:\n",
    "    print(\"Match found: \",match.group())\n",
    "else:\n",
    "    print(\"No Match\")"
   ]
  },
  {
   "cell_type": "code",
   "execution_count": 23,
   "metadata": {},
   "outputs": [
    {
     "name": "stdout",
     "output_type": "stream",
     "text": [
      "\\d{1}\\s+\\d{4}\\w+\n"
     ]
    }
   ],
   "source": [
    "print('\\d{1}\\s+\\d{4}\\w+')"
   ]
  },
  {
   "cell_type": "code",
   "execution_count": 26,
   "metadata": {},
   "outputs": [
    {
     "name": "stdout",
     "output_type": "stream",
     "text": [
      "The number is 34\n",
      "The number is 34\n"
     ]
    }
   ],
   "source": [
    "number = 34\n",
    "print(\"The number is {}\".format(number))\n",
    "print(f'The number is {number}')"
   ]
  },
  {
   "cell_type": "code",
   "execution_count": 36,
   "metadata": {},
   "outputs": [
    {
     "name": "stdout",
     "output_type": "stream",
     "text": [
      "Match found:  foobar\n"
     ]
    }
   ],
   "source": [
    "foo = 'this is a foobar'\n",
    "match = re.search(r'f\\w+',foo)\n",
    "\n",
    "if match:\n",
    "    print(\"Match found: \",match.group())\n",
    "else:\n",
    "    print(\"No Match\")\n",
    "    "
   ]
  },
  {
   "cell_type": "code",
   "execution_count": 40,
   "metadata": {},
   "outputs": [
    {
     "name": "stdout",
     "output_type": "stream",
     "text": [
      "Match found:  07@gmail\n"
     ]
    }
   ],
   "source": [
    "email = 'purple alice-07@gmail.com monkey dishwasher'\n",
    "#match email pattern\n",
    "match = re.search(r'\\w+@\\w+', email)\n",
    "\n",
    "if match:\n",
    "    print(\"Match found: \",match.group())\n",
    "else:\n",
    "    print(\"No Match\")\n",
    "    "
   ]
  },
  {
   "cell_type": "markdown",
   "metadata": {},
   "source": [
    "### Square Brackets\n",
    "\n",
    "Square brackets can be used to indicate a set of chars, so [abc] matches 'a' or 'b' or 'c'. The codes \\w, \\s etc. work inside square brackets too with the one exception that dot (.) just means a literal dot. For the emails problem, the square brackets are an easy way to add '.' and '-' to the set of chars which can appear around the @ with the pattern r'[\\w.-]+@[\\w.-]+' to get the whole email address:\n",
    "\n",
    "```python\n",
    "email = 'purple alice-b@google.com monkey dishwasher'\n",
    "match = re.search(r'[\\w.-]+@[\\w.-]+', email)\n",
    "\n",
    "## 'alice-b@google.com'\n",
    "if match:                      \n",
    "    print('Found:', match.group()) \n",
    "else:\n",
    "    print('Did not find')\n",
    "```\n",
    "\n",
    "(More square-bracket features) You can also use a dash to indicate a range, so [a-z] matches all lowercase letters. To use a dash without indicating a range, put the dash last, e.g. [abc-]. An up-hat (^) at the start of a square-bracket set inverts it, so [^ab] means any char except 'a' or 'b'."
   ]
  },
  {
   "cell_type": "code",
   "execution_count": 42,
   "metadata": {},
   "outputs": [
    {
     "name": "stdout",
     "output_type": "stream",
     "text": [
      "Match found:  alice_b@google.com\n"
     ]
    }
   ],
   "source": [
    "email = 'purple alice_b@google.com monkey dishwasher'\n",
    "match = re.search(r'[\\w.-]+@[\\w.-]+', email)\n",
    "if match:\n",
    "    print(\"Match found: \",match.group())\n",
    "else:\n",
    "    print(\"No Match\")\n",
    "    "
   ]
  },
  {
   "cell_type": "code",
   "execution_count": 43,
   "metadata": {},
   "outputs": [
    {
     "name": "stdout",
     "output_type": "stream",
     "text": [
      "Match found:  alice_b@google.com\n",
      "Username is:  alice_b\n",
      "Domain is:  google.com\n"
     ]
    }
   ],
   "source": [
    "# find the username and the domain of the email => use brackets to divide groups\n",
    "email = 'purple alice_b@google.com monkey dishwasher'\n",
    "match = re.search(r'([\\w.-]+)@([\\w.-]+)', email)\n",
    "if match:\n",
    "    print(\"Match found: \",match.group())\n",
    "    print(\"Username is: \",match.group(1))\n",
    "    print(\"Domain is: \",match.group(2))\n",
    "else:\n",
    "    print(\"No Match\")"
   ]
  },
  {
   "cell_type": "code",
   "execution_count": 47,
   "metadata": {},
   "outputs": [
    {
     "data": {
      "text/plain": [
       "'google.com'"
      ]
     },
     "execution_count": 47,
     "metadata": {},
     "output_type": "execute_result"
    }
   ],
   "source": [
    "match.group(2)"
   ]
  },
  {
   "cell_type": "markdown",
   "metadata": {},
   "source": [
    "## findall"
   ]
  },
  {
   "cell_type": "code",
   "execution_count": 51,
   "metadata": {},
   "outputs": [
    {
     "name": "stdout",
     "output_type": "stream",
     "text": [
      "alice_b@google.com\n",
      "bob-07@abc.com\n"
     ]
    }
   ],
   "source": [
    "## Suppose we have a text with many email addresses\n",
    "s = 'purple alice_b@google.com, blah monkey bob-07@abc.com blah dishwasher'\n",
    "emails = re.findall(r'[\\w.-]+@[\\w.-]+',s)\n",
    "\n",
    "for email in emails:\n",
    "    print(email)"
   ]
  },
  {
   "cell_type": "markdown",
   "metadata": {},
   "source": [
    "## Question 1\n",
    "\n",
    "Given the following paragraph, find the network IP address and replace it to 127.0.0.1.\n",
    "\n",
    "> On most computer systems, localhost resolves to the IP address 10.100.11.121, which is the most commonly used IPv4 loopback address, and to the IPv6 loopback address. The localhost IP address is 192.168.11.10."
   ]
  },
  {
   "cell_type": "code",
   "execution_count": 62,
   "metadata": {},
   "outputs": [],
   "source": [
    "string = '''On most computer systems, localhost resolves to the IP address 10.100.11.121, which is the most commonly used IPv4 loopback address, and to the IPv6 loopback address. The localhost IP address is 192.168.11.10.'''"
   ]
  },
  {
   "cell_type": "code",
   "execution_count": 63,
   "metadata": {},
   "outputs": [
    {
     "data": {
      "text/plain": [
       "'On most computer systems, localhost resolves to the IP address 127.0.0.1, which is the most commonly used IPv4 loopback address, and to the IPv6 loopback address. The localhost IP address is 127.0.0.1.'"
      ]
     },
     "execution_count": 63,
     "metadata": {},
     "output_type": "execute_result"
    }
   ],
   "source": [
    "#METHOD 1\n",
    "re.sub(r'\\d+[.]\\d+[.]\\d+[.]\\d+','127.0.0.1', string)"
   ]
  },
  {
   "cell_type": "code",
   "execution_count": 64,
   "metadata": {},
   "outputs": [
    {
     "data": {
      "text/plain": [
       "'On most computer systems, localhost resolves to the IP address 127.0.0.1, which is the most commonly used IPv4 loopback address, and to the IPv6 loopback address. The localhost IP address is 127.0.0.1.'"
      ]
     },
     "execution_count": 64,
     "metadata": {},
     "output_type": "execute_result"
    }
   ],
   "source": [
    "#METHOD 2\n",
    "re.sub(r'(\\d{1,3}[.]){3}(\\d{1,3})','127.0.0.1', string)"
   ]
  },
  {
   "cell_type": "markdown",
   "metadata": {},
   "source": [
    "## Question 2\n",
    "Here are the combinations of possible phone numbers to be parsed. \n",
    "\n",
    "We should be able to get the area code 415, the trunk 867, and the rest of the phone number 5309. \n",
    "\n",
    "* 415-867-5309\n",
    "* 415 657 5039\n",
    "* 415.567.5467\n",
    "\n",
    "Use findall to get the required data."
   ]
  },
  {
   "cell_type": "code",
   "execution_count": 71,
   "metadata": {},
   "outputs": [],
   "source": [
    "number_list = ['415-867-5309','415 657 5039','415.567.5467']\n",
    "\n",
    "def parse_phone_numbers(number_list):\n",
    "    '''\n",
    "    uses regex to find area code, trunk and ext of a phone number\n",
    "    returns the parsed number as printed string\n",
    "    '''\n",
    "    for idx, value in enumerate(number_list):\n",
    "        print(f\"Looking at index number: {idx} with phone number {value}\")\n",
    "        match = re.search(r'(\\d{3})\\W?(\\d{3})\\W?(\\d+)',value)\n",
    "        if match:\n",
    "            print(\"Area code: \",match.group(1))\n",
    "            print(\"Trunk: \",match.group(2))\n",
    "            print(\"Ext: \",match.group(3))\n",
    "            print(\"\\n\")\n",
    "        else:\n",
    "            print(\"No Match\")\n",
    "    "
   ]
  },
  {
   "cell_type": "code",
   "execution_count": 72,
   "metadata": {},
   "outputs": [
    {
     "name": "stdout",
     "output_type": "stream",
     "text": [
      "Looking at index number: 0 with phone number 415-867-5309\n",
      "Area code:  415\n",
      "Trunk:  867\n",
      "Ext:  5309\n",
      "\n",
      "\n",
      "Looking at index number: 1 with phone number 415 657 5039\n",
      "Area code:  415\n",
      "Trunk:  657\n",
      "Ext:  5039\n",
      "\n",
      "\n",
      "Looking at index number: 2 with phone number 415.567.5467\n",
      "Area code:  415\n",
      "Trunk:  567\n",
      "Ext:  5467\n",
      "\n",
      "\n"
     ]
    }
   ],
   "source": [
    "parse_phone_numbers(number_list)"
   ]
  },
  {
   "cell_type": "code",
   "execution_count": null,
   "metadata": {},
   "outputs": [],
   "source": []
  }
 ],
 "metadata": {
  "kernelspec": {
   "display_name": "python38",
   "language": "python",
   "name": "python38"
  },
  "language_info": {
   "codemirror_mode": {
    "name": "ipython",
    "version": 3
   },
   "file_extension": ".py",
   "mimetype": "text/x-python",
   "name": "python",
   "nbconvert_exporter": "python",
   "pygments_lexer": "ipython3",
   "version": "3.8.12"
  }
 },
 "nbformat": 4,
 "nbformat_minor": 2
}
