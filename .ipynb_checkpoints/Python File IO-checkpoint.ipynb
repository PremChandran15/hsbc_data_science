{
 "cells": [
  {
   "cell_type": "markdown",
   "metadata": {},
   "source": [
    "## Handling Files\n",
    "\n",
    "The content uses [official python tutorial](https://docs.python.org/3.6/tutorial/inputoutput.html).\n",
    "\n",
    "`open()` returns a file object, and is most commonly used with two arguments: `open(filename, mode)`.\n",
    "\n",
    "The first argument is a string containing the filename.\n",
    "\n",
    "The second argument is another string containing a few characters describing the way in which the file will be used. \n",
    "\n",
    "_mode_ can be:\n",
    "- `'r'` read (by default)\n",
    "- `'w'` write\n",
    "- `'a'` append\n",
    "- `'rb'` read binary\n",
    "- `'wb'` write binary\n",
    "\n",
    "Normally, files are opened in __text mode__, that means, you read and write __strings__ from and to the file, which are encoded in a specific encoding. If encoding is not specified, the default depends on your platform.\n",
    "\n",
    "`'b'` appended to the mode opens the file in __binary mode__: now the data is read and written in the form of __bytes__ objects.\n",
    "\n",
    "It is good practice to use the __`with`__ keyword when dealing with file objects. The advantage is that the file is properly closed after its suite finishes, even if an exception is raised at some point. Using `with` is also much shorter than writing equivalent `try-finally` blocks:"
   ]
  },
  {
   "cell_type": "code",
   "execution_count": 1,
   "metadata": {},
   "outputs": [],
   "source": [
    "#writing files\n",
    "# with=> will allocate memory location in ram while python is doing that op, and upon that, will close automatically\n",
    "with open('test.txt', 'w') as f:\n",
    "    f.write(\"This is a file that I created\")\n",
    "    f.write(\"\\nThis is a second line in this text\")"
   ]
  },
  {
   "cell_type": "code",
   "execution_count": 2,
   "metadata": {},
   "outputs": [
    {
     "name": "stdout",
     "output_type": "stream",
     "text": [
      "This is a file that I created\n",
      "\n",
      "This is a second line in this text\n"
     ]
    }
   ],
   "source": [
    "with open('test.txt', 'r') as f:\n",
    "    for line in f:\n",
    "        print(line)"
   ]
  },
  {
   "cell_type": "code",
   "execution_count": 6,
   "metadata": {},
   "outputs": [],
   "source": [
    "filename = 'example.txt'\n",
    "\n",
    "with open(filename, 'w') as f:\n",
    "    f.write(\"Here is a new example with other operations: \\n\")\n",
    "    \n",
    "    n= 5\n",
    "    f.write(\"The value for variable n is: {} \\n\".format(n))\n",
    "    \n",
    "    #even loop through to create a large file!\n",
    "    f.write(\"This is a lyric for a long loop! \\n\")\n",
    "    for i in range(40):\n",
    "        f.write(\"These are the lyrics. you repeat the chorus for {} times \\n\".format(i))"
   ]
  },
  {
   "cell_type": "code",
   "execution_count": 7,
   "metadata": {},
   "outputs": [
    {
     "name": "stdout",
     "output_type": "stream",
     "text": [
      "Here is a new example with other operations: \n",
      "The value for variable n is: 5 \n",
      "This is a lyric for a long loop! \n",
      "These are the lyrics. you repeat the chorus for 0 times \n",
      "These are the lyrics. you repeat the chorus for 1 times \n",
      "These are the lyrics. you repeat the chorus for 2 times \n",
      "These are the lyrics. you repeat the chorus for 3 times \n",
      "These are the lyrics. you repeat the chorus for 4 times \n",
      "These are the lyrics. you repeat the chorus for 5 times \n",
      "These are the lyrics. you repeat the chorus for 6 times \n",
      "These are the lyrics. you repeat the chorus for 7 times \n",
      "These are the lyrics. you repeat the chorus for 8 times \n",
      "These are the lyrics. you repeat the chorus for 9 times \n",
      "These are the lyrics. you repeat the chorus for 10 times \n",
      "These are the lyrics. you repeat the chorus for 11 times \n",
      "These are the lyrics. you repeat the chorus for 12 times \n",
      "These are the lyrics. you repeat the chorus for 13 times \n",
      "These are the lyrics. you repeat the chorus for 14 times \n",
      "These are the lyrics. you repeat the chorus for 15 times \n",
      "These are the lyrics. you repeat the chorus for 16 times \n",
      "These are the lyrics. you repeat the chorus for 17 times \n",
      "These are the lyrics. you repeat the chorus for 18 times \n",
      "These are the lyrics. you repeat the chorus for 19 times \n",
      "These are the lyrics. you repeat the chorus for 20 times \n",
      "These are the lyrics. you repeat the chorus for 21 times \n",
      "These are the lyrics. you repeat the chorus for 22 times \n",
      "These are the lyrics. you repeat the chorus for 23 times \n",
      "These are the lyrics. you repeat the chorus for 24 times \n",
      "These are the lyrics. you repeat the chorus for 25 times \n",
      "These are the lyrics. you repeat the chorus for 26 times \n",
      "These are the lyrics. you repeat the chorus for 27 times \n",
      "These are the lyrics. you repeat the chorus for 28 times \n",
      "These are the lyrics. you repeat the chorus for 29 times \n",
      "These are the lyrics. you repeat the chorus for 30 times \n",
      "These are the lyrics. you repeat the chorus for 31 times \n",
      "These are the lyrics. you repeat the chorus for 32 times \n",
      "These are the lyrics. you repeat the chorus for 33 times \n",
      "These are the lyrics. you repeat the chorus for 34 times \n",
      "These are the lyrics. you repeat the chorus for 35 times \n",
      "These are the lyrics. you repeat the chorus for 36 times \n",
      "These are the lyrics. you repeat the chorus for 37 times \n",
      "These are the lyrics. you repeat the chorus for 38 times \n",
      "These are the lyrics. you repeat the chorus for 39 times \n",
      "\n"
     ]
    }
   ],
   "source": [
    "#reading files\n",
    "with open(filename,'r') as input_file:\n",
    "    file_content = input_file.read()\n",
    "\n",
    "print(file_content)"
   ]
  },
  {
   "cell_type": "code",
   "execution_count": 8,
   "metadata": {},
   "outputs": [],
   "source": [
    "import os"
   ]
  },
  {
   "cell_type": "code",
   "execution_count": 9,
   "metadata": {},
   "outputs": [],
   "source": [
    "os.chdir('..')"
   ]
  },
  {
   "cell_type": "code",
   "execution_count": 10,
   "metadata": {},
   "outputs": [
    {
     "data": {
      "text/plain": [
       "'/Users/premchandran/Documents/GA/HSBC Data Science'"
      ]
     },
     "execution_count": 10,
     "metadata": {},
     "output_type": "execute_result"
    }
   ],
   "source": [
    "os.getcwd()"
   ]
  },
  {
   "cell_type": "code",
   "execution_count": 11,
   "metadata": {},
   "outputs": [],
   "source": [
    "os.chdir(\"Codes_HSBC_DataScience\")"
   ]
  },
  {
   "cell_type": "code",
   "execution_count": 12,
   "metadata": {},
   "outputs": [
    {
     "data": {
      "text/plain": [
       "'/Users/premchandran/Documents/GA/HSBC Data Science/Codes_HSBC_DataScience'"
      ]
     },
     "execution_count": 12,
     "metadata": {},
     "output_type": "execute_result"
    }
   ],
   "source": [
    "os.getcwd()"
   ]
  },
  {
   "cell_type": "code",
   "execution_count": 13,
   "metadata": {},
   "outputs": [
    {
     "data": {
      "text/plain": [
       "['Python Control Flows.ipynb',\n",
       " 'Sets, More Functions and List Comprehensions.ipynb',\n",
       " 'Homework questions.ipynb',\n",
       " \"Control Flow (cont'd), Try Except and While Flows.ipynb\",\n",
       " 'Try, Except, Functions.ipynb',\n",
       " 'GA.png',\n",
       " 'Python File IO.ipynb',\n",
       " 'README.md',\n",
       " 'Map, Reduce, Filter, Zip.ipynb',\n",
       " 'example.txt',\n",
       " 'Homework 2 - REGEX.ipynb',\n",
       " 'test.txt',\n",
       " '.ipynb_checkpoints',\n",
       " '.git',\n",
       " 'simple.py',\n",
       " 'Assert and Regex.ipynb',\n",
       " 'Variables, Python Data Types.ipynb']"
      ]
     },
     "execution_count": 13,
     "metadata": {},
     "output_type": "execute_result"
    }
   ],
   "source": [
    "os.listdir()"
   ]
  },
  {
   "cell_type": "code",
   "execution_count": 14,
   "metadata": {},
   "outputs": [
    {
     "data": {
      "text/plain": [
       "True"
      ]
     },
     "execution_count": 14,
     "metadata": {},
     "output_type": "execute_result"
    }
   ],
   "source": [
    "filename in os.listdir()"
   ]
  },
  {
   "cell_type": "code",
   "execution_count": 15,
   "metadata": {},
   "outputs": [
    {
     "ename": "NameError",
     "evalue": "Filename already exists!",
     "output_type": "error",
     "traceback": [
      "\u001b[0;31m---------------------------------------------------------------------------\u001b[0m",
      "\u001b[0;31mNameError\u001b[0m                                 Traceback (most recent call last)",
      "\u001b[0;32m/var/folders/l9/swvqvt0552gfk3662mhw83b00000gn/T/ipykernel_30084/1972505948.py\u001b[0m in \u001b[0;36m<module>\u001b[0;34m\u001b[0m\n\u001b[1;32m      2\u001b[0m \u001b[0;34m\u001b[0m\u001b[0m\n\u001b[1;32m      3\u001b[0m \u001b[0;32mif\u001b[0m \u001b[0mfilename\u001b[0m \u001b[0;32min\u001b[0m \u001b[0mos\u001b[0m\u001b[0;34m.\u001b[0m\u001b[0mlistdir\u001b[0m\u001b[0;34m(\u001b[0m\u001b[0;34m)\u001b[0m\u001b[0;34m:\u001b[0m\u001b[0;34m\u001b[0m\u001b[0;34m\u001b[0m\u001b[0m\n\u001b[0;32m----> 4\u001b[0;31m     \u001b[0;32mraise\u001b[0m \u001b[0mNameError\u001b[0m\u001b[0;34m(\u001b[0m\u001b[0;34m\"Filename already exists!\"\u001b[0m\u001b[0;34m)\u001b[0m\u001b[0;34m\u001b[0m\u001b[0;34m\u001b[0m\u001b[0m\n\u001b[0m\u001b[1;32m      5\u001b[0m \u001b[0;34m\u001b[0m\u001b[0m\n\u001b[1;32m      6\u001b[0m \u001b[0;32mwith\u001b[0m \u001b[0mopen\u001b[0m\u001b[0;34m(\u001b[0m\u001b[0mfilename\u001b[0m\u001b[0;34m,\u001b[0m \u001b[0;34m'w'\u001b[0m\u001b[0;34m)\u001b[0m \u001b[0;32mas\u001b[0m \u001b[0mf\u001b[0m\u001b[0;34m:\u001b[0m\u001b[0;34m\u001b[0m\u001b[0;34m\u001b[0m\u001b[0m\n",
      "\u001b[0;31mNameError\u001b[0m: Filename already exists!"
     ]
    }
   ],
   "source": [
    "filename = 'example.txt'\n",
    "\n",
    "if filename in os.listdir():\n",
    "    raise NameError(\"Filename already exists!\")\n",
    "\n",
    "with open(filename, 'w') as f:\n",
    "    f.write(\"Here is a new example with other operations: \\n\")\n",
    "    \n",
    "    n= 5\n",
    "    f.write(\"The value for variable n is: {} \\n\".format(n))\n",
    "    \n",
    "    #even loop through to create a large file!\n",
    "    f.write(\"This is a lyric for a long loop! \\n\")\n",
    "    for i in range(40):\n",
    "        f.write(\"These are the lyrics. you repeat the chorus for {} times \\n\".format(i))"
   ]
  },
  {
   "cell_type": "code",
   "execution_count": null,
   "metadata": {},
   "outputs": [],
   "source": [
    "# reading and writing CSV file => CSV (comma separated values)"
   ]
  },
  {
   "cell_type": "code",
   "execution_count": 16,
   "metadata": {},
   "outputs": [],
   "source": [
    "import csv"
   ]
  },
  {
   "cell_type": "code",
   "execution_count": 17,
   "metadata": {},
   "outputs": [],
   "source": [
    "with open(\"test.csv\", 'w') as f:\n",
    "    writer = csv.writer(f)\n",
    "    writer.writerow(['Year', 'Make', 'Price']) #CSV header\n",
    "    writer.writerow(['2021', 'Proton X70', 'RM 120,000'])\n",
    "    writer.writerow(['2014', 'Mercedes Benz', 'RM 100,000'])"
   ]
  },
  {
   "cell_type": "code",
   "execution_count": 18,
   "metadata": {},
   "outputs": [
    {
     "name": "stdout",
     "output_type": "stream",
     "text": [
      "['Year', 'Make', 'Price']\n",
      "['2021', 'Proton X70', 'RM 120,000']\n",
      "['2014', 'Mercedes Benz', 'RM 100,000']\n"
     ]
    }
   ],
   "source": [
    "with open('test.csv','r') as f:\n",
    "    reader = csv.reader(f)\n",
    "    for i in reader:\n",
    "        print(i)"
   ]
  },
  {
   "cell_type": "code",
   "execution_count": null,
   "metadata": {},
   "outputs": [],
   "source": [
    "\n"
   ]
  }
 ],
 "metadata": {
  "kernelspec": {
   "display_name": "python38",
   "language": "python",
   "name": "python38"
  },
  "language_info": {
   "codemirror_mode": {
    "name": "ipython",
    "version": 3
   },
   "file_extension": ".py",
   "mimetype": "text/x-python",
   "name": "python",
   "nbconvert_exporter": "python",
   "pygments_lexer": "ipython3",
   "version": "3.8.12"
  }
 },
 "nbformat": 4,
 "nbformat_minor": 2
}
