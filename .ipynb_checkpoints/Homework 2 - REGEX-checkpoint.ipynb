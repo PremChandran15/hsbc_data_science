{
 "cells": [
  {
   "cell_type": "markdown",
   "metadata": {},
   "source": [
    "## Question 1 – Disemvowel Trolls\n",
    "Trolls are attacking your comment section!\n",
    "\n",
    "A common way to deal with this situation is to remove all of the vowels from the trolls’ comments, neutralizing the threat.\n",
    "\n",
    "Your task is to write a function that takes a string argument and returns a new string with all vowels removed.\n",
    "\n",
    "For example, the string **“Hello World!”** would become **“Hll Wrld”.**\n",
    "\n",
    "Note: For this problem, ‘y’ is NOT considered a vowel."
   ]
  },
  {
   "cell_type": "code",
   "execution_count": 1,
   "metadata": {},
   "outputs": [],
   "source": [
    "import re"
   ]
  },
  {
   "cell_type": "code",
   "execution_count": 2,
   "metadata": {},
   "outputs": [],
   "source": [
    "pattern_vowels = r'[aeiouAEIOU]'\n",
    "\n",
    "def disemvowel(text):\n",
    "    return re.sub(pattern_vowels,'',text)"
   ]
  },
  {
   "cell_type": "code",
   "execution_count": 3,
   "metadata": {},
   "outputs": [
    {
     "data": {
      "text/plain": [
       "'Ths s  trll n Lvrpl fr nt wnnng th prmr lg'"
      ]
     },
     "execution_count": 3,
     "metadata": {},
     "output_type": "execute_result"
    }
   ],
   "source": [
    "trial = \"This is a troll on Liverpool for not winning the premier league\"\n",
    "\n",
    "disemvowel(trial)"
   ]
  },
  {
   "cell_type": "markdown",
   "metadata": {},
   "source": [
    "## Question 2 – Strong Password Detector\n",
    "Write a function that employs regular expressions to ensure the password given to the function is strong.\n",
    "\n",
    "A strong password is defined as follows:\n",
    "\n",
    "- at least eight characters long\n",
    "- contains one uppercase character\n",
    "- contains one lowercase character\n",
    "- has at least one digit\n",
    "- has at least one special character\n",
    "\n",
    "You may need to test the string against multiple regex patterns to validate its strength.\n",
    "\n"
   ]
  },
  {
   "cell_type": "code",
   "execution_count": 8,
   "metadata": {},
   "outputs": [],
   "source": [
    "def password_detect(password):\n",
    "    #TO DETECT AT LEAST EIGHT CHARACTERS LONG\n",
    "    pattern1 = r'.{8,}'\n",
    "    #TO DETECT AT LEAST ONE UPPERCASE\n",
    "    pattern2 = r'[A-Z]'\n",
    "    #TO DETECT AT LEAST ONE LOWERCASE\n",
    "    pattern3 = r'[a-z]'\n",
    "    #TO DETECT AT LEAST ONE DIGIT\n",
    "    pattern4 = r'\\d'\n",
    "    #TO DETECT AT LEAST ONE SPECIAL CHARACTER\n",
    "    pattern5 = r\"\\W\"\n",
    "    \n",
    "    #if it finds the pattern for any of these, it will return the match, else will return None\n",
    "    at_least_8 = re.search(pattern1,password) \n",
    "    one_uppercase = re.search(pattern2,password)\n",
    "    one_lowercase = re.search(pattern3,password)\n",
    "    one_digit = re.search(pattern4,password)\n",
    "    special_character = re.search(pattern5,password)\n",
    "    \n",
    "    if at_least_8 == None:\n",
    "        print(\"Error: Please have at least 8 characters\")\n",
    "        return False\n",
    "    elif one_uppercase == None:\n",
    "        print(\"Error: Must have at least one uppercase character\")\n",
    "        return False\n",
    "    elif one_lowercase == None:\n",
    "        print(\"Error: Must have at least one lowercase character\")\n",
    "        return False\n",
    "    elif one_digit == None:\n",
    "        print(\"Error: Must have at least one digit\")\n",
    "        return False\n",
    "    elif special_character == None:\n",
    "        print(\"Error: Must have at least one special character\")\n",
    "        return False\n",
    "    else:\n",
    "        return True"
   ]
  },
  {
   "cell_type": "code",
   "execution_count": 12,
   "metadata": {},
   "outputs": [
    {
     "data": {
      "text/plain": [
       "True"
      ]
     },
     "execution_count": 12,
     "metadata": {},
     "output_type": "execute_result"
    }
   ],
   "source": [
    "password_detect(\"ABc12345!\")"
   ]
  },
  {
   "cell_type": "code",
   "execution_count": null,
   "metadata": {},
   "outputs": [],
   "source": []
  },
  {
   "cell_type": "code",
   "execution_count": null,
   "metadata": {},
   "outputs": [],
   "source": []
  }
 ],
 "metadata": {
  "kernelspec": {
   "display_name": "python38",
   "language": "python",
   "name": "python38"
  },
  "language_info": {
   "codemirror_mode": {
    "name": "ipython",
    "version": 3
   },
   "file_extension": ".py",
   "mimetype": "text/x-python",
   "name": "python",
   "nbconvert_exporter": "python",
   "pygments_lexer": "ipython3",
   "version": "3.8.12"
  }
 },
 "nbformat": 4,
 "nbformat_minor": 2
}
