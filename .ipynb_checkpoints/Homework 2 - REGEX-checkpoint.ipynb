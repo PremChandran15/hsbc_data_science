{
 "cells": [
  {
   "cell_type": "markdown",
   "metadata": {},
   "source": [
    "## Question 1 – Disemvowel Trolls\n",
    "Trolls are attacking your comment section!\n",
    "\n",
    "A common way to deal with this situation is to remove all of the vowels from the trolls’ comments, neutralizing the threat.\n",
    "\n",
    "Your task is to write a function that takes a string argument and returns a new string with all vowels removed.\n",
    "\n",
    "For example, the string **“Hello World!”** would become **“Hll Wrld”.**\n",
    "\n",
    "Note: For this problem, ‘y’ is NOT considered a vowel."
   ]
  },
  {
   "cell_type": "code",
   "execution_count": null,
   "metadata": {},
   "outputs": [],
   "source": []
  },
  {
   "cell_type": "markdown",
   "metadata": {},
   "source": [
    "## Question 2 – Strong Password Detector\n",
    "Write a function that employs regular expressions to ensure the password given to the function is strong.\n",
    "\n",
    "A strong password is defined as follows:\n",
    "\n",
    "at least eight characters long\n",
    "contains one uppercase character\n",
    "contains one lowercase character\n",
    "has at least one digit\n",
    "has at least one special character\n",
    "You may need to test the string against multiple regex patterns to validate its strength.\n",
    "\n"
   ]
  },
  {
   "cell_type": "code",
   "execution_count": null,
   "metadata": {},
   "outputs": [],
   "source": []
  },
  {
   "cell_type": "code",
   "execution_count": null,
   "metadata": {},
   "outputs": [],
   "source": []
  },
  {
   "cell_type": "code",
   "execution_count": null,
   "metadata": {},
   "outputs": [],
   "source": []
  },
  {
   "cell_type": "code",
   "execution_count": null,
   "metadata": {},
   "outputs": [],
   "source": []
  }
 ],
 "metadata": {
  "kernelspec": {
   "display_name": "python38",
   "language": "python",
   "name": "python38"
  },
  "language_info": {
   "codemirror_mode": {
    "name": "ipython",
    "version": 3
   },
   "file_extension": ".py",
   "mimetype": "text/x-python",
   "name": "python",
   "nbconvert_exporter": "python",
   "pygments_lexer": "ipython3",
   "version": "3.8.12"
  }
 },
 "nbformat": 4,
 "nbformat_minor": 2
}
