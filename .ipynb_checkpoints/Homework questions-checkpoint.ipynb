{
 "cells": [
  {
   "cell_type": "markdown",
   "metadata": {},
   "source": [
    "## Question 1: Function\n",
    "Write a function that rounds any number given to two decimal places"
   ]
  },
  {
   "cell_type": "code",
   "execution_count": 5,
   "metadata": {},
   "outputs": [],
   "source": [
    "def round_num(num):\n",
    "    num = float(num)\n",
    "    return round(num,2)"
   ]
  },
  {
   "cell_type": "code",
   "execution_count": 10,
   "metadata": {},
   "outputs": [
    {
     "data": {
      "text/plain": [
       "3.14"
      ]
     },
     "execution_count": 10,
     "metadata": {},
     "output_type": "execute_result"
    }
   ],
   "source": [
    "round_num(3.1422)"
   ]
  },
  {
   "cell_type": "code",
   "execution_count": 8,
   "metadata": {},
   "outputs": [],
   "source": [
    "def print_num(num):\n",
    "    print(\"{:.2f}\".format(num)) #string => you cant do any mathematical operation"
   ]
  },
  {
   "cell_type": "code",
   "execution_count": 11,
   "metadata": {},
   "outputs": [
    {
     "name": "stdout",
     "output_type": "stream",
     "text": [
      "3.14\n"
     ]
    }
   ],
   "source": [
    "print_num(3.1422)"
   ]
  },
  {
   "cell_type": "markdown",
   "metadata": {},
   "source": [
    "## Question 2: Function 2\n",
    "How many times does the letter 'w' show up in the string below?\n",
    "\n",
    "```python\n",
    "s = 'twywywtwywbwhsjhwuwshshwuwwwjdjdid'\n",
    "```"
   ]
  },
  {
   "cell_type": "code",
   "execution_count": 12,
   "metadata": {},
   "outputs": [
    {
     "data": {
      "text/plain": [
       "12"
      ]
     },
     "execution_count": 12,
     "metadata": {},
     "output_type": "execute_result"
    }
   ],
   "source": [
    "s = 'twywywtwywbwhsjhwuwshshwuwwwjdjdid'\n",
    "\n",
    "counter = 0\n",
    "\n",
    "for i in s:\n",
    "    if i == 'w':\n",
    "        counter += 1\n",
    "counter"
   ]
  },
  {
   "cell_type": "code",
   "execution_count": 16,
   "metadata": {},
   "outputs": [
    {
     "data": {
      "text/plain": [
       "12"
      ]
     },
     "execution_count": 16,
     "metadata": {},
     "output_type": "execute_result"
    }
   ],
   "source": [
    "s.count('w')"
   ]
  },
  {
   "cell_type": "markdown",
   "metadata": {},
   "source": [
    "## Question 3: Sets and Elements\n",
    "Find the elements in set1 that are not in set2\n",
    "```python\n",
    "set1 = {2,3,1,5,6,8}\n",
    "set2 = {3,1,7,5,6,8}\n",
    "```"
   ]
  },
  {
   "cell_type": "code",
   "execution_count": 17,
   "metadata": {},
   "outputs": [],
   "source": [
    "set1 = {2,3,1,5,6,8}\n",
    "set2 = {3,1,7,5,6,8}"
   ]
  },
  {
   "cell_type": "code",
   "execution_count": 19,
   "metadata": {},
   "outputs": [
    {
     "data": {
      "text/plain": [
       "{2}"
      ]
     },
     "execution_count": 19,
     "metadata": {},
     "output_type": "execute_result"
    }
   ],
   "source": [
    "set1 - set2"
   ]
  },
  {
   "cell_type": "code",
   "execution_count": 20,
   "metadata": {},
   "outputs": [
    {
     "data": {
      "text/plain": [
       "{2}"
      ]
     },
     "execution_count": 20,
     "metadata": {},
     "output_type": "execute_result"
    }
   ],
   "source": [
    "set1.difference(set2)"
   ]
  },
  {
   "cell_type": "markdown",
   "metadata": {},
   "source": [
    "## Question 4: Dictionary Comprehension\n",
    "Create this dictionary: {0: 0, 1: 1, 2: 8, 3: 27, 4: 64} using dictionary comprehension."
   ]
  },
  {
   "cell_type": "code",
   "execution_count": 22,
   "metadata": {},
   "outputs": [
    {
     "data": {
      "text/plain": [
       "{0: 0, 1: 1, 2: 8, 3: 27, 4: 64}"
      ]
     },
     "execution_count": 22,
     "metadata": {},
     "output_type": "execute_result"
    }
   ],
   "source": [
    "{x:x**3 for x in range(5)}"
   ]
  },
  {
   "cell_type": "code",
   "execution_count": 23,
   "metadata": {},
   "outputs": [
    {
     "data": {
      "text/plain": [
       "{0: 0, 1: 1, 2: 8, 3: 27, 4: 64}"
      ]
     },
     "execution_count": 23,
     "metadata": {},
     "output_type": "execute_result"
    }
   ],
   "source": [
    "empty = {}\n",
    "for x in range(5):\n",
    "    empty[x] = x**3\n",
    "\n",
    "empty"
   ]
  },
  {
   "cell_type": "markdown",
   "metadata": {},
   "source": [
    "## Question 5: Temperature conversion\n",
    "\n",
    "\n",
    "\n",
    "Write a function that take a deg C or Deg F and scale as input and returns what kind of temperature. The temperature grade in Kelvin scale is\n",
    "\n",
    "<ul>\n",
    "<li>temperature > 299: Too hot</li>\n",
    "<li>temperature less than equal to 299 and greater than 288: It's just right! </li>\n",
    "<li>temperature less than and equal to 288 and greater than 277: It's pretty cold!</li>\n",
    "    <li> Temp less than 277: its freezing </li>\n",
    "</ul>\n",
    "\n",
    "\n",
    "The formulas to use:\n",
    "<ul>\n",
    "<li>Celsius to Kelvin : K = °C + 273</li>\n",
    "<li>Fahrenheit to Kelvin : K = (5/9) * (°F - 32) + 273</li>\n",
    "</ul>\n"
   ]
  },
  {
   "cell_type": "code",
   "execution_count": 24,
   "metadata": {},
   "outputs": [],
   "source": [
    "def convert_temp(temp, scale):\n",
    "    '''\n",
    "    input params:\n",
    "    temp = temperature as a number\n",
    "    scale = F/C stands for either Farenheit or Celcius\n",
    "    '''\n",
    "    if scale == 'F':\n",
    "        kelvin = (5/9) * (temp-32) + 273\n",
    "    else:\n",
    "        kelvin = temp + 273\n",
    "    \n",
    "    #Probably store this in another function\n",
    "    if kelvin > 299:\n",
    "        return 'Too Hot'\n",
    "    elif kelvin <= 299 and kelvin > 288:\n",
    "        return \"It's just right\"\n",
    "    elif kelvin <= 288 and kelvin > 277:\n",
    "        return \"It's pretty cold\"\n",
    "    else:\n",
    "        return \"It's freezing\"\n",
    "            "
   ]
  },
  {
   "cell_type": "code",
   "execution_count": 29,
   "metadata": {},
   "outputs": [
    {
     "data": {
      "text/plain": [
       "\"It's pretty cold\""
      ]
     },
     "execution_count": 29,
     "metadata": {},
     "output_type": "execute_result"
    }
   ],
   "source": [
    "convert_temp(50, \"F\")"
   ]
  },
  {
   "cell_type": "markdown",
   "metadata": {},
   "source": [
    "## Question 6 (BONUS): Usage of iteration tools => You should Google this\n",
    "Use the tuple below to get an output like:\n",
    "\n",
    "        ANIMAL\n",
    "        wolf is a type of animal\n",
    "        sparrow is a type of animal\n",
    "\n",
    "        PLANT\n",
    "        cactus is a type of plant\n",
    "\n",
    "        VEHICLE\n",
    "        yacht is a type of vehicle\n",
    "        school bus is a type of vehicle\n",
    "        car is a type of vehicle\n",
    "\n",
    "\n",
    "```python\n",
    "things_tuple = [(\"animal\", \"wolf\"), (\"animal\", \"sparrow\"), (\"plant\", \"cactus\"), \n",
    "                (\"vehicle\", \"yacht\"), (\"vehicle\", \"school bus\"), (\"vehicle\", \"car\")]\n",
    "\n",
    "# Output should look like the one above, printed in console\n",
    "\n",
    "```"
   ]
  },
  {
   "cell_type": "code",
   "execution_count": 31,
   "metadata": {},
   "outputs": [],
   "source": [
    "import operator\n",
    "import itertools"
   ]
  },
  {
   "cell_type": "code",
   "execution_count": 47,
   "metadata": {},
   "outputs": [
    {
     "data": {
      "text/plain": [
       "['animal', 'plant', 'vehicle']"
      ]
     },
     "execution_count": 47,
     "metadata": {},
     "output_type": "execute_result"
    }
   ],
   "source": [
    "example_tuple = ('plant','animal', 'vehicle')\n",
    "sorted(example_tuple)"
   ]
  },
  {
   "cell_type": "code",
   "execution_count": 48,
   "metadata": {},
   "outputs": [
    {
     "data": {
      "text/plain": [
       "[('animal', 'sparrow'),\n",
       " ('animal', 'wolf'),\n",
       " ('plant', 'cactus'),\n",
       " ('vehicle', 'car'),\n",
       " ('vehicle', 'school bus'),\n",
       " ('vehicle', 'yacht')]"
      ]
     },
     "execution_count": 48,
     "metadata": {},
     "output_type": "execute_result"
    }
   ],
   "source": [
    "sorted(things_tuple)"
   ]
  },
  {
   "cell_type": "code",
   "execution_count": 45,
   "metadata": {},
   "outputs": [
    {
     "data": {
      "text/plain": [
       "\"\\n[('animal',('wolf','sparrow')),\\n('plant',('cactus')),\\n('vehicle',('yacht','school bus', 'car'))]\\n\""
      ]
     },
     "execution_count": 45,
     "metadata": {},
     "output_type": "execute_result"
    }
   ],
   "source": [
    "things_tuple = [(\"animal\", \"wolf\"), (\"animal\", \"sparrow\"), (\"plant\", \"cactus\"), \n",
    "                (\"vehicle\", \"yacht\"), (\"vehicle\", \"school bus\"), (\"vehicle\", \"car\")]\n",
    "\n",
    "#sorted => sorts things tuple from A-Z, looking at tuple_index[0] => operator.itemgetter[0]\n",
    "#groupby => groups things_tuple by tuple_index[0] => operator.itemgetter[0]\n",
    "sort_values = itertools.groupby(sorted(things_tuple, key = operator.itemgetter(0)),operator.itemgetter(0))\n",
    "\n",
    "#sort_values\n",
    "'''\n",
    "[('animal',('wolf','sparrow')),\n",
    "('plant',('cactus')),\n",
    "('vehicle',('yacht','school bus', 'car'))]\n",
    "'''\n"
   ]
  },
  {
   "cell_type": "code",
   "execution_count": 46,
   "metadata": {},
   "outputs": [
    {
     "name": "stdout",
     "output_type": "stream",
     "text": [
      "ANIMAL\n",
      "wolf is a type of animal\n",
      "sparrow is a type of animal\n",
      "\n",
      "\n",
      "PLANT\n",
      "cactus is a type of plant\n",
      "\n",
      "\n",
      "VEHICLE\n",
      "yacht is a type of vehicle\n",
      "school bus is a type of vehicle\n",
      "car is a type of vehicle\n",
      "\n",
      "\n"
     ]
    }
   ],
   "source": [
    "#loop through sort_values which is technically a sorted tuple stored as generators\n",
    "for k,v in sort_values:\n",
    "    print(k.upper())\n",
    "    for item in v:\n",
    "        print(\"{} is a type of {}\".format(item[1],k))\n",
    "    print('\\n') #prints new line"
   ]
  },
  {
   "cell_type": "code",
   "execution_count": null,
   "metadata": {},
   "outputs": [],
   "source": []
  }
 ],
 "metadata": {
  "kernelspec": {
   "display_name": "python38",
   "language": "python",
   "name": "python38"
  },
  "language_info": {
   "codemirror_mode": {
    "name": "ipython",
    "version": 3
   },
   "file_extension": ".py",
   "mimetype": "text/x-python",
   "name": "python",
   "nbconvert_exporter": "python",
   "pygments_lexer": "ipython3",
   "version": "3.8.12"
  }
 },
 "nbformat": 4,
 "nbformat_minor": 2
}
