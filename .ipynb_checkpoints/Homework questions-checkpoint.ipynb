{
 "cells": [
  {
   "cell_type": "markdown",
   "metadata": {},
   "source": [
    "## Question 1: Function\n",
    "Write a function that rounds any number given to two decimal places"
   ]
  },
  {
   "cell_type": "code",
   "execution_count": null,
   "metadata": {},
   "outputs": [],
   "source": []
  },
  {
   "cell_type": "markdown",
   "metadata": {},
   "source": [
    "## Question 2: Function 2\n",
    "How many times does the letter 'w' show up in the string below?\n",
    "\n",
    "```python\n",
    "s = 'twywywtwywbwhsjhwuwshshwuwwwjdjdid'\n",
    "```"
   ]
  },
  {
   "cell_type": "code",
   "execution_count": null,
   "metadata": {},
   "outputs": [],
   "source": []
  },
  {
   "cell_type": "markdown",
   "metadata": {},
   "source": [
    "## Question 3: Sets and Elements\n",
    "Find the elements in set1 that are not in set2\n",
    "```python\n",
    "set1 = {2,3,1,5,6,8}\n",
    "set2 = {3,1,7,5,6,8}\n",
    "```"
   ]
  },
  {
   "cell_type": "code",
   "execution_count": null,
   "metadata": {},
   "outputs": [],
   "source": []
  },
  {
   "cell_type": "markdown",
   "metadata": {},
   "source": [
    "## Question 4: Dictionary Comprehension\n",
    "Create this dictionary: {0: 0, 1: 1, 2: 8, 3: 27, 4: 64} using dictionary comprehension."
   ]
  },
  {
   "cell_type": "code",
   "execution_count": null,
   "metadata": {},
   "outputs": [],
   "source": []
  },
  {
   "cell_type": "markdown",
   "metadata": {},
   "source": [
    "## Question 5: Temperature conversion\n",
    "\n",
    "\n",
    "\n",
    "Write a function that take a deg C or Deg F and scale as input and returns what kind of temperature. The temperature grade in Kelvin scale is\n",
    "\n",
    "<ul>\n",
    "<li>temperature > 299: Too hot</li>\n",
    "<li>temperature less than equal to 299 and greater than 288: It's just right! </li>\n",
    "<li>temperature less than and equal to 288 and greater than 277: It's pretty cold!</li>\n",
    "    <li> Temp less than 277: its freezing </li>\n",
    "</ul>\n",
    "\n",
    "\n",
    "The formulas to use:\n",
    "<ul>\n",
    "<li>Celsius to Kelvin : K = °C + 273</li>\n",
    "<li>Fahrenheit to Kelvin : K = (5/9) * (°F - 32) + 273</li>\n",
    "</ul>\n"
   ]
  },
  {
   "cell_type": "code",
   "execution_count": null,
   "metadata": {},
   "outputs": [],
   "source": []
  },
  {
   "cell_type": "markdown",
   "metadata": {},
   "source": [
    "## Question 6 (BONUS): Usage of iteration tools => You should Google this\n",
    "Use the tuple below to get an output like:\n",
    "\n",
    "        ANIMAL\n",
    "        wolf is a type of animal\n",
    "        sparrow is a type of animal\n",
    "\n",
    "        PLANT\n",
    "        cactus is a type of plant\n",
    "\n",
    "        VEHICLE\n",
    "        yacht is a type of vehicle\n",
    "        school bus is a type of vehicle\n",
    "        car is a type of vehicle\n",
    "\n",
    "\n",
    "```python\n",
    "things_tuple = [(\"animal\", \"wolf\"), (\"animal\", \"sparrow\"), (\"plant\", \"cactus\"), \n",
    "                (\"vehicle\", \"yacht\"), (\"vehicle\", \"school bus\"), (\"vehicle\", \"car\")]\n",
    "\n",
    "# Output should look like the one above, printed in console\n",
    "\n",
    "```"
   ]
  },
  {
   "cell_type": "code",
   "execution_count": null,
   "metadata": {},
   "outputs": [],
   "source": []
  }
 ],
 "metadata": {
  "kernelspec": {
   "display_name": "python38",
   "language": "python",
   "name": "python38"
  },
  "language_info": {
   "codemirror_mode": {
    "name": "ipython",
    "version": 3
   },
   "file_extension": ".py",
   "mimetype": "text/x-python",
   "name": "python",
   "nbconvert_exporter": "python",
   "pygments_lexer": "ipython3",
   "version": "3.8.12"
  }
 },
 "nbformat": 4,
 "nbformat_minor": 2
}
