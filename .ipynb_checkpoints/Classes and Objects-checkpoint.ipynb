{
 "cells": [
  {
   "cell_type": "code",
   "execution_count": 7,
   "metadata": {},
   "outputs": [],
   "source": [
    "#Everything in Python is an object\n",
    "string = \"This is an example\"\n",
    "string2 = str()\n"
   ]
  },
  {
   "cell_type": "code",
   "execution_count": 2,
   "metadata": {},
   "outputs": [
    {
     "data": {
      "text/plain": [
       "'THIS IS AN EXAMPLE'"
      ]
     },
     "execution_count": 2,
     "metadata": {},
     "output_type": "execute_result"
    }
   ],
   "source": [
    "#In this example, string is an object of the Str class, and upper() is a method within the str class\n",
    "string.upper()"
   ]
  },
  {
   "cell_type": "code",
   "execution_count": 5,
   "metadata": {},
   "outputs": [
    {
     "name": "stdout",
     "output_type": "stream",
     "text": [
      "<class '__main__.Sample'>\n"
     ]
    }
   ],
   "source": [
    "#using class keyword to create a new class\n",
    "class Sample():\n",
    "    #This class does nothing\n",
    "    pass\n",
    "\n",
    "#instance of Sample class\n",
    "x = Sample()\n",
    "\n",
    "print (type(x))"
   ]
  },
  {
   "cell_type": "markdown",
   "metadata": {},
   "source": [
    "By convention we give classes a name that starts with a capital letter. Note how x is now the reference to our new instance of a Sample class. In other words, we **instantiate** the Sample class.\n",
    "\n",
    "Inside of the class we currently just have pass. But we can define class attributes and methods.\n",
    "\n",
    "An **attribute** is a characteristic of an object.\n",
    "A **method** is an operation we can perform with the object.\n",
    "\n",
    "For example we can create a class called Dog. An attribute of a dog may be its breed or its name, while a method of a dog may be defined by a .bark() method which returns a sound.\n",
    "\n",
    "Let's get a better understanding of attributes through an example.\n",
    "\n",
    "## Attributes\n",
    "The syntax for creating an attribute is:\n",
    "    \n",
    "    self.attribute = something\n",
    "    \n",
    "There is a special method called:\n",
    "\n",
    "    __init__()\n",
    "\n",
    "This method is used to initialize the attributes of an object. For example:\n",
    "\n",
    "### Naming conventions:\n",
    "The usual practice:\n",
    "\n",
    "classes - the Name_of_class begins with a capitalized letter\n",
    "<br>\n",
    "function - the name_of_function begins with small letter"
   ]
  },
  {
   "cell_type": "code",
   "execution_count": 9,
   "metadata": {},
   "outputs": [],
   "source": [
    "class Dog(object):\n",
    "    def __init__(self,breed):\n",
    "        #This is dog's attribute\n",
    "        self.breed = breed\n",
    "    \n",
    "    #This is dog's method\n",
    "    def bark(self):\n",
    "        print(\"The dog with breed: {} barks 20 times\".format(self.breed))"
   ]
  },
  {
   "cell_type": "code",
   "execution_count": 10,
   "metadata": {},
   "outputs": [],
   "source": [
    "#instantiate the dog breed\n",
    "sam = Dog('Rotweiler')\n",
    "frank = Dog('Labrador')"
   ]
  },
  {
   "cell_type": "code",
   "execution_count": 11,
   "metadata": {},
   "outputs": [
    {
     "data": {
      "text/plain": [
       "'Rotweiler'"
      ]
     },
     "execution_count": 11,
     "metadata": {},
     "output_type": "execute_result"
    }
   ],
   "source": [
    "sam.breed #property of the class/ attribute of the class"
   ]
  },
  {
   "cell_type": "code",
   "execution_count": 12,
   "metadata": {},
   "outputs": [
    {
     "ename": "TypeError",
     "evalue": "'str' object is not callable",
     "output_type": "error",
     "traceback": [
      "\u001b[0;31m---------------------------------------------------------------------------\u001b[0m",
      "\u001b[0;31mTypeError\u001b[0m                                 Traceback (most recent call last)",
      "\u001b[0;32m/var/folders/l9/swvqvt0552gfk3662mhw83b00000gn/T/ipykernel_30305/2455910379.py\u001b[0m in \u001b[0;36m<module>\u001b[0;34m\u001b[0m\n\u001b[1;32m      1\u001b[0m \u001b[0;31m#cannot have parentheses on an attribute\u001b[0m\u001b[0;34m\u001b[0m\u001b[0;34m\u001b[0m\u001b[0;34m\u001b[0m\u001b[0m\n\u001b[0;32m----> 2\u001b[0;31m \u001b[0msam\u001b[0m\u001b[0;34m.\u001b[0m\u001b[0mbreed\u001b[0m\u001b[0;34m(\u001b[0m\u001b[0;34m)\u001b[0m\u001b[0;34m\u001b[0m\u001b[0;34m\u001b[0m\u001b[0m\n\u001b[0m",
      "\u001b[0;31mTypeError\u001b[0m: 'str' object is not callable"
     ]
    }
   ],
   "source": [
    "#cannot have parentheses on an attribute\n",
    "sam.breed()"
   ]
  },
  {
   "cell_type": "code",
   "execution_count": 13,
   "metadata": {},
   "outputs": [
    {
     "data": {
      "text/plain": [
       "<bound method Dog.bark of <__main__.Dog object at 0x7ff9d510b670>>"
      ]
     },
     "execution_count": 13,
     "metadata": {},
     "output_type": "execute_result"
    }
   ],
   "source": [
    "sam.bark"
   ]
  },
  {
   "cell_type": "code",
   "execution_count": 14,
   "metadata": {},
   "outputs": [
    {
     "name": "stdout",
     "output_type": "stream",
     "text": [
      "The dog with breed: Rotweiler barks 20 times\n"
     ]
    }
   ],
   "source": [
    "#Everytime you want a method or a function to work, you must use it with parentheses\n",
    "sam.bark() #method of the class"
   ]
  },
  {
   "cell_type": "code",
   "execution_count": 15,
   "metadata": {},
   "outputs": [
    {
     "name": "stdout",
     "output_type": "stream",
     "text": [
      "The dog with breed: Labrador barks 20 times\n"
     ]
    }
   ],
   "source": [
    "frank.bark()"
   ]
  },
  {
   "cell_type": "code",
   "execution_count": 16,
   "metadata": {},
   "outputs": [],
   "source": [
    "# Lets build a class called Circle\n",
    "import math\n",
    "\n",
    "class Circle():\n",
    "    pi = math.pi\n",
    "    \n",
    "    def __init__(self, radius = 2): #specifying a default variable when initializing object\n",
    "        self.radius = radius\n",
    "    \n",
    "    def area(self):\n",
    "        return self.pi*self.radius**2\n",
    "    \n",
    "    def circumference(self):\n",
    "        return 2*self.pi*self.radius\n",
    "    \n",
    "    def get_radius(self):\n",
    "        return self.radius"
   ]
  },
  {
   "cell_type": "code",
   "execution_count": 23,
   "metadata": {},
   "outputs": [],
   "source": [
    "c = Circle(radius = 4)"
   ]
  },
  {
   "cell_type": "code",
   "execution_count": 24,
   "metadata": {},
   "outputs": [
    {
     "data": {
      "text/plain": [
       "4"
      ]
     },
     "execution_count": 24,
     "metadata": {},
     "output_type": "execute_result"
    }
   ],
   "source": [
    "c.get_radius()"
   ]
  },
  {
   "cell_type": "code",
   "execution_count": 25,
   "metadata": {},
   "outputs": [
    {
     "data": {
      "text/plain": [
       "3.141592653589793"
      ]
     },
     "execution_count": 25,
     "metadata": {},
     "output_type": "execute_result"
    }
   ],
   "source": [
    "c.pi"
   ]
  },
  {
   "cell_type": "code",
   "execution_count": 26,
   "metadata": {},
   "outputs": [
    {
     "data": {
      "text/plain": [
       "4"
      ]
     },
     "execution_count": 26,
     "metadata": {},
     "output_type": "execute_result"
    }
   ],
   "source": [
    "c.radius"
   ]
  },
  {
   "cell_type": "code",
   "execution_count": 27,
   "metadata": {},
   "outputs": [
    {
     "data": {
      "text/plain": [
       "25.132741228718345"
      ]
     },
     "execution_count": 27,
     "metadata": {},
     "output_type": "execute_result"
    }
   ],
   "source": [
    "c.circumference()"
   ]
  },
  {
   "cell_type": "code",
   "execution_count": 28,
   "metadata": {},
   "outputs": [
    {
     "data": {
      "text/plain": [
       "50.26548245743669"
      ]
     },
     "execution_count": 28,
     "metadata": {},
     "output_type": "execute_result"
    }
   ],
   "source": [
    "c.area()"
   ]
  },
  {
   "cell_type": "markdown",
   "metadata": {},
   "source": [
    "## Inheritance"
   ]
  },
  {
   "cell_type": "code",
   "execution_count": 5,
   "metadata": {},
   "outputs": [],
   "source": [
    "#can either just leave it as it is after the name or have (Object) after the name\n",
    "class Phone:\n",
    "    def __init__(self, phone_num):\n",
    "        self.phone_num = phone_num\n",
    "        print(\"Phone Class\")\n",
    "        \n",
    "    def call(self, other_number):\n",
    "        print(\"Calling {} from {}\".format(self.phone_num, other_number))\n",
    "        \n",
    "    def text(self, other_num, msg):\n",
    "        print(\"Sending message from {} to {}\".format(self.phone_num, other_num))\n",
    "        print(msg)"
   ]
  },
  {
   "cell_type": "code",
   "execution_count": 6,
   "metadata": {},
   "outputs": [
    {
     "name": "stdout",
     "output_type": "stream",
     "text": [
      "Phone Class\n"
     ]
    }
   ],
   "source": [
    "test_phone = Phone(1234)"
   ]
  },
  {
   "cell_type": "code",
   "execution_count": 7,
   "metadata": {},
   "outputs": [
    {
     "data": {
      "text/plain": [
       "__main__.Phone"
      ]
     },
     "execution_count": 7,
     "metadata": {},
     "output_type": "execute_result"
    }
   ],
   "source": [
    "type(test_phone)"
   ]
  },
  {
   "cell_type": "code",
   "execution_count": 8,
   "metadata": {},
   "outputs": [
    {
     "name": "stdout",
     "output_type": "stream",
     "text": [
      "Calling 1234 from 2341\n"
     ]
    }
   ],
   "source": [
    "test_phone.call(2341)"
   ]
  },
  {
   "cell_type": "code",
   "execution_count": 10,
   "metadata": {},
   "outputs": [
    {
     "name": "stdout",
     "output_type": "stream",
     "text": [
      "Sending message from 1234 to 2345\n",
      "Hello There!\n"
     ]
    }
   ],
   "source": [
    "test_phone.text(2345, \"Hello There!\")"
   ]
  },
  {
   "cell_type": "code",
   "execution_count": 11,
   "metadata": {},
   "outputs": [],
   "source": [
    "#build iPhone class which inherits from Phone class\n",
    "class Iphone(Phone):\n",
    "    def __init__(self,phone_num):\n",
    "        super().__init__(phone_num) #super class = Parent class (Phone)\n",
    "        print(\"Iphone Class\")\n",
    "        \n",
    "        self.fingerprint = None\n",
    "    \n",
    "    #setter method => sets value of a class property\n",
    "    def set_fingerprint(self, fingerprint):\n",
    "        self.fingerprint = fingerprint\n",
    "    \n",
    "    #getter method\n",
    "    def get_fingerprint(self):\n",
    "        return self.fingerprint\n",
    "    \n",
    "    def unlock(self, new_fingerprint = None):\n",
    "        if self.fingerprint == None:\n",
    "            print(\"No unlocking needed. The phone is unlocked\")\n",
    "        elif new_fingerprint == self.fingerprint:\n",
    "            print(\"The phone is unlocked by the fingerprint. Fingerprint matches!\")\n",
    "        else:\n",
    "            print(\"The fingerprint does not match. The phone is locked!\")"
   ]
  },
  {
   "cell_type": "code",
   "execution_count": 12,
   "metadata": {},
   "outputs": [
    {
     "name": "stdout",
     "output_type": "stream",
     "text": [
      "Phone Class\n",
      "Iphone Class\n"
     ]
    }
   ],
   "source": [
    "prem_iphone = Iphone(2102)"
   ]
  },
  {
   "cell_type": "code",
   "execution_count": 13,
   "metadata": {},
   "outputs": [
    {
     "name": "stdout",
     "output_type": "stream",
     "text": [
      "Calling 2102 from 1234\n"
     ]
    }
   ],
   "source": [
    "prem_iphone.call(1234)"
   ]
  },
  {
   "cell_type": "code",
   "execution_count": 14,
   "metadata": {},
   "outputs": [
    {
     "name": "stdout",
     "output_type": "stream",
     "text": [
      "No unlocking needed. The phone is unlocked\n"
     ]
    }
   ],
   "source": [
    "prem_iphone.unlock()"
   ]
  },
  {
   "cell_type": "code",
   "execution_count": 15,
   "metadata": {},
   "outputs": [],
   "source": [
    "prem_iphone.set_fingerprint(\"acABF123\")"
   ]
  },
  {
   "cell_type": "code",
   "execution_count": 17,
   "metadata": {},
   "outputs": [
    {
     "name": "stdout",
     "output_type": "stream",
     "text": [
      "The phone is unlocked by the fingerprint. Fingerprint matches!\n"
     ]
    }
   ],
   "source": [
    "prem_iphone.unlock(new_fingerprint='acABF123')"
   ]
  },
  {
   "cell_type": "code",
   "execution_count": 18,
   "metadata": {},
   "outputs": [],
   "source": [
    "class Android(Iphone):\n",
    "    def __init__(self,phone_num):\n",
    "        super().__init__(phone_num) #super class = Parent class (Phone)\n",
    "        print(\"Android Class\")\n",
    "        \n",
    "        self.faceid = None \n",
    "    \n",
    "    #setter method => sets value of a class property\n",
    "    def set_faceid(self, faceid):\n",
    "        self.faceid = faceid\n",
    "    \n",
    "    #getter method\n",
    "    def get_faceid(self):\n",
    "        return self.faceid\n",
    "    \n",
    "    def unlock(self, new_faceid = None):\n",
    "        if self.faceid == None:\n",
    "            print(\"No unlocking needed. The phone is unlocked\")\n",
    "        elif new_faceid == self.faceid:\n",
    "            print(\"The phone is unlocked by the fingerprint. Fingerprint matches!\")\n",
    "        else:\n",
    "            print(\"The fingerprint does not match. The phone is locked!\")"
   ]
  },
  {
   "cell_type": "code",
   "execution_count": 19,
   "metadata": {},
   "outputs": [
    {
     "name": "stdout",
     "output_type": "stream",
     "text": [
      "Phone Class\n",
      "Iphone Class\n",
      "Android Class\n"
     ]
    }
   ],
   "source": [
    "joyce_android = Android(7811)"
   ]
  },
  {
   "cell_type": "code",
   "execution_count": 21,
   "metadata": {},
   "outputs": [],
   "source": [
    "# Question1: Create a Cylinder class that has methods to find surface area and volume\n",
    "# surface_area = 2*pi*rad*height; volume= pi*rad**2 *height\n",
    "import math"
   ]
  },
  {
   "cell_type": "code",
   "execution_count": 32,
   "metadata": {},
   "outputs": [],
   "source": [
    "class Cylinder:\n",
    "    def __init__(self,rad=3, height=5):\n",
    "        #anything that is of self. something is known as the class variables\n",
    "        self.rad = rad\n",
    "        self.height = height\n",
    "        self.pi = math.pi\n",
    "        \n",
    "    def surface_area(self):\n",
    "        return 2*math.pi*self.rad*self.height\n",
    "    \n",
    "    def volume(self):\n",
    "        return math.pi*self.rad**2*self.height\n",
    "    \n",
    "    def print_pi(self,message):\n",
    "        print(\"This is the message: {} for the Cylinder with rad {}\".format(message,self.rad ))"
   ]
  },
  {
   "cell_type": "code",
   "execution_count": 33,
   "metadata": {},
   "outputs": [],
   "source": [
    "c2 = Cylinder()"
   ]
  },
  {
   "cell_type": "code",
   "execution_count": 34,
   "metadata": {},
   "outputs": [
    {
     "data": {
      "text/plain": [
       "94.24777960769379"
      ]
     },
     "execution_count": 34,
     "metadata": {},
     "output_type": "execute_result"
    }
   ],
   "source": [
    "c2.surface_area()"
   ]
  },
  {
   "cell_type": "code",
   "execution_count": 35,
   "metadata": {},
   "outputs": [
    {
     "data": {
      "text/plain": [
       "141.3716694115407"
      ]
     },
     "execution_count": 35,
     "metadata": {},
     "output_type": "execute_result"
    }
   ],
   "source": [
    "c2.volume()"
   ]
  },
  {
   "cell_type": "code",
   "execution_count": 36,
   "metadata": {},
   "outputs": [
    {
     "name": "stdout",
     "output_type": "stream",
     "text": [
      "This is the message: Hello for the Cylinder with rad 3\n"
     ]
    }
   ],
   "source": [
    "c2.print_pi(message=\"Hello\")"
   ]
  },
  {
   "cell_type": "markdown",
   "metadata": {},
   "source": [
    "### Question 2: Kingdom, Phylum, CLASS!\n",
    "Skills you're practicing: Making classes and creating instances.\n",
    "Let's create a class. Remember a class is a pattern for an object. In this case, we will create an Animal class that will be able to generate any number of animal instances with the same properties.\n",
    "\n",
    "Create an Animal class.\n",
    "- When an animal is created, print I am coming to life!.\n",
    "- Animals keep track of their current energy as an integer (this is assigned as a class instance variable).\n",
    "- Animals have an eat() method, which takes one numerical argument, amount, and increases the energy by amount.\n",
    "- Animals have a say_hi() method that prints Meep!.\n",
    "- Animals have a move() method, which depletes the energy by 10 and prints the statement I am running!.\n",
    "- Animals have a get_status() method, which prints the current energy level as well as a message about their energy state. If the energy level is:\n",
    "    - Below 0: Print I'm starving!.\n",
    "    - Between 0 and 50: Print I'm getting hungry!.\n",
    "    - Between 50 and 100: Print I'm happily full..\n",
    "    - Above 100: Print I'm feeling stuffed!.\n",
    "- Animals are created with a default energy of 50.\n"
   ]
  },
  {
   "cell_type": "code",
   "execution_count": 52,
   "metadata": {},
   "outputs": [],
   "source": [
    "class Animal:\n",
    "    def __init__(self):\n",
    "        self.energy = 50\n",
    "        print(\"I am coming to life!\")\n",
    "        \n",
    "    def eat(self, amount):\n",
    "        self.energy += amount\n",
    "    \n",
    "    def say_hi(self):\n",
    "        print('Meep!')\n",
    "    \n",
    "    def move(self):\n",
    "        self.energy -= 10\n",
    "        print(\"I am running!\")\n",
    "        \n",
    "    def get_status(self):\n",
    "        print(\"My current energy is {}\".format(self.energy))\n",
    "        if self.energy <0:\n",
    "            print(\"I am starving\")\n",
    "        elif self.energy >= 0 and self.energy <50:\n",
    "            print(\"I am getting hungry\")\n",
    "        elif self.energy >= 50 and self.energy <100:\n",
    "            print(\"I am happily full\")\n",
    "        elif self.energy >= 100:\n",
    "            print (\"I am stuffed\")\n",
    "        else:\n",
    "            print(\"Not valid\")"
   ]
  },
  {
   "cell_type": "code",
   "execution_count": 47,
   "metadata": {},
   "outputs": [
    {
     "name": "stdout",
     "output_type": "stream",
     "text": [
      "I am coming to life!\n"
     ]
    }
   ],
   "source": [
    "first_animal = Animal()"
   ]
  },
  {
   "cell_type": "code",
   "execution_count": 48,
   "metadata": {},
   "outputs": [
    {
     "name": "stdout",
     "output_type": "stream",
     "text": [
      "My current energy is 50\n",
      "I am happily full\n"
     ]
    }
   ],
   "source": [
    "first_animal.get_status()"
   ]
  },
  {
   "cell_type": "code",
   "execution_count": 41,
   "metadata": {},
   "outputs": [],
   "source": [
    "first_animal.eat(55)"
   ]
  },
  {
   "cell_type": "code",
   "execution_count": 42,
   "metadata": {},
   "outputs": [
    {
     "name": "stdout",
     "output_type": "stream",
     "text": [
      "My current energy is 105\n",
      "I am stuffed\n"
     ]
    }
   ],
   "source": [
    "first_animal.get_status()"
   ]
  },
  {
   "cell_type": "code",
   "execution_count": null,
   "metadata": {},
   "outputs": [],
   "source": []
  },
  {
   "cell_type": "code",
   "execution_count": null,
   "metadata": {},
   "outputs": [],
   "source": []
  },
  {
   "cell_type": "markdown",
   "metadata": {},
   "source": [
    "### Question 3 : Fly Like an Eagle\n",
    "Skill you're practicing: Using inheritance.\n",
    "Let's practice writing classes and using inheritance by modeling different types of animals. Use your Animal class as the parent class from which your new classes, Penguin and Eagle, will inherit.\n",
    "\n",
    "- Create a Penguin class that inherits from Animal.\n",
    "    - Penguins are created with an energy level of 100.\n",
    "    - Penguins shout, I am a penguin! when they are are created.\n",
    "    - A Penguin's move() method depletes the energy by 5 and prints I am sliding!.\n",
    "- Create an Eagle class that inherits from Animal.\n",
    "    - An Eagle begins its life with an energy level of 20.\n",
    "    - Eagles shout, I am an eagle! when they are are created.\n",
    "    - An Eagle's move() method depletes the energy by 20 and prints I am flying to the sea!.\n",
    "    - An Eagles say_hi() method prints shrieeeeeek!.\n",
    "    - Eagles cannot move if their energy is less than 0. Instead print I'm too tired to fly…."
   ]
  },
  {
   "cell_type": "code",
   "execution_count": 53,
   "metadata": {},
   "outputs": [],
   "source": [
    "class Penguin(Animal):\n",
    "    def __init__(self):\n",
    "        super().__init__()\n",
    "        self.energy = 100\n",
    "        print(\"I am a penguin!\")\n",
    "    \n",
    "    def move(self):\n",
    "        self.energy -= 5\n",
    "        print(\"I am sliding!\")"
   ]
  },
  {
   "cell_type": "code",
   "execution_count": 54,
   "metadata": {},
   "outputs": [
    {
     "name": "stdout",
     "output_type": "stream",
     "text": [
      "I am coming to life!\n",
      "I am a penguin!\n"
     ]
    }
   ],
   "source": [
    "penguin = Penguin()"
   ]
  },
  {
   "cell_type": "code",
   "execution_count": 55,
   "metadata": {},
   "outputs": [
    {
     "data": {
      "text/plain": [
       "100"
      ]
     },
     "execution_count": 55,
     "metadata": {},
     "output_type": "execute_result"
    }
   ],
   "source": [
    "penguin.energy"
   ]
  },
  {
   "cell_type": "code",
   "execution_count": 56,
   "metadata": {},
   "outputs": [
    {
     "name": "stdout",
     "output_type": "stream",
     "text": [
      "I am sliding!\n"
     ]
    }
   ],
   "source": [
    "penguin.move()"
   ]
  },
  {
   "cell_type": "code",
   "execution_count": 58,
   "metadata": {},
   "outputs": [
    {
     "name": "stdout",
     "output_type": "stream",
     "text": [
      "My current energy is 95\n",
      "I am happily full\n"
     ]
    }
   ],
   "source": [
    "penguin.get_status()"
   ]
  },
  {
   "cell_type": "code",
   "execution_count": 68,
   "metadata": {},
   "outputs": [],
   "source": [
    "class Eagle(Animal):\n",
    "    def __init__(self):\n",
    "        #super().__init__()\n",
    "        self.energy = 20\n",
    "        print(\"I am an eagle!\")\n",
    "    \n",
    "    def move(self):\n",
    "        if self.energy < 0:\n",
    "            print(\"I am too tired to fly\")\n",
    "        else:\n",
    "            print(\"I am flying to the sea!\")\n",
    "            self.energy -= 20\n",
    "    \n",
    "    def say_hi(self):\n",
    "        print(\"shriieek!\")"
   ]
  },
  {
   "cell_type": "code",
   "execution_count": 69,
   "metadata": {},
   "outputs": [
    {
     "name": "stdout",
     "output_type": "stream",
     "text": [
      "I am an eagle!\n"
     ]
    }
   ],
   "source": [
    "eagle = Eagle()"
   ]
  },
  {
   "cell_type": "code",
   "execution_count": 70,
   "metadata": {},
   "outputs": [
    {
     "name": "stdout",
     "output_type": "stream",
     "text": [
      "shriieek!\n"
     ]
    }
   ],
   "source": [
    "eagle.say_hi()"
   ]
  },
  {
   "cell_type": "code",
   "execution_count": 62,
   "metadata": {},
   "outputs": [
    {
     "name": "stdout",
     "output_type": "stream",
     "text": [
      "Meep!\n"
     ]
    }
   ],
   "source": [
    "penguin.say_hi()"
   ]
  },
  {
   "cell_type": "code",
   "execution_count": 63,
   "metadata": {},
   "outputs": [
    {
     "name": "stdout",
     "output_type": "stream",
     "text": [
      "My current energy is 20\n",
      "I am getting hungry\n"
     ]
    }
   ],
   "source": [
    "eagle.get_status()"
   ]
  },
  {
   "cell_type": "code",
   "execution_count": 64,
   "metadata": {},
   "outputs": [],
   "source": [
    "eagle.eat(80)"
   ]
  },
  {
   "cell_type": "code",
   "execution_count": 65,
   "metadata": {},
   "outputs": [
    {
     "name": "stdout",
     "output_type": "stream",
     "text": [
      "My current energy is 100\n",
      "I am stuffed\n"
     ]
    }
   ],
   "source": [
    "eagle.get_status()"
   ]
  },
  {
   "cell_type": "code",
   "execution_count": 66,
   "metadata": {},
   "outputs": [
    {
     "name": "stdout",
     "output_type": "stream",
     "text": [
      "I am flying to the sea!\n"
     ]
    }
   ],
   "source": [
    "eagle.move()"
   ]
  },
  {
   "cell_type": "code",
   "execution_count": 67,
   "metadata": {},
   "outputs": [
    {
     "name": "stdout",
     "output_type": "stream",
     "text": [
      "My current energy is 80\n",
      "I am happily full\n"
     ]
    }
   ],
   "source": [
    "eagle.get_status()"
   ]
  },
  {
   "cell_type": "code",
   "execution_count": null,
   "metadata": {},
   "outputs": [],
   "source": []
  }
 ],
 "metadata": {
  "kernelspec": {
   "display_name": "python38",
   "language": "python",
   "name": "python38"
  },
  "language_info": {
   "codemirror_mode": {
    "name": "ipython",
    "version": 3
   },
   "file_extension": ".py",
   "mimetype": "text/x-python",
   "name": "python",
   "nbconvert_exporter": "python",
   "pygments_lexer": "ipython3",
   "version": "3.8.12"
  }
 },
 "nbformat": 4,
 "nbformat_minor": 2
}
