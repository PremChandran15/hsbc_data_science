{
 "cells": [
  {
   "cell_type": "markdown",
   "metadata": {},
   "source": [
    "## Functions and Methods\n",
    "\n",
    "Local Variables - Variables that are inside a loop or function, only available to that space<br>\n",
    "Global Variables - Variables that can be used anywhere in the code\n",
    "<br>\n",
    "<br>\n",
    "`Enumerate`- To separate key,value of a list or anything\n",
    "\n",
    "**So what is a function?**\n",
    "\n",
    "Formally, a function is a useful device that groups together a set of statements so they can be run more than once. They can also let us specify parameters that can serve as inputs to the functions.\n",
    "\n",
    "On a more fundamental level, functions allow us to not have to repeatedly write the same code again and again. If you remember back to the lessons on strings and lists, remember that we used a function len() to get the length of a string. Since checking the length of a sequence is a common task you would want to write a function that can do this repeatedly at command.\n",
    "\n",
    "Functions will be one of most basic levels of reusing code in Python, and it will also allow us to start thinking of program design (we will dive much deeper into the ideas of design when we learn about Object Oriented Programming).\n",
    "\n",
    "Let's see how to build out a function's syntax in Python. It has the following form:\n",
    "\n",
    "````python\n",
    "def name_of_function(arg1,arg2):\n",
    "    '''\n",
    "    This is where the function's Document String (doc-string) goes\n",
    "    '''\n",
    "    # Do stuff here\n",
    "    #return desired result\n",
    "\n",
    "````\n",
    "\n",
    "We begin with def then a space followed by the name of the function. Try to keep names relevant, for example len() is a good name for a length() function. Also be careful with names, you wouldn't want to call a function the same name as a [built-in function in Python](https://docs.python.org/2/library/functions.html) (such as len).\n",
    "\n",
    "Next come a pair of parenthesis with a number of arguments separated by a comma. These arguments are the inputs for your function. You'll be able to use these inputs in your function and reference them. After this you put a colon.\n",
    "\n",
    "Now here is the important step, you must indent to begin the code inside your function correctly. Python makes use of *whitespace* to organize code. Lots of other programing languages do not do this, so keep that in mind.\n",
    "\n",
    "Next you'll see the doc-string, this is where you write a basic description of the function. Using iPython and iPython Notebooks, you'll be ab;e to read these doc-strings by pressing Shift+Tab after a function name. Doc strings are not necessary for simple functions, but its good practice to put them in so you or other people can easily understand the code you write.\n",
    "\n",
    "After all this you begin writing the code you wish to execute.\n",
    "\n",
    "The best way to learn functions is by going through examples. So let's try to go through examples that relate back to the various objects and data structures we learned about before."
   ]
  },
  {
   "cell_type": "code",
   "execution_count": 3,
   "metadata": {},
   "outputs": [],
   "source": [
    "#function to add numbers\n",
    "def add_values(num1, num2):\n",
    "    #The next line here represents a docstring (what appears in function documentation)\n",
    "    '''\n",
    "    This is a function to add two numbers\n",
    "    num1: The first number to be added\n",
    "    num2: the second number to be added\n",
    "    '''\n",
    "    #local variables\n",
    "    total = num1+num2\n",
    "    #returns the calculated total back to the user (optional). This is to help users store function results\n",
    "    return total"
   ]
  },
  {
   "cell_type": "code",
   "execution_count": 8,
   "metadata": {},
   "outputs": [],
   "source": [
    "# function calling\n",
    "total = add_values(3.44,8.38)"
   ]
  },
  {
   "cell_type": "code",
   "execution_count": 10,
   "metadata": {},
   "outputs": [
    {
     "data": {
      "text/plain": [
       "11.82"
      ]
     },
     "execution_count": 10,
     "metadata": {},
     "output_type": "execute_result"
    }
   ],
   "source": [
    "total"
   ]
  },
  {
   "cell_type": "code",
   "execution_count": 11,
   "metadata": {},
   "outputs": [],
   "source": [
    "#function to add numbers\n",
    "def add_values_without_return(num1, num2):\n",
    "    #The next line here represents a docstring (what appears in function documentation)\n",
    "    '''\n",
    "    This is a function to add two numbers\n",
    "    num1: The first number to be added\n",
    "    num2: the second number to be added\n",
    "    '''\n",
    "    #local variables\n",
    "    total = num1+num2"
   ]
  },
  {
   "cell_type": "code",
   "execution_count": 12,
   "metadata": {},
   "outputs": [],
   "source": [
    "total = add_values_without_return(3.44,8.38)"
   ]
  },
  {
   "cell_type": "code",
   "execution_count": 13,
   "metadata": {},
   "outputs": [],
   "source": [
    "# value of total will be empty because no return statement in function\n",
    "total"
   ]
  },
  {
   "cell_type": "code",
   "execution_count": 14,
   "metadata": {},
   "outputs": [],
   "source": [
    "# function that prints words with even numbers from a string\n",
    "def even_words(st):\n",
    "    for word in st.split():\n",
    "        if len(word)%2 == 0:\n",
    "            print(\"'{}' has an even length\".format(word))"
   ]
  },
  {
   "cell_type": "code",
   "execution_count": 15,
   "metadata": {},
   "outputs": [
    {
     "name": "stdout",
     "output_type": "stream",
     "text": [
      "'This' has an even length\n",
      "'is' has an even length\n",
      "'an' has an even length\n",
      "'string' has an even length\n",
      "'to' has an even length\n",
      "'function' has an even length\n"
     ]
    }
   ],
   "source": [
    "string = \" This is an example string to demonstrate the function above\"\n",
    "even_words(string)"
   ]
  },
  {
   "cell_type": "code",
   "execution_count": 19,
   "metadata": {},
   "outputs": [],
   "source": [
    "def add_values_return_multiple(num1, num2):\n",
    "    #The next line here represents a docstring (what appears in function documentation)\n",
    "    '''\n",
    "    This is a function to add two numbers\n",
    "    num1: The first number to be added\n",
    "    num2: the second number to be added\n",
    "    \n",
    "    returns: total, num 1 and num 2\n",
    "    '''\n",
    "    #local variables\n",
    "    total = num1+num2\n",
    "    #returns the calculated total back to the user (optional). This is to help users store function results\n",
    "    return total, num1, num2"
   ]
  },
  {
   "cell_type": "code",
   "execution_count": 17,
   "metadata": {},
   "outputs": [],
   "source": [
    "total = add_values_return_multiple(2.4, 5)"
   ]
  },
  {
   "cell_type": "code",
   "execution_count": 20,
   "metadata": {},
   "outputs": [
    {
     "data": {
      "text/plain": [
       "(7.4, 2.4, 5)"
      ]
     },
     "execution_count": 20,
     "metadata": {},
     "output_type": "execute_result"
    }
   ],
   "source": [
    "total"
   ]
  },
  {
   "cell_type": "code",
   "execution_count": 22,
   "metadata": {},
   "outputs": [],
   "source": [
    "total, num1, num2 = add_values_return_multiple(3.4,2)"
   ]
  },
  {
   "cell_type": "code",
   "execution_count": 25,
   "metadata": {},
   "outputs": [
    {
     "data": {
      "text/plain": [
       "5.4"
      ]
     },
     "execution_count": 25,
     "metadata": {},
     "output_type": "execute_result"
    }
   ],
   "source": [
    "total"
   ]
  },
  {
   "cell_type": "code",
   "execution_count": 26,
   "metadata": {},
   "outputs": [],
   "source": [
    "#args\n",
    "def add_values_multiple(*args):\n",
    "    '''\n",
    "    Function that adds multiple numbers\n",
    "    \n",
    "    returns: Total\n",
    "    '''\n",
    "    result = 0\n",
    "    for i in args:\n",
    "        result += i\n",
    "    return result"
   ]
  },
  {
   "cell_type": "code",
   "execution_count": 28,
   "metadata": {},
   "outputs": [
    {
     "data": {
      "text/plain": [
       "34.5"
      ]
     },
     "execution_count": 28,
     "metadata": {},
     "output_type": "execute_result"
    }
   ],
   "source": [
    "add_values_multiple(2,4.5,6,7,7,8)"
   ]
  },
  {
   "cell_type": "code",
   "execution_count": 29,
   "metadata": {},
   "outputs": [],
   "source": [
    "def print_multiple(keyword, *keywords):\n",
    "    print(\"First static argument: {}\".format(keyword))\n",
    "    for word in keywords:\n",
    "        print(\"Next dynamic argument is: {}\".format(word))\n",
    "        "
   ]
  },
  {
   "cell_type": "code",
   "execution_count": 30,
   "metadata": {},
   "outputs": [
    {
     "name": "stdout",
     "output_type": "stream",
     "text": [
      "First static argument: Hello\n",
      "Next dynamic argument is: my Name\n",
      "Next dynamic argument is: is\n",
      "Next dynamic argument is: Prem\n"
     ]
    }
   ],
   "source": [
    "print_multiple(\"Hello\",\"my Name\", \"is\", \"Prem\")"
   ]
  },
  {
   "cell_type": "code",
   "execution_count": 31,
   "metadata": {},
   "outputs": [],
   "source": [
    "# Write a function that checks whether a given number is a prime number\n",
    "# Example: prime_num(17) => expected output: \"Yes, that is a prime number\"\n",
    "# 1. take a number from user\n",
    "# 2. try dividing the given number by any numbers from 2 - given number\n",
    "# 3. if it is divisible by any, then not prime, else prime\n",
    "def prime_num(num):\n",
    "    for number in range(2,num):\n",
    "        if num%number == 0:\n",
    "            print(\"Not prime number\")\n",
    "            # once it is divisible by any number, just break and stop the loop\n",
    "            break\n",
    "    else:\n",
    "        print(\"{} is a prime number\".format(num))"
   ]
  },
  {
   "cell_type": "code",
   "execution_count": 39,
   "metadata": {},
   "outputs": [
    {
     "name": "stdout",
     "output_type": "stream",
     "text": [
      "13 is a prime number\n"
     ]
    }
   ],
   "source": [
    "prime_num(13)"
   ]
  },
  {
   "cell_type": "code",
   "execution_count": null,
   "metadata": {},
   "outputs": [],
   "source": []
  },
  {
   "cell_type": "code",
   "execution_count": null,
   "metadata": {},
   "outputs": [],
   "source": []
  },
  {
   "cell_type": "markdown",
   "metadata": {},
   "source": [
    "## Question 1\n",
    "Ask for two numbers from users and check if they are equal"
   ]
  },
  {
   "cell_type": "code",
   "execution_count": 40,
   "metadata": {},
   "outputs": [],
   "source": [
    "#my solution\n",
    "def ask_num():\n",
    "    while True:\n",
    "        try:\n",
    "            num1 = int(input(\"Please enter num 1: \"))\n",
    "            num2 = int(input(\"Please enter num 2: \"))\n",
    "            if not num1==num2:\n",
    "                #This will raise/throw error which needs to be captured\n",
    "                raise NameError(\"inequality\") #this is OPTIONAL, but a good practice to capture errors properly\n",
    "            else:\n",
    "                print(\"Num1 and Num2 are equal..\")\n",
    "        except NameError as ne1:\n",
    "            print(\"Thrown error captured. Num1 and Num2 not equal. {}\".format(ne1.args))\n",
    "            continue\n",
    "        except Exception as ex:\n",
    "            print(\"There is an error {} with arguments {}\".format(type(ex).__name__,ex.args))\n",
    "            continue\n",
    "        else:\n",
    "            print(\"Breaking out since numbers are equal\")\n",
    "            break\n",
    "        finally: ## This will be executed in the end regardless everytime after try/except=> OPTIONAL not required\n",
    "            print(\"done..\")"
   ]
  },
  {
   "cell_type": "code",
   "execution_count": 41,
   "metadata": {},
   "outputs": [
    {
     "name": "stdout",
     "output_type": "stream",
     "text": [
      "Please enter num 1: thre\n",
      "There is an error ValueError with arguments (\"invalid literal for int() with base 10: 'thre'\",)\n",
      "done..\n",
      "Please enter num 1: 2\n",
      "Please enter num 2: 3\n",
      "Thrown error captured. Num1 and Num2 not equal. ('inequality',)\n",
      "done..\n",
      "Please enter num 1: 4\n",
      "Please enter num 2: 4\n",
      "Num1 and Num2 are equal..\n",
      "Breaking out since numbers are equal\n",
      "done..\n"
     ]
    }
   ],
   "source": [
    "ask_num()"
   ]
  },
  {
   "cell_type": "code",
   "execution_count": null,
   "metadata": {},
   "outputs": [],
   "source": []
  },
  {
   "cell_type": "markdown",
   "metadata": {},
   "source": [
    "## Question 2: Bottle Deposits\n",
    "\n",
    "In many jurisdictions a small deposit is added to drink containers to encourage people to recycle them. In one particular jurisdiction, drink containers holding one liter or less have a \\$0.1$ deposit and drink containers holding more than one liter have a $0.25$ deposit.\n",
    "Write a program that reads the number of containers of each size from the user.\n",
    "Your program should continue by computing and displaying the refund that will be received for returning those containers. Format the output so that it includes a dollar sign and always displays exactly two decimal places."
   ]
  },
  {
   "cell_type": "code",
   "execution_count": 43,
   "metadata": {},
   "outputs": [
    {
     "name": "stdout",
     "output_type": "stream",
     "text": [
      "$8.88\n",
      "In dollar format $8.88\n",
      "In dollar format $8.8847\n"
     ]
    }
   ],
   "source": [
    "value = 8.8847\n",
    "print(\"$8.88\")\n",
    "print(\"In dollar format ${:.2f}\".format(value))\n",
    "print(\"In dollar format ${}\".format(value))"
   ]
  },
  {
   "cell_type": "code",
   "execution_count": 12,
   "metadata": {},
   "outputs": [],
   "source": [
    "# 1. write a function that checks refund value based on the number of bottles\n",
    "# 2. ask user for inputs to key in bottle information => store in a collection that will be used in function above\n",
    "# 3. returns the value of refund\n",
    "\n",
    "def refund_value(bottle_list):\n",
    "    refund_total = 0\n",
    "    for size in bottle_list:\n",
    "        if size > 0 and size <=1:\n",
    "            refund = 0.1\n",
    "            refund_total += refund\n",
    "            print(\"For your bottle size of {}, Refund is ${:.2f}\".format(size, refund))\n",
    "        elif size>1:\n",
    "            refund = 0.25\n",
    "            refund_total += refund\n",
    "            print(\"For your bottle size of {}, Refund is ${:.2f}\".format(size, refund))\n",
    "        else:\n",
    "            print(\"The bottle size is invalid\")\n",
    "    print(\"Your total refund is ${:.2f}\".format(refund_total))"
   ]
  },
  {
   "cell_type": "code",
   "execution_count": 20,
   "metadata": {},
   "outputs": [
    {
     "name": "stdout",
     "output_type": "stream",
     "text": [
      "Please enter bottle size, enter negative number to exit: two\n",
      "There is an error ValueError with args (\"could not convert string to float: 'two'\",)\n",
      "Please enter a literal number\n",
      "Please enter bottle size, enter negative number to exit: -2\n",
      "Your total refund is $0.00\n"
     ]
    }
   ],
   "source": [
    "bottle_list = []\n",
    "\n",
    "while True:\n",
    "    try:\n",
    "        val = float(input(\"Please enter bottle size, enter negative number to exit: \"))\n",
    "        if val < 0:\n",
    "            break\n",
    "        bottle_list.append(val)\n",
    "        print(\"So far, your list is: {}\".format(bottle_list))\n",
    "    except Exception as ex:\n",
    "        print(\"There is an error {} with args {}\".format(type(ex).__name__,ex.args)) # => this should be logged\n",
    "        print(\"Please enter a literal number\") # => this is shown to the user\n",
    "        continue\n",
    "        \n",
    "refund_value(bottle_list)"
   ]
  },
  {
   "cell_type": "markdown",
   "metadata": {},
   "source": [
    "## Question 3: Admission Price\n",
    "\n",
    "A particular zoo determines the price of admission based on the age of the guest. Guests 2 years of age and less are admitted without charge. Children between 3 and 12 years of age cost \\$14.00$. Seniors aged 65 years and over cost \\$18.00. Admission for all other guests is 23.00.\n",
    "\n",
    "Create a program that begins by reading the ages of all of the guests in a group from the user, with one age entered on each line. The user will enter a blank line to indicate that there are no more guests in the group. Then your program should display the admission cost for the group with an appropriate message. The cost should be displayed using two decimal places."
   ]
  },
  {
   "cell_type": "code",
   "execution_count": 7,
   "metadata": {},
   "outputs": [
    {
     "name": "stdout",
     "output_type": "stream",
     "text": [
      "Enter the age of guest, separated by a comma: 2;4;5;15\n"
     ]
    }
   ],
   "source": [
    "sample = input(\"Enter the age of guest, separated by a comma: \")"
   ]
  },
  {
   "cell_type": "code",
   "execution_count": 4,
   "metadata": {},
   "outputs": [
    {
     "data": {
      "text/plain": [
       "'2,3,15,50'"
      ]
     },
     "execution_count": 4,
     "metadata": {},
     "output_type": "execute_result"
    }
   ],
   "source": [
    "sample"
   ]
  },
  {
   "cell_type": "code",
   "execution_count": 5,
   "metadata": {},
   "outputs": [
    {
     "data": {
      "text/plain": [
       "['2', '3', '15', '50']"
      ]
     },
     "execution_count": 5,
     "metadata": {},
     "output_type": "execute_result"
    }
   ],
   "source": [
    "sample.split(',')"
   ]
  },
  {
   "cell_type": "code",
   "execution_count": 1,
   "metadata": {},
   "outputs": [
    {
     "name": "stdout",
     "output_type": "stream",
     "text": [
      "Enter the age of guest: 2\n"
     ]
    },
    {
     "ename": "TypeError",
     "evalue": "'int' object is not iterable",
     "output_type": "error",
     "traceback": [
      "\u001b[0;31m---------------------------------------------------------------------------\u001b[0m",
      "\u001b[0;31mTypeError\u001b[0m                                 Traceback (most recent call last)",
      "\u001b[0;32m/var/folders/l9/swvqvt0552gfk3662mhw83b00000gn/T/ipykernel_3879/3557520093.py\u001b[0m in \u001b[0;36m<module>\u001b[0;34m\u001b[0m\n\u001b[1;32m      2\u001b[0m \u001b[0;34m\u001b[0m\u001b[0m\n\u001b[1;32m      3\u001b[0m \u001b[0mtotal\u001b[0m \u001b[0;34m=\u001b[0m \u001b[0;36m0\u001b[0m\u001b[0;34m\u001b[0m\u001b[0;34m\u001b[0m\u001b[0m\n\u001b[0;32m----> 4\u001b[0;31m \u001b[0;32mfor\u001b[0m \u001b[0mi\u001b[0m \u001b[0;32min\u001b[0m \u001b[0mguest_to_enter\u001b[0m\u001b[0;34m:\u001b[0m\u001b[0;34m\u001b[0m\u001b[0;34m\u001b[0m\u001b[0m\n\u001b[0m\u001b[1;32m      5\u001b[0m     \u001b[0;32mif\u001b[0m \u001b[0mi\u001b[0m \u001b[0;34m<=\u001b[0m \u001b[0;36m2\u001b[0m\u001b[0;34m:\u001b[0m\u001b[0;34m\u001b[0m\u001b[0;34m\u001b[0m\u001b[0m\n\u001b[1;32m      6\u001b[0m         \u001b[0mtotal\u001b[0m \u001b[0;34m=\u001b[0m \u001b[0mtotal\u001b[0m \u001b[0;34m+\u001b[0m \u001b[0;36m0\u001b[0m\u001b[0;34m\u001b[0m\u001b[0;34m\u001b[0m\u001b[0m\n",
      "\u001b[0;31mTypeError\u001b[0m: 'int' object is not iterable"
     ]
    }
   ],
   "source": [
    "#need to make this (guest_to_enter) as a list\n",
    "guest_to_enter= int(input(\"Enter the age of guest: \"))\n",
    "\n",
    "total = 0\n",
    "for i in guest_to_enter:\n",
    "    if i <= 2:\n",
    "        total = total + 0\n",
    "        print (\"Admission free is 0\") + total\n",
    "    elif i >3 and i <=12:\n",
    "        total = total + 14\n",
    "        print (\"Admission fee is $14\")\n",
    "    elif i >=65:\n",
    "        total = total + 18\n",
    "        print (\"Admission fee is $18\")\n",
    "    elif i >=13 and i <=64:\n",
    "        total = total + 23\n",
    "        print (\"Admission fee is $23\")\n",
    "    while  guest_to_enter!=\"\":\n",
    "        print (\"Total fees to pay is $ \" + sum(total))"
   ]
  },
  {
   "cell_type": "code",
   "execution_count": 11,
   "metadata": {},
   "outputs": [
    {
     "name": "stdout",
     "output_type": "stream",
     "text": [
      "Please enter age, enter negative number to exit: 5\n",
      "Please enter age, enter negative number to exit: 2\n",
      "Please enter age, enter negative number to exit: 3\n",
      "Please enter age, enter negative number to exit: 75\n",
      "Please enter age, enter negative number to exit: -1\n",
      "Admission fee is $14.00\n",
      "Admission fee is $14.00\n",
      "Admission fee is $28.00\n",
      "Admission fee is $46.00\n",
      "Admission fee is $46.00\n",
      "Your total fee is: $46.00\n"
     ]
    }
   ],
   "source": [
    "user_list = []\n",
    "while True:\n",
    "    try:\n",
    "        val = int(input(\"Please enter age, enter negative number to exit: \"))\n",
    "        user_list.append(val)\n",
    "        if val < 0:\n",
    "            break\n",
    "    except Exception as ex:\n",
    "        print(\"There is an error {} with args {}\".format(type(ex).__name__,ex.args))\n",
    "        continue\n",
    "\n",
    "total = 0\n",
    "for i in user_list:\n",
    "    if i <= 2:\n",
    "        total = total + 0\n",
    "        print (\"Admission fee is ${:.2f}\".format(total))\n",
    "    elif i >2 and i <=12:\n",
    "        total = total + 14\n",
    "        print (\"Admission fee is ${:.2f}\".format(total))\n",
    "    elif i >=65:\n",
    "        total = total + 18\n",
    "        print (\"Admission fee is ${:.2f}\".format(total))\n",
    "    else:\n",
    "        total = total + 23\n",
    "        print (\"Admission fee is ${:.2f}\".format(total))\n",
    "print(\"Your total fee is: ${:.2f}\".format(total))"
   ]
  },
  {
   "cell_type": "raw",
   "metadata": {},
   "source": []
  },
  {
   "cell_type": "code",
   "execution_count": 9,
   "metadata": {},
   "outputs": [
    {
     "data": {
      "text/plain": [
       "[5, 15, 20, -1]"
      ]
     },
     "execution_count": 9,
     "metadata": {},
     "output_type": "execute_result"
    }
   ],
   "source": [
    "user_list"
   ]
  },
  {
   "cell_type": "code",
   "execution_count": null,
   "metadata": {},
   "outputs": [],
   "source": []
  }
 ],
 "metadata": {
  "kernelspec": {
   "display_name": "python38",
   "language": "python",
   "name": "python38"
  },
  "language_info": {
   "codemirror_mode": {
    "name": "ipython",
    "version": 3
   },
   "file_extension": ".py",
   "mimetype": "text/x-python",
   "name": "python",
   "nbconvert_exporter": "python",
   "pygments_lexer": "ipython3",
   "version": "3.8.12"
  }
 },
 "nbformat": 4,
 "nbformat_minor": 2
}
