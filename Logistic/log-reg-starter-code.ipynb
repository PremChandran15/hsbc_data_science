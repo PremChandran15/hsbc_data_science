{
 "cells": [
  {
   "cell_type": "markdown",
   "metadata": {},
   "source": [
    "<img src=\"http://imgur.com/1ZcRyrc.png\" style=\"float: left; margin: 20px; height: 55px\">\n",
    "\n",
    "# Introduction to Logistic Regression\n",
    "\n",
    "_Authors: Kiefer Katovich, Matt Brems, Noelle Brown_\n",
    "\n",
    "---\n",
    "\n",
    "### Learning Objectives\n",
    "- Distinguish between regression and classification problems.\n",
    "- Understand how logistic regression is similar to and different from linear regression.\n",
    "- Fit, generate predictions from, and evaluate a logistic regression model in `sklearn`.\n",
    "- Understand how to interpret the coefficients of logistic regression.\n",
    "- Know the benefits of logistic regression as a classifier."
   ]
  },
  {
   "cell_type": "markdown",
   "metadata": {},
   "source": [
    "<a id='introduction'></a>\n",
    "\n",
    "## Introduction\n",
    "\n",
    "---\n",
    "\n",
    "Logistic regression is a natural bridge to connect regression and classification.\n",
    "- Logistic regression is the most common binary classification algorithm.\n",
    "- Because it is a regression model, logistic regression will predict continuous values.\n",
    "    - Logistic regression will predict continuous probabilities between 0 and 1.\n",
    "    - Example: What is the probability that someone shows up to vote?\n",
    "- However, logistic regression almost always operates as a classification model.\n",
    "    - Logistic regression will use these continuous predictions to classify something as 0 or 1.\n",
    "    - Example: Based on the predicted probability, do we predict that someone votes?\n",
    "\n",
    "In this lecture, we'll only be reviewing the binary outcome case with two classes, but logistic regression can be generalized to predicting outcomes with 3 or more classes.\n",
    "\n",
    "**Some examples of when logistic regression could be used:**\n",
    "- Will a user will purchase a product, given characteristics like income, age, and number of family members?\n",
    "- Does this patient have a specific disease based on their symptoms?\n",
    "- Will a person default on their loan?\n",
    "- Is the iris flower in front of me an \"_Iris versicolor_?\"\n",
    "- Given one's GPA and the prestige of a college, will a student be admitted to a specific graduate program?\n",
    "\n",
    "And many more."
   ]
  },
  {
   "cell_type": "code",
   "execution_count": 23,
   "metadata": {},
   "outputs": [],
   "source": [
    "# imports\n",
    "import matplotlib.pyplot as plt\n",
    "import numpy as np\n",
    "import pandas as pd\n",
    "import seaborn as sns\n",
    "\n",
    "# stylistic choice\n",
    "plt.style.use('fivethirtyeight')\n",
    "\n",
    "# Import train_test_split.\n",
    "from sklearn.model_selection import train_test_split\n",
    "\n",
    "# Import logistic & linear regression\n",
    "from sklearn.linear_model import LogisticRegression, LinearRegression\n",
    "from sklearn.metrics import accuracy_score, roc_auc_score, f1_score"
   ]
  },
  {
   "cell_type": "markdown",
   "metadata": {},
   "source": [
    "## Graduate School Admissions\n",
    "\n",
    "---\n",
    "\n",
    "Today, we'll be applying logistic regression to solve the following problem: \"Given one's GPA, will a student be admitted to a specific graduate program?\""
   ]
  },
  {
   "cell_type": "code",
   "execution_count": 2,
   "metadata": {},
   "outputs": [],
   "source": [
    "# Read in the data.\n",
    "df = pd.read_csv('admissions.csv')"
   ]
  },
  {
   "cell_type": "code",
   "execution_count": 3,
   "metadata": {},
   "outputs": [
    {
     "data": {
      "text/html": [
       "<div>\n",
       "<style scoped>\n",
       "    .dataframe tbody tr th:only-of-type {\n",
       "        vertical-align: middle;\n",
       "    }\n",
       "\n",
       "    .dataframe tbody tr th {\n",
       "        vertical-align: top;\n",
       "    }\n",
       "\n",
       "    .dataframe thead th {\n",
       "        text-align: right;\n",
       "    }\n",
       "</style>\n",
       "<table border=\"1\" class=\"dataframe\">\n",
       "  <thead>\n",
       "    <tr style=\"text-align: right;\">\n",
       "      <th></th>\n",
       "      <th>admit</th>\n",
       "      <th>gre</th>\n",
       "      <th>gpa</th>\n",
       "      <th>prestige</th>\n",
       "    </tr>\n",
       "  </thead>\n",
       "  <tbody>\n",
       "    <tr>\n",
       "      <th>0</th>\n",
       "      <td>0</td>\n",
       "      <td>380.0</td>\n",
       "      <td>3.61</td>\n",
       "      <td>3.0</td>\n",
       "    </tr>\n",
       "    <tr>\n",
       "      <th>1</th>\n",
       "      <td>1</td>\n",
       "      <td>660.0</td>\n",
       "      <td>3.67</td>\n",
       "      <td>3.0</td>\n",
       "    </tr>\n",
       "    <tr>\n",
       "      <th>2</th>\n",
       "      <td>1</td>\n",
       "      <td>800.0</td>\n",
       "      <td>4.00</td>\n",
       "      <td>1.0</td>\n",
       "    </tr>\n",
       "    <tr>\n",
       "      <th>3</th>\n",
       "      <td>1</td>\n",
       "      <td>640.0</td>\n",
       "      <td>3.19</td>\n",
       "      <td>4.0</td>\n",
       "    </tr>\n",
       "    <tr>\n",
       "      <th>4</th>\n",
       "      <td>0</td>\n",
       "      <td>520.0</td>\n",
       "      <td>2.93</td>\n",
       "      <td>4.0</td>\n",
       "    </tr>\n",
       "  </tbody>\n",
       "</table>\n",
       "</div>"
      ],
      "text/plain": [
       "   admit    gre   gpa  prestige\n",
       "0      0  380.0  3.61       3.0\n",
       "1      1  660.0  3.67       3.0\n",
       "2      1  800.0  4.00       1.0\n",
       "3      1  640.0  3.19       4.0\n",
       "4      0  520.0  2.93       4.0"
      ]
     },
     "execution_count": 3,
     "metadata": {},
     "output_type": "execute_result"
    }
   ],
   "source": [
    "# Check first five rows.\n",
    "df.head()"
   ]
  },
  {
   "cell_type": "code",
   "execution_count": 4,
   "metadata": {},
   "outputs": [
    {
     "name": "stdout",
     "output_type": "stream",
     "text": [
      "<class 'pandas.core.frame.DataFrame'>\n",
      "RangeIndex: 400 entries, 0 to 399\n",
      "Data columns (total 4 columns):\n",
      " #   Column    Non-Null Count  Dtype  \n",
      "---  ------    --------------  -----  \n",
      " 0   admit     400 non-null    int64  \n",
      " 1   gre       398 non-null    float64\n",
      " 2   gpa       398 non-null    float64\n",
      " 3   prestige  399 non-null    float64\n",
      "dtypes: float64(3), int64(1)\n",
      "memory usage: 12.6 KB\n"
     ]
    }
   ],
   "source": [
    "df.info()"
   ]
  },
  {
   "cell_type": "code",
   "execution_count": 5,
   "metadata": {},
   "outputs": [
    {
     "data": {
      "text/html": [
       "<div>\n",
       "<style scoped>\n",
       "    .dataframe tbody tr th:only-of-type {\n",
       "        vertical-align: middle;\n",
       "    }\n",
       "\n",
       "    .dataframe tbody tr th {\n",
       "        vertical-align: top;\n",
       "    }\n",
       "\n",
       "    .dataframe thead th {\n",
       "        text-align: right;\n",
       "    }\n",
       "</style>\n",
       "<table border=\"1\" class=\"dataframe\">\n",
       "  <thead>\n",
       "    <tr style=\"text-align: right;\">\n",
       "      <th></th>\n",
       "      <th>admit</th>\n",
       "      <th>gre</th>\n",
       "      <th>gpa</th>\n",
       "      <th>prestige</th>\n",
       "    </tr>\n",
       "  </thead>\n",
       "  <tbody>\n",
       "    <tr>\n",
       "      <th>count</th>\n",
       "      <td>400.000000</td>\n",
       "      <td>398.000000</td>\n",
       "      <td>398.00000</td>\n",
       "      <td>399.000000</td>\n",
       "    </tr>\n",
       "    <tr>\n",
       "      <th>mean</th>\n",
       "      <td>0.317500</td>\n",
       "      <td>588.040201</td>\n",
       "      <td>3.39093</td>\n",
       "      <td>2.486216</td>\n",
       "    </tr>\n",
       "    <tr>\n",
       "      <th>std</th>\n",
       "      <td>0.466087</td>\n",
       "      <td>115.628513</td>\n",
       "      <td>0.38063</td>\n",
       "      <td>0.945333</td>\n",
       "    </tr>\n",
       "    <tr>\n",
       "      <th>min</th>\n",
       "      <td>0.000000</td>\n",
       "      <td>220.000000</td>\n",
       "      <td>2.26000</td>\n",
       "      <td>1.000000</td>\n",
       "    </tr>\n",
       "    <tr>\n",
       "      <th>25%</th>\n",
       "      <td>0.000000</td>\n",
       "      <td>520.000000</td>\n",
       "      <td>3.13000</td>\n",
       "      <td>2.000000</td>\n",
       "    </tr>\n",
       "    <tr>\n",
       "      <th>50%</th>\n",
       "      <td>0.000000</td>\n",
       "      <td>580.000000</td>\n",
       "      <td>3.39500</td>\n",
       "      <td>2.000000</td>\n",
       "    </tr>\n",
       "    <tr>\n",
       "      <th>75%</th>\n",
       "      <td>1.000000</td>\n",
       "      <td>660.000000</td>\n",
       "      <td>3.67000</td>\n",
       "      <td>3.000000</td>\n",
       "    </tr>\n",
       "    <tr>\n",
       "      <th>max</th>\n",
       "      <td>1.000000</td>\n",
       "      <td>800.000000</td>\n",
       "      <td>4.00000</td>\n",
       "      <td>4.000000</td>\n",
       "    </tr>\n",
       "  </tbody>\n",
       "</table>\n",
       "</div>"
      ],
      "text/plain": [
       "            admit         gre        gpa    prestige\n",
       "count  400.000000  398.000000  398.00000  399.000000\n",
       "mean     0.317500  588.040201    3.39093    2.486216\n",
       "std      0.466087  115.628513    0.38063    0.945333\n",
       "min      0.000000  220.000000    2.26000    1.000000\n",
       "25%      0.000000  520.000000    3.13000    2.000000\n",
       "50%      0.000000  580.000000    3.39500    2.000000\n",
       "75%      1.000000  660.000000    3.67000    3.000000\n",
       "max      1.000000  800.000000    4.00000    4.000000"
      ]
     },
     "execution_count": 5,
     "metadata": {},
     "output_type": "execute_result"
    }
   ],
   "source": [
    "df.describe()"
   ]
  },
  {
   "cell_type": "code",
   "execution_count": 6,
   "metadata": {},
   "outputs": [
    {
     "data": {
      "text/html": [
       "<div>\n",
       "<style scoped>\n",
       "    .dataframe tbody tr th:only-of-type {\n",
       "        vertical-align: middle;\n",
       "    }\n",
       "\n",
       "    .dataframe tbody tr th {\n",
       "        vertical-align: top;\n",
       "    }\n",
       "\n",
       "    .dataframe thead tr th {\n",
       "        text-align: left;\n",
       "    }\n",
       "\n",
       "    .dataframe thead tr:last-of-type th {\n",
       "        text-align: right;\n",
       "    }\n",
       "</style>\n",
       "<table border=\"1\" class=\"dataframe\">\n",
       "  <thead>\n",
       "    <tr>\n",
       "      <th></th>\n",
       "      <th colspan=\"8\" halign=\"left\">gre</th>\n",
       "      <th colspan=\"5\" halign=\"left\">gpa</th>\n",
       "      <th colspan=\"8\" halign=\"left\">prestige</th>\n",
       "    </tr>\n",
       "    <tr>\n",
       "      <th></th>\n",
       "      <th>count</th>\n",
       "      <th>mean</th>\n",
       "      <th>std</th>\n",
       "      <th>min</th>\n",
       "      <th>25%</th>\n",
       "      <th>50%</th>\n",
       "      <th>75%</th>\n",
       "      <th>max</th>\n",
       "      <th>count</th>\n",
       "      <th>mean</th>\n",
       "      <th>...</th>\n",
       "      <th>75%</th>\n",
       "      <th>max</th>\n",
       "      <th>count</th>\n",
       "      <th>mean</th>\n",
       "      <th>std</th>\n",
       "      <th>min</th>\n",
       "      <th>25%</th>\n",
       "      <th>50%</th>\n",
       "      <th>75%</th>\n",
       "      <th>max</th>\n",
       "    </tr>\n",
       "    <tr>\n",
       "      <th>admit</th>\n",
       "      <th></th>\n",
       "      <th></th>\n",
       "      <th></th>\n",
       "      <th></th>\n",
       "      <th></th>\n",
       "      <th></th>\n",
       "      <th></th>\n",
       "      <th></th>\n",
       "      <th></th>\n",
       "      <th></th>\n",
       "      <th></th>\n",
       "      <th></th>\n",
       "      <th></th>\n",
       "      <th></th>\n",
       "      <th></th>\n",
       "      <th></th>\n",
       "      <th></th>\n",
       "      <th></th>\n",
       "      <th></th>\n",
       "      <th></th>\n",
       "      <th></th>\n",
       "    </tr>\n",
       "  </thead>\n",
       "  <tbody>\n",
       "    <tr>\n",
       "      <th>0</th>\n",
       "      <td>271.0</td>\n",
       "      <td>573.579336</td>\n",
       "      <td>116.052798</td>\n",
       "      <td>220.0</td>\n",
       "      <td>500.0</td>\n",
       "      <td>580.0</td>\n",
       "      <td>660.0</td>\n",
       "      <td>800.0</td>\n",
       "      <td>272.0</td>\n",
       "      <td>3.345404</td>\n",
       "      <td>...</td>\n",
       "      <td>3.6100</td>\n",
       "      <td>4.0</td>\n",
       "      <td>273.0</td>\n",
       "      <td>2.641026</td>\n",
       "      <td>0.917198</td>\n",
       "      <td>1.0</td>\n",
       "      <td>2.0</td>\n",
       "      <td>3.0</td>\n",
       "      <td>3.0</td>\n",
       "      <td>4.0</td>\n",
       "    </tr>\n",
       "    <tr>\n",
       "      <th>1</th>\n",
       "      <td>127.0</td>\n",
       "      <td>618.897638</td>\n",
       "      <td>108.884884</td>\n",
       "      <td>300.0</td>\n",
       "      <td>540.0</td>\n",
       "      <td>620.0</td>\n",
       "      <td>680.0</td>\n",
       "      <td>800.0</td>\n",
       "      <td>126.0</td>\n",
       "      <td>3.489206</td>\n",
       "      <td>...</td>\n",
       "      <td>3.7575</td>\n",
       "      <td>4.0</td>\n",
       "      <td>126.0</td>\n",
       "      <td>2.150794</td>\n",
       "      <td>0.921455</td>\n",
       "      <td>1.0</td>\n",
       "      <td>1.0</td>\n",
       "      <td>2.0</td>\n",
       "      <td>3.0</td>\n",
       "      <td>4.0</td>\n",
       "    </tr>\n",
       "  </tbody>\n",
       "</table>\n",
       "<p>2 rows × 24 columns</p>\n",
       "</div>"
      ],
      "text/plain": [
       "         gre                                                             \\\n",
       "       count        mean         std    min    25%    50%    75%    max   \n",
       "admit                                                                     \n",
       "0      271.0  573.579336  116.052798  220.0  500.0  580.0  660.0  800.0   \n",
       "1      127.0  618.897638  108.884884  300.0  540.0  620.0  680.0  800.0   \n",
       "\n",
       "         gpa            ...              prestige                           \\\n",
       "       count      mean  ...     75%  max    count      mean       std  min   \n",
       "admit                   ...                                                  \n",
       "0      272.0  3.345404  ...  3.6100  4.0    273.0  2.641026  0.917198  1.0   \n",
       "1      126.0  3.489206  ...  3.7575  4.0    126.0  2.150794  0.921455  1.0   \n",
       "\n",
       "                           \n",
       "       25%  50%  75%  max  \n",
       "admit                      \n",
       "0      2.0  3.0  3.0  4.0  \n",
       "1      1.0  2.0  3.0  4.0  \n",
       "\n",
       "[2 rows x 24 columns]"
      ]
     },
     "execution_count": 6,
     "metadata": {},
     "output_type": "execute_result"
    }
   ],
   "source": [
    "df.groupby('admit').describe()"
   ]
  },
  {
   "cell_type": "markdown",
   "metadata": {},
   "source": [
    "The four columns are:\n",
    "- `admit`: A binary 0/1 variable indicating whether or not a student was admitted, where 1 means admitted and 0 means not admitted.\n",
    "- `gre`: The student's [GRE (Graduate Record Exam)](https://en.wikipedia.org/wiki/Graduate_Record_Examinations) score.\n",
    "- `gpa`: The student's GPA.\n",
    "- `prestige`: A 1-4 rating for the college's \"prestige.\""
   ]
  },
  {
   "cell_type": "code",
   "execution_count": 7,
   "metadata": {},
   "outputs": [
    {
     "data": {
      "text/plain": [
       "admit       0\n",
       "gre         2\n",
       "gpa         2\n",
       "prestige    1\n",
       "dtype: int64"
      ]
     },
     "execution_count": 7,
     "metadata": {},
     "output_type": "execute_result"
    }
   ],
   "source": [
    "df.isnull().sum()"
   ]
  },
  {
   "cell_type": "code",
   "execution_count": 8,
   "metadata": {},
   "outputs": [
    {
     "data": {
      "text/html": [
       "<div>\n",
       "<style scoped>\n",
       "    .dataframe tbody tr th:only-of-type {\n",
       "        vertical-align: middle;\n",
       "    }\n",
       "\n",
       "    .dataframe tbody tr th {\n",
       "        vertical-align: top;\n",
       "    }\n",
       "\n",
       "    .dataframe thead th {\n",
       "        text-align: right;\n",
       "    }\n",
       "</style>\n",
       "<table border=\"1\" class=\"dataframe\">\n",
       "  <thead>\n",
       "    <tr style=\"text-align: right;\">\n",
       "      <th></th>\n",
       "      <th>admit</th>\n",
       "      <th>gre</th>\n",
       "      <th>gpa</th>\n",
       "      <th>prestige</th>\n",
       "    </tr>\n",
       "  </thead>\n",
       "  <tbody>\n",
       "    <tr>\n",
       "      <th>187</th>\n",
       "      <td>0</td>\n",
       "      <td>NaN</td>\n",
       "      <td>NaN</td>\n",
       "      <td>2.0</td>\n",
       "    </tr>\n",
       "    <tr>\n",
       "      <th>212</th>\n",
       "      <td>0</td>\n",
       "      <td>NaN</td>\n",
       "      <td>2.87</td>\n",
       "      <td>2.0</td>\n",
       "    </tr>\n",
       "    <tr>\n",
       "      <th>236</th>\n",
       "      <td>1</td>\n",
       "      <td>660.0</td>\n",
       "      <td>NaN</td>\n",
       "      <td>NaN</td>\n",
       "    </tr>\n",
       "  </tbody>\n",
       "</table>\n",
       "</div>"
      ],
      "text/plain": [
       "     admit    gre   gpa  prestige\n",
       "187      0    NaN   NaN       2.0\n",
       "212      0    NaN  2.87       2.0\n",
       "236      1  660.0   NaN       NaN"
      ]
     },
     "execution_count": 8,
     "metadata": {},
     "output_type": "execute_result"
    }
   ],
   "source": [
    "# How many missing values do we have in each column?\n",
    "df[df['prestige'].isnull() | df['gre'].isnull() | df['gpa'].isnull()]"
   ]
  },
  {
   "cell_type": "code",
   "execution_count": 9,
   "metadata": {},
   "outputs": [],
   "source": [
    "# Drop every row that has an NA.\n",
    "df.dropna(subset=['gre','gpa','prestige'], inplace = True)"
   ]
  },
  {
   "cell_type": "code",
   "execution_count": 11,
   "metadata": {},
   "outputs": [
    {
     "name": "stdout",
     "output_type": "stream",
     "text": [
      "<class 'pandas.core.frame.DataFrame'>\n",
      "Int64Index: 397 entries, 0 to 399\n",
      "Data columns (total 4 columns):\n",
      " #   Column    Non-Null Count  Dtype  \n",
      "---  ------    --------------  -----  \n",
      " 0   admit     397 non-null    int64  \n",
      " 1   gre       397 non-null    float64\n",
      " 2   gpa       397 non-null    float64\n",
      " 3   prestige  397 non-null    float64\n",
      "dtypes: float64(3), int64(1)\n",
      "memory usage: 15.5 KB\n"
     ]
    }
   ],
   "source": [
    "df.info()"
   ]
  },
  {
   "cell_type": "code",
   "execution_count": 13,
   "metadata": {},
   "outputs": [
    {
     "data": {
      "text/html": [
       "<div>\n",
       "<style scoped>\n",
       "    .dataframe tbody tr th:only-of-type {\n",
       "        vertical-align: middle;\n",
       "    }\n",
       "\n",
       "    .dataframe tbody tr th {\n",
       "        vertical-align: top;\n",
       "    }\n",
       "\n",
       "    .dataframe thead th {\n",
       "        text-align: right;\n",
       "    }\n",
       "</style>\n",
       "<table border=\"1\" class=\"dataframe\">\n",
       "  <thead>\n",
       "    <tr style=\"text-align: right;\">\n",
       "      <th></th>\n",
       "      <th>admit</th>\n",
       "      <th>gre</th>\n",
       "      <th>gpa</th>\n",
       "      <th>prestige</th>\n",
       "    </tr>\n",
       "  </thead>\n",
       "  <tbody>\n",
       "    <tr>\n",
       "      <th>0</th>\n",
       "      <td>0</td>\n",
       "      <td>380.0</td>\n",
       "      <td>3.61</td>\n",
       "      <td>3.0</td>\n",
       "    </tr>\n",
       "    <tr>\n",
       "      <th>1</th>\n",
       "      <td>1</td>\n",
       "      <td>660.0</td>\n",
       "      <td>3.67</td>\n",
       "      <td>3.0</td>\n",
       "    </tr>\n",
       "    <tr>\n",
       "      <th>2</th>\n",
       "      <td>1</td>\n",
       "      <td>800.0</td>\n",
       "      <td>4.00</td>\n",
       "      <td>1.0</td>\n",
       "    </tr>\n",
       "    <tr>\n",
       "      <th>3</th>\n",
       "      <td>1</td>\n",
       "      <td>640.0</td>\n",
       "      <td>3.19</td>\n",
       "      <td>4.0</td>\n",
       "    </tr>\n",
       "    <tr>\n",
       "      <th>4</th>\n",
       "      <td>0</td>\n",
       "      <td>520.0</td>\n",
       "      <td>2.93</td>\n",
       "      <td>4.0</td>\n",
       "    </tr>\n",
       "    <tr>\n",
       "      <th>...</th>\n",
       "      <td>...</td>\n",
       "      <td>...</td>\n",
       "      <td>...</td>\n",
       "      <td>...</td>\n",
       "    </tr>\n",
       "    <tr>\n",
       "      <th>395</th>\n",
       "      <td>0</td>\n",
       "      <td>620.0</td>\n",
       "      <td>4.00</td>\n",
       "      <td>2.0</td>\n",
       "    </tr>\n",
       "    <tr>\n",
       "      <th>396</th>\n",
       "      <td>0</td>\n",
       "      <td>560.0</td>\n",
       "      <td>3.04</td>\n",
       "      <td>3.0</td>\n",
       "    </tr>\n",
       "    <tr>\n",
       "      <th>397</th>\n",
       "      <td>0</td>\n",
       "      <td>460.0</td>\n",
       "      <td>2.63</td>\n",
       "      <td>2.0</td>\n",
       "    </tr>\n",
       "    <tr>\n",
       "      <th>398</th>\n",
       "      <td>0</td>\n",
       "      <td>700.0</td>\n",
       "      <td>3.65</td>\n",
       "      <td>2.0</td>\n",
       "    </tr>\n",
       "    <tr>\n",
       "      <th>399</th>\n",
       "      <td>0</td>\n",
       "      <td>600.0</td>\n",
       "      <td>3.89</td>\n",
       "      <td>3.0</td>\n",
       "    </tr>\n",
       "  </tbody>\n",
       "</table>\n",
       "<p>397 rows × 4 columns</p>\n",
       "</div>"
      ],
      "text/plain": [
       "     admit    gre   gpa  prestige\n",
       "0        0  380.0  3.61       3.0\n",
       "1        1  660.0  3.67       3.0\n",
       "2        1  800.0  4.00       1.0\n",
       "3        1  640.0  3.19       4.0\n",
       "4        0  520.0  2.93       4.0\n",
       "..     ...    ...   ...       ...\n",
       "395      0  620.0  4.00       2.0\n",
       "396      0  560.0  3.04       3.0\n",
       "397      0  460.0  2.63       2.0\n",
       "398      0  700.0  3.65       2.0\n",
       "399      0  600.0  3.89       3.0\n",
       "\n",
       "[397 rows x 4 columns]"
      ]
     },
     "execution_count": 13,
     "metadata": {},
     "output_type": "execute_result"
    }
   ],
   "source": [
    "df"
   ]
  },
  {
   "cell_type": "code",
   "execution_count": 14,
   "metadata": {},
   "outputs": [],
   "source": [
    "df = df.reset_index()"
   ]
  },
  {
   "cell_type": "code",
   "execution_count": 15,
   "metadata": {},
   "outputs": [
    {
     "data": {
      "text/html": [
       "<div>\n",
       "<style scoped>\n",
       "    .dataframe tbody tr th:only-of-type {\n",
       "        vertical-align: middle;\n",
       "    }\n",
       "\n",
       "    .dataframe tbody tr th {\n",
       "        vertical-align: top;\n",
       "    }\n",
       "\n",
       "    .dataframe thead th {\n",
       "        text-align: right;\n",
       "    }\n",
       "</style>\n",
       "<table border=\"1\" class=\"dataframe\">\n",
       "  <thead>\n",
       "    <tr style=\"text-align: right;\">\n",
       "      <th></th>\n",
       "      <th>index</th>\n",
       "      <th>admit</th>\n",
       "      <th>gre</th>\n",
       "      <th>gpa</th>\n",
       "      <th>prestige</th>\n",
       "    </tr>\n",
       "  </thead>\n",
       "  <tbody>\n",
       "    <tr>\n",
       "      <th>0</th>\n",
       "      <td>0</td>\n",
       "      <td>0</td>\n",
       "      <td>380.0</td>\n",
       "      <td>3.61</td>\n",
       "      <td>3.0</td>\n",
       "    </tr>\n",
       "    <tr>\n",
       "      <th>1</th>\n",
       "      <td>1</td>\n",
       "      <td>1</td>\n",
       "      <td>660.0</td>\n",
       "      <td>3.67</td>\n",
       "      <td>3.0</td>\n",
       "    </tr>\n",
       "    <tr>\n",
       "      <th>2</th>\n",
       "      <td>2</td>\n",
       "      <td>1</td>\n",
       "      <td>800.0</td>\n",
       "      <td>4.00</td>\n",
       "      <td>1.0</td>\n",
       "    </tr>\n",
       "    <tr>\n",
       "      <th>3</th>\n",
       "      <td>3</td>\n",
       "      <td>1</td>\n",
       "      <td>640.0</td>\n",
       "      <td>3.19</td>\n",
       "      <td>4.0</td>\n",
       "    </tr>\n",
       "    <tr>\n",
       "      <th>4</th>\n",
       "      <td>4</td>\n",
       "      <td>0</td>\n",
       "      <td>520.0</td>\n",
       "      <td>2.93</td>\n",
       "      <td>4.0</td>\n",
       "    </tr>\n",
       "    <tr>\n",
       "      <th>...</th>\n",
       "      <td>...</td>\n",
       "      <td>...</td>\n",
       "      <td>...</td>\n",
       "      <td>...</td>\n",
       "      <td>...</td>\n",
       "    </tr>\n",
       "    <tr>\n",
       "      <th>392</th>\n",
       "      <td>395</td>\n",
       "      <td>0</td>\n",
       "      <td>620.0</td>\n",
       "      <td>4.00</td>\n",
       "      <td>2.0</td>\n",
       "    </tr>\n",
       "    <tr>\n",
       "      <th>393</th>\n",
       "      <td>396</td>\n",
       "      <td>0</td>\n",
       "      <td>560.0</td>\n",
       "      <td>3.04</td>\n",
       "      <td>3.0</td>\n",
       "    </tr>\n",
       "    <tr>\n",
       "      <th>394</th>\n",
       "      <td>397</td>\n",
       "      <td>0</td>\n",
       "      <td>460.0</td>\n",
       "      <td>2.63</td>\n",
       "      <td>2.0</td>\n",
       "    </tr>\n",
       "    <tr>\n",
       "      <th>395</th>\n",
       "      <td>398</td>\n",
       "      <td>0</td>\n",
       "      <td>700.0</td>\n",
       "      <td>3.65</td>\n",
       "      <td>2.0</td>\n",
       "    </tr>\n",
       "    <tr>\n",
       "      <th>396</th>\n",
       "      <td>399</td>\n",
       "      <td>0</td>\n",
       "      <td>600.0</td>\n",
       "      <td>3.89</td>\n",
       "      <td>3.0</td>\n",
       "    </tr>\n",
       "  </tbody>\n",
       "</table>\n",
       "<p>397 rows × 5 columns</p>\n",
       "</div>"
      ],
      "text/plain": [
       "     index  admit    gre   gpa  prestige\n",
       "0        0      0  380.0  3.61       3.0\n",
       "1        1      1  660.0  3.67       3.0\n",
       "2        2      1  800.0  4.00       1.0\n",
       "3        3      1  640.0  3.19       4.0\n",
       "4        4      0  520.0  2.93       4.0\n",
       "..     ...    ...    ...   ...       ...\n",
       "392    395      0  620.0  4.00       2.0\n",
       "393    396      0  560.0  3.04       3.0\n",
       "394    397      0  460.0  2.63       2.0\n",
       "395    398      0  700.0  3.65       2.0\n",
       "396    399      0  600.0  3.89       3.0\n",
       "\n",
       "[397 rows x 5 columns]"
      ]
     },
     "execution_count": 15,
     "metadata": {},
     "output_type": "execute_result"
    }
   ],
   "source": [
    "df"
   ]
  },
  {
   "cell_type": "markdown",
   "metadata": {},
   "source": [
    "<details><summary>What assumption are we making when we drop rows that have at least one NA in it?</summary>\n",
    "    \n",
    "- We assume that what we drop looks like what we have observed. That is, there's nothing special about the rows we happened to drop.\n",
    "- We might say that what we dropped is a random sample of our whole data.\n",
    "- It's not important to know this now, but the formal term is that our data is missing completely at random.\n",
    "</details>"
   ]
  },
  {
   "cell_type": "markdown",
   "metadata": {},
   "source": [
    "<details><summary>Suppose I want to check if a value of 1 for prestige means \"most prestigious\" or \"least prestigious.\" How might I find this out?</summary>\n",
    "    \n",
    "- Check a data dictionary to see if the answer exists.\n",
    "- If a data dictionary doesn't exist, compare prestige to admit. You could use [groupby](https://pandas.pydata.org/pandas-docs/version/0.22/generated/pandas.DataFrame.groupby.html) to make a table or you could use a plot.\n",
    "</details>"
   ]
  },
  {
   "cell_type": "code",
   "execution_count": 19,
   "metadata": {},
   "outputs": [
    {
     "data": {
      "text/plain": [
       "admit\n",
       "0    2.645756\n",
       "1    2.150794\n",
       "Name: prestige, dtype: float64"
      ]
     },
     "execution_count": 19,
     "metadata": {},
     "output_type": "execute_result"
    }
   ],
   "source": [
    "df.groupby('admit')['prestige'].mean()"
   ]
  },
  {
   "cell_type": "markdown",
   "metadata": {},
   "source": [
    "From the code above, we can see that the lower the prestige number, the more prestigious the university may be"
   ]
  },
  {
   "cell_type": "code",
   "execution_count": 25,
   "metadata": {},
   "outputs": [
    {
     "data": {
      "text/plain": [
       "0    271\n",
       "1    126\n",
       "Name: admit, dtype: int64"
      ]
     },
     "execution_count": 25,
     "metadata": {},
     "output_type": "execute_result"
    }
   ],
   "source": [
    "#checking for class imbalances\n",
    "df['admit'].value_counts()"
   ]
  },
  {
   "cell_type": "code",
   "execution_count": 26,
   "metadata": {},
   "outputs": [
    {
     "data": {
      "text/plain": [
       "0.6826196473551638"
      ]
     },
     "execution_count": 26,
     "metadata": {},
     "output_type": "execute_result"
    }
   ],
   "source": [
    "271/len(df)"
   ]
  },
  {
   "cell_type": "markdown",
   "metadata": {},
   "source": [
    "## A Very Naive Model => Base model"
   ]
  },
  {
   "cell_type": "code",
   "execution_count": 21,
   "metadata": {},
   "outputs": [],
   "source": [
    "# Model that says no one is admitted to the university\n",
    "df['naive_pred'] = 0"
   ]
  },
  {
   "cell_type": "code",
   "execution_count": 22,
   "metadata": {},
   "outputs": [
    {
     "data": {
      "text/html": [
       "<div>\n",
       "<style scoped>\n",
       "    .dataframe tbody tr th:only-of-type {\n",
       "        vertical-align: middle;\n",
       "    }\n",
       "\n",
       "    .dataframe tbody tr th {\n",
       "        vertical-align: top;\n",
       "    }\n",
       "\n",
       "    .dataframe thead th {\n",
       "        text-align: right;\n",
       "    }\n",
       "</style>\n",
       "<table border=\"1\" class=\"dataframe\">\n",
       "  <thead>\n",
       "    <tr style=\"text-align: right;\">\n",
       "      <th></th>\n",
       "      <th>index</th>\n",
       "      <th>admit</th>\n",
       "      <th>gre</th>\n",
       "      <th>gpa</th>\n",
       "      <th>prestige</th>\n",
       "      <th>naive_pred</th>\n",
       "    </tr>\n",
       "  </thead>\n",
       "  <tbody>\n",
       "    <tr>\n",
       "      <th>0</th>\n",
       "      <td>0</td>\n",
       "      <td>0</td>\n",
       "      <td>380.0</td>\n",
       "      <td>3.61</td>\n",
       "      <td>3.0</td>\n",
       "      <td>0</td>\n",
       "    </tr>\n",
       "    <tr>\n",
       "      <th>1</th>\n",
       "      <td>1</td>\n",
       "      <td>1</td>\n",
       "      <td>660.0</td>\n",
       "      <td>3.67</td>\n",
       "      <td>3.0</td>\n",
       "      <td>0</td>\n",
       "    </tr>\n",
       "    <tr>\n",
       "      <th>2</th>\n",
       "      <td>2</td>\n",
       "      <td>1</td>\n",
       "      <td>800.0</td>\n",
       "      <td>4.00</td>\n",
       "      <td>1.0</td>\n",
       "      <td>0</td>\n",
       "    </tr>\n",
       "    <tr>\n",
       "      <th>3</th>\n",
       "      <td>3</td>\n",
       "      <td>1</td>\n",
       "      <td>640.0</td>\n",
       "      <td>3.19</td>\n",
       "      <td>4.0</td>\n",
       "      <td>0</td>\n",
       "    </tr>\n",
       "    <tr>\n",
       "      <th>4</th>\n",
       "      <td>4</td>\n",
       "      <td>0</td>\n",
       "      <td>520.0</td>\n",
       "      <td>2.93</td>\n",
       "      <td>4.0</td>\n",
       "      <td>0</td>\n",
       "    </tr>\n",
       "    <tr>\n",
       "      <th>...</th>\n",
       "      <td>...</td>\n",
       "      <td>...</td>\n",
       "      <td>...</td>\n",
       "      <td>...</td>\n",
       "      <td>...</td>\n",
       "      <td>...</td>\n",
       "    </tr>\n",
       "    <tr>\n",
       "      <th>392</th>\n",
       "      <td>395</td>\n",
       "      <td>0</td>\n",
       "      <td>620.0</td>\n",
       "      <td>4.00</td>\n",
       "      <td>2.0</td>\n",
       "      <td>0</td>\n",
       "    </tr>\n",
       "    <tr>\n",
       "      <th>393</th>\n",
       "      <td>396</td>\n",
       "      <td>0</td>\n",
       "      <td>560.0</td>\n",
       "      <td>3.04</td>\n",
       "      <td>3.0</td>\n",
       "      <td>0</td>\n",
       "    </tr>\n",
       "    <tr>\n",
       "      <th>394</th>\n",
       "      <td>397</td>\n",
       "      <td>0</td>\n",
       "      <td>460.0</td>\n",
       "      <td>2.63</td>\n",
       "      <td>2.0</td>\n",
       "      <td>0</td>\n",
       "    </tr>\n",
       "    <tr>\n",
       "      <th>395</th>\n",
       "      <td>398</td>\n",
       "      <td>0</td>\n",
       "      <td>700.0</td>\n",
       "      <td>3.65</td>\n",
       "      <td>2.0</td>\n",
       "      <td>0</td>\n",
       "    </tr>\n",
       "    <tr>\n",
       "      <th>396</th>\n",
       "      <td>399</td>\n",
       "      <td>0</td>\n",
       "      <td>600.0</td>\n",
       "      <td>3.89</td>\n",
       "      <td>3.0</td>\n",
       "      <td>0</td>\n",
       "    </tr>\n",
       "  </tbody>\n",
       "</table>\n",
       "<p>397 rows × 6 columns</p>\n",
       "</div>"
      ],
      "text/plain": [
       "     index  admit    gre   gpa  prestige  naive_pred\n",
       "0        0      0  380.0  3.61       3.0           0\n",
       "1        1      1  660.0  3.67       3.0           0\n",
       "2        2      1  800.0  4.00       1.0           0\n",
       "3        3      1  640.0  3.19       4.0           0\n",
       "4        4      0  520.0  2.93       4.0           0\n",
       "..     ...    ...    ...   ...       ...         ...\n",
       "392    395      0  620.0  4.00       2.0           0\n",
       "393    396      0  560.0  3.04       3.0           0\n",
       "394    397      0  460.0  2.63       2.0           0\n",
       "395    398      0  700.0  3.65       2.0           0\n",
       "396    399      0  600.0  3.89       3.0           0\n",
       "\n",
       "[397 rows x 6 columns]"
      ]
     },
     "execution_count": 22,
     "metadata": {},
     "output_type": "execute_result"
    }
   ],
   "source": [
    "df"
   ]
  },
  {
   "cell_type": "code",
   "execution_count": 24,
   "metadata": {},
   "outputs": [
    {
     "data": {
      "text/plain": [
       "0.6826196473551638"
      ]
     },
     "execution_count": 24,
     "metadata": {},
     "output_type": "execute_result"
    }
   ],
   "source": [
    "# accuracy of the model => how many correctly predicted vs actual data=> y_pred vs y_true\n",
    "accuracy_score(df['admit'], df['naive_pred'])"
   ]
  },
  {
   "cell_type": "code",
   "execution_count": null,
   "metadata": {},
   "outputs": [],
   "source": []
  },
  {
   "cell_type": "code",
   "execution_count": null,
   "metadata": {},
   "outputs": [],
   "source": []
  },
  {
   "cell_type": "code",
   "execution_count": null,
   "metadata": {},
   "outputs": [],
   "source": []
  },
  {
   "cell_type": "markdown",
   "metadata": {},
   "source": [
    "### Artificially increase the signal in the data.\n",
    "\n",
    "The signal for detecting admission in the college data is fairly weak — too weak for the purposes of our demonstration. (There are lots of factors associated with getting admitted to grad school other than GPA, test score, and prestige.)\n",
    "\n",
    "**Obviously you would never do this to your real data**... but in order to make the relationship between our predictors and whether or not someone is admitted a lot clearer, we are making 10 copies of the data set and adding an artificial signal for detecting `admit` to the `gpa` column."
   ]
  },
  {
   "cell_type": "code",
   "execution_count": 28,
   "metadata": {},
   "outputs": [
    {
     "data": {
      "text/html": [
       "<div>\n",
       "<style scoped>\n",
       "    .dataframe tbody tr th:only-of-type {\n",
       "        vertical-align: middle;\n",
       "    }\n",
       "\n",
       "    .dataframe tbody tr th {\n",
       "        vertical-align: top;\n",
       "    }\n",
       "\n",
       "    .dataframe thead th {\n",
       "        text-align: right;\n",
       "    }\n",
       "</style>\n",
       "<table border=\"1\" class=\"dataframe\">\n",
       "  <thead>\n",
       "    <tr style=\"text-align: right;\">\n",
       "      <th></th>\n",
       "      <th>index</th>\n",
       "      <th>admit</th>\n",
       "      <th>gre</th>\n",
       "      <th>gpa</th>\n",
       "      <th>prestige</th>\n",
       "      <th>naive_pred</th>\n",
       "    </tr>\n",
       "  </thead>\n",
       "  <tbody>\n",
       "    <tr>\n",
       "      <th>2</th>\n",
       "      <td>2</td>\n",
       "      <td>1</td>\n",
       "      <td>800.0</td>\n",
       "      <td>4.00</td>\n",
       "      <td>1.0</td>\n",
       "      <td>0</td>\n",
       "    </tr>\n",
       "    <tr>\n",
       "      <th>6</th>\n",
       "      <td>6</td>\n",
       "      <td>1</td>\n",
       "      <td>560.0</td>\n",
       "      <td>2.98</td>\n",
       "      <td>1.0</td>\n",
       "      <td>0</td>\n",
       "    </tr>\n",
       "    <tr>\n",
       "      <th>11</th>\n",
       "      <td>11</td>\n",
       "      <td>0</td>\n",
       "      <td>440.0</td>\n",
       "      <td>3.22</td>\n",
       "      <td>1.0</td>\n",
       "      <td>0</td>\n",
       "    </tr>\n",
       "    <tr>\n",
       "      <th>12</th>\n",
       "      <td>12</td>\n",
       "      <td>1</td>\n",
       "      <td>760.0</td>\n",
       "      <td>4.00</td>\n",
       "      <td>1.0</td>\n",
       "      <td>0</td>\n",
       "    </tr>\n",
       "    <tr>\n",
       "      <th>14</th>\n",
       "      <td>14</td>\n",
       "      <td>1</td>\n",
       "      <td>700.0</td>\n",
       "      <td>4.00</td>\n",
       "      <td>1.0</td>\n",
       "      <td>0</td>\n",
       "    </tr>\n",
       "    <tr>\n",
       "      <th>...</th>\n",
       "      <td>...</td>\n",
       "      <td>...</td>\n",
       "      <td>...</td>\n",
       "      <td>...</td>\n",
       "      <td>...</td>\n",
       "      <td>...</td>\n",
       "    </tr>\n",
       "    <tr>\n",
       "      <th>365</th>\n",
       "      <td>368</td>\n",
       "      <td>0</td>\n",
       "      <td>580.0</td>\n",
       "      <td>4.00</td>\n",
       "      <td>1.0</td>\n",
       "      <td>0</td>\n",
       "    </tr>\n",
       "    <tr>\n",
       "      <th>369</th>\n",
       "      <td>372</td>\n",
       "      <td>1</td>\n",
       "      <td>680.0</td>\n",
       "      <td>2.42</td>\n",
       "      <td>1.0</td>\n",
       "      <td>0</td>\n",
       "    </tr>\n",
       "    <tr>\n",
       "      <th>370</th>\n",
       "      <td>373</td>\n",
       "      <td>1</td>\n",
       "      <td>620.0</td>\n",
       "      <td>3.37</td>\n",
       "      <td>1.0</td>\n",
       "      <td>0</td>\n",
       "    </tr>\n",
       "    <tr>\n",
       "      <th>380</th>\n",
       "      <td>383</td>\n",
       "      <td>0</td>\n",
       "      <td>660.0</td>\n",
       "      <td>4.00</td>\n",
       "      <td>1.0</td>\n",
       "      <td>0</td>\n",
       "    </tr>\n",
       "    <tr>\n",
       "      <th>382</th>\n",
       "      <td>385</td>\n",
       "      <td>0</td>\n",
       "      <td>420.0</td>\n",
       "      <td>3.02</td>\n",
       "      <td>1.0</td>\n",
       "      <td>0</td>\n",
       "    </tr>\n",
       "  </tbody>\n",
       "</table>\n",
       "<p>61 rows × 6 columns</p>\n",
       "</div>"
      ],
      "text/plain": [
       "     index  admit    gre   gpa  prestige  naive_pred\n",
       "2        2      1  800.0  4.00       1.0           0\n",
       "6        6      1  560.0  2.98       1.0           0\n",
       "11      11      0  440.0  3.22       1.0           0\n",
       "12      12      1  760.0  4.00       1.0           0\n",
       "14      14      1  700.0  4.00       1.0           0\n",
       "..     ...    ...    ...   ...       ...         ...\n",
       "365    368      0  580.0  4.00       1.0           0\n",
       "369    372      1  680.0  2.42       1.0           0\n",
       "370    373      1  620.0  3.37       1.0           0\n",
       "380    383      0  660.0  4.00       1.0           0\n",
       "382    385      0  420.0  3.02       1.0           0\n",
       "\n",
       "[61 rows x 6 columns]"
      ]
     },
     "execution_count": 28,
     "metadata": {},
     "output_type": "execute_result"
    }
   ],
   "source": [
    "admit = df[df['prestige'] == 1]\n",
    "admit"
   ]
  },
  {
   "cell_type": "code",
   "execution_count": 29,
   "metadata": {},
   "outputs": [
    {
     "data": {
      "text/plain": [
       "1    33\n",
       "0    28\n",
       "Name: admit, dtype: int64"
      ]
     },
     "execution_count": 29,
     "metadata": {},
     "output_type": "execute_result"
    }
   ],
   "source": [
    "admit['admit'].value_counts()"
   ]
  },
  {
   "cell_type": "code",
   "execution_count": 30,
   "metadata": {},
   "outputs": [],
   "source": [
    "# Grab all rows where prestige = 1.\n",
    "\n",
    "# Concatenate ten copies of admit.\n",
    "admit = pd.concat([admit] * 10, axis=0)\n",
    "\n",
    "# Set a random seed.\n",
    "np.random.seed(42)\n",
    "\n",
    "# Add random noise to inflate GPA for people who were admitted.\n",
    "# Subtract random noise to deflate GPA for people who were not admitted.\n",
    "# Again: DO NOT DO THIS IN GENERAL.\n",
    "admit.loc[admit['admit'] == 1, 'gpa'] += np.random.random(size=admit[admit.admit == 1].shape[0])\n",
    "admit.loc[admit['admit'] == 0, 'gpa'] -= np.random.random(size=admit[admit.admit == 0].shape[0])"
   ]
  },
  {
   "cell_type": "code",
   "execution_count": 39,
   "metadata": {},
   "outputs": [
    {
     "data": {
      "text/plain": [
       "1    330\n",
       "0    280\n",
       "Name: admit, dtype: int64"
      ]
     },
     "execution_count": 39,
     "metadata": {},
     "output_type": "execute_result"
    }
   ],
   "source": [
    "admit['admit'].value_counts()"
   ]
  },
  {
   "cell_type": "code",
   "execution_count": 40,
   "metadata": {},
   "outputs": [
    {
     "name": "stdout",
     "output_type": "stream",
     "text": [
      "<class 'pandas.core.frame.DataFrame'>\n",
      "Int64Index: 610 entries, 2 to 382\n",
      "Data columns (total 6 columns):\n",
      " #   Column      Non-Null Count  Dtype  \n",
      "---  ------      --------------  -----  \n",
      " 0   index       610 non-null    int64  \n",
      " 1   admit       610 non-null    int64  \n",
      " 2   gre         610 non-null    float64\n",
      " 3   gpa         610 non-null    float64\n",
      " 4   prestige    610 non-null    float64\n",
      " 5   naive_pred  610 non-null    int64  \n",
      "dtypes: float64(3), int64(3)\n",
      "memory usage: 33.4 KB\n"
     ]
    }
   ],
   "source": [
    "admit.info()"
   ]
  },
  {
   "cell_type": "markdown",
   "metadata": {},
   "source": [
    "## Linear Regression Notation\n",
    "\n",
    "**linear** regression:\n",
    "\n",
    "### $$\n",
    "\\begin{eqnarray*}\n",
    "\\hat{Y} &=& \\hat{\\beta}_0 + \\hat{\\beta}_1X_1 + \\hat{\\beta}_2X_2 + \\cdots + \\hat{\\beta}_pX_p \\\\\n",
    "&=& \\hat{\\beta}_0 + \\sum_{j=1}^p\\hat{\\beta}_jX_j\n",
    "\\end{eqnarray*}\n",
    "$$\n",
    "\n",
    "Where:\n",
    "- $\\hat{Y}$ is the predicted value of $Y$ based on all of the inputs $X_j$.\n",
    "- $X_1$, $X_2$, $\\ldots$, $X_p$ are the predictors.\n",
    "- $\\hat{\\beta}_0$ is the estimated intercept.\n",
    "- $\\hat{\\beta}_j$ is the estimated coefficient for the predictor $X_j$, the $j$th column in variable matrix $\\mathbf{X}$.\n"
   ]
  },
  {
   "cell_type": "markdown",
   "metadata": {},
   "source": [
    "<a id='pred-admit'></a>\n",
    "\n",
    "## What If We Predicted `admit` With `gpa` Using Linear Regression?\n",
    "\n",
    "Let's try predicting the `admit` binary indicator using just `gpa` with a linear regression to see what goes wrong."
   ]
  },
  {
   "cell_type": "code",
   "execution_count": 53,
   "metadata": {},
   "outputs": [
    {
     "name": "stdout",
     "output_type": "stream",
     "text": [
      "Intercept: -1.2044437102734054\n",
      "Coefficient: [0.5020687]\n"
     ]
    }
   ],
   "source": [
    "# Define y and X.\n",
    "y = admit['admit']\n",
    "X = admit[['gpa']] # Because X is a matrix, we'll get a \n",
    "                   # reshape request if we don't use double brackets.\n",
    "\n",
    "# Create training and testing sets.\n",
    "X_train, X_test, y_train, y_test = train_test_split(X,y, test_size=0.2,random_state=42)\n",
    "\n",
    "# Instantiate a linear regression model.\n",
    "lr = LinearRegression() #leaving to default params\n",
    "\n",
    "# Fit our linear regression model to the training data. ALWAYS FIT ON TRAINING SET\n",
    "lr.fit(X_train, y_train)\n",
    "\n",
    "# Print out intercept and coefficients.\n",
    "print(f'Intercept: {lr.intercept_}')\n",
    "print(f'Coefficient: {lr.coef_}')"
   ]
  },
  {
   "cell_type": "code",
   "execution_count": 55,
   "metadata": {},
   "outputs": [
    {
     "data": {
      "text/plain": [
       "(488, 1)"
      ]
     },
     "execution_count": 55,
     "metadata": {},
     "output_type": "execute_result"
    }
   ],
   "source": [
    "X_train.shape"
   ]
  },
  {
   "cell_type": "code",
   "execution_count": 56,
   "metadata": {},
   "outputs": [
    {
     "data": {
      "text/plain": [
       "array([ 3.63185019e-01,  8.28408819e-01,  1.68252175e-02,  7.36802786e-01,\n",
       "        2.21930888e-02,  2.97086295e-01,  7.52590764e-01,  7.44954902e-01,\n",
       "        8.87956439e-01,  1.21324873e+00,  2.64902909e-01,  3.64825478e-01,\n",
       "        8.15356804e-01,  1.21056365e+00, -1.71800131e-01,  7.09089443e-01,\n",
       "        1.27723652e+00,  4.13076572e-01,  9.63775450e-01,  3.96549887e-01,\n",
       "        9.10974424e-01,  1.75038198e-02,  7.47764892e-01,  2.38985414e-02,\n",
       "        1.68160576e-01,  1.00723559e+00,  5.32859466e-01,  8.29011075e-01,\n",
       "        1.23871101e+00,  6.05690040e-01,  6.46400932e-01,  7.69006940e-01,\n",
       "        5.82902742e-01,  3.63279847e-01,  4.39470030e-01,  3.28868891e-01,\n",
       "        7.69303382e-01,  9.91875947e-01,  8.26099859e-01,  1.17430602e+00,\n",
       "        1.10869510e+00,  6.43161085e-01,  9.68906557e-01,  4.79364370e-01,\n",
       "        1.01090562e+00,  8.07940082e-01,  6.61621790e-01,  8.96640713e-01,\n",
       "        7.45138105e-01,  3.13956582e-01,  9.38421928e-01,  1.15210211e+00,\n",
       "        7.26879003e-01,  7.72936646e-01,  1.00510688e+00,  8.13597700e-01,\n",
       "        6.04454816e-01,  8.46075120e-01,  1.29173244e+00,  2.79558234e-01,\n",
       "        5.01553169e-01, -5.33388239e-02,  7.45211940e-01,  5.71097340e-01,\n",
       "        1.16837881e+00,  1.89732650e-01,  2.42406903e-01,  6.74174654e-01,\n",
       "        6.12113749e-01,  2.86020697e-01, -3.48218773e-02,  9.37579231e-03,\n",
       "        7.32522118e-02,  6.91769978e-01, -1.62228771e-01,  8.65237007e-01,\n",
       "       -2.34511373e-01,  3.48778913e-01, -6.48802057e-02,  7.28938621e-01,\n",
       "        1.58434732e-01,  7.12683710e-01,  7.91380963e-01,  7.14490600e-01,\n",
       "        6.73544376e-01,  1.07902516e+00,  1.10630101e+00,  5.88446605e-01,\n",
       "        2.70616764e-01,  1.13937291e+00,  4.92579197e-01,  9.49918083e-02,\n",
       "       -4.77832406e-02,  6.57834308e-01,  1.70833524e-01,  2.72764530e-01,\n",
       "        8.67718861e-01,  8.34931733e-01,  1.23240695e+00, -6.87048172e-03,\n",
       "        5.83483308e-01,  6.78059227e-01,  3.53809976e-01,  9.40066933e-01,\n",
       "        6.91859672e-01, -5.50866236e-02,  1.12790251e+00,  6.37186249e-01,\n",
       "        3.95321370e-01,  3.63098025e-01,  3.56343937e-01,  8.67554644e-01,\n",
       "        4.81292468e-01,  9.01856470e-01,  4.39607159e-01,  9.95187870e-01,\n",
       "        7.12008075e-01,  6.31221584e-01,  7.58481111e-01,  8.29676947e-01,\n",
       "        7.64581841e-01,  5.46300218e-01,  1.15833742e+00,  6.58441049e-01,\n",
       "        7.18578496e-01,  4.61227016e-01,  7.66023292e-01,  5.81366388e-01,\n",
       "        5.71732653e-01, -1.13179005e-01,  7.69499427e-01,  1.64889370e-01,\n",
       "        5.26735930e-01,  3.27437484e-01, -1.27276847e-01,  1.29931612e+00,\n",
       "        4.42275043e-01,  1.41631161e-01,  4.88169040e-01,  9.61773611e-02,\n",
       "        1.41402323e-01,  3.90632716e-01,  9.24887378e-01,  1.22321031e+00,\n",
       "       -4.26572795e-02,  6.16352516e-01, -4.34388371e-02,  7.33186111e-01,\n",
       "        1.01437919e+00,  2.07838642e-01,  7.43362873e-01,  1.09477936e+00,\n",
       "        5.00289946e-01, -6.21198049e-02,  1.05855029e+00,  8.39377255e-02,\n",
       "        7.86770101e-01,  7.81326331e-01,  3.67734645e-01,  9.97876314e-01,\n",
       "       -1.94611281e-02,  2.04273779e-01, -4.90298205e-02,  8.68711741e-01,\n",
       "        3.36751773e-01,  1.17134232e+00,  1.21286324e+00,  2.64336481e-01,\n",
       "        2.21112138e-01,  1.05509567e+00,  1.87440782e-01,  4.06438366e-01,\n",
       "        6.85043888e-01,  3.43747626e-01,  1.31860200e-01,  3.20371845e-01,\n",
       "        4.00114221e-01,  8.55114708e-01,  6.78116178e-01,  5.51266489e-01,\n",
       "        3.98809408e-01,  1.19090957e+00,  2.81384638e-01,  2.24595223e-01,\n",
       "        1.14732525e-01,  9.92504814e-01,  8.60802581e-01,  3.65882067e-01,\n",
       "        5.56080887e-01,  9.76659705e-01,  7.87129936e-01,  2.46935636e-01,\n",
       "        4.54517440e-01,  8.30046557e-01,  8.24303000e-01,  2.62267375e-01,\n",
       "        1.95890619e-01,  3.44668637e-01,  5.33643959e-01,  6.02140112e-01,\n",
       "        9.78160475e-01,  6.28621338e-01,  9.94227281e-01,  1.95592520e-01,\n",
       "        6.20232572e-01,  2.35328715e-01,  7.59998514e-01,  4.15687748e-02,\n",
       "        9.30375763e-01,  7.80530995e-01,  4.28505225e-01,  3.75946020e-01,\n",
       "        3.75042158e-01,  4.33858045e-01,  2.10942744e-01,  6.68714937e-02,\n",
       "        8.68464284e-01,  6.37894291e-01,  9.77977292e-01, -3.60292213e-02,\n",
       "        6.91570606e-01, -1.80239923e-01,  7.90520579e-01,  5.23661994e-02,\n",
       "        9.37938778e-01,  1.29234922e+00,  5.10795614e-01,  7.09332860e-01,\n",
       "        1.05841622e+00,  9.88483476e-01,  9.69964618e-01,  7.35971721e-01,\n",
       "        2.04366331e-01,  2.25120685e-01,  1.26460723e-02,  5.62571064e-02,\n",
       "        4.06115113e-01,  1.00987150e+00,  1.44192315e-02,  2.72775627e-01,\n",
       "        2.64215050e-02,  3.75977422e-01,  1.21683307e+00,  1.10663043e+00,\n",
       "        1.07115862e+00, -4.01340388e-01,  7.40754394e-01,  1.03860487e+00,\n",
       "        6.94479000e-01,  1.02572881e+00,  7.61068557e-01,  6.10054979e-01,\n",
       "        7.62988401e-01,  8.57128067e-01,  8.68045653e-01,  7.89586743e-01,\n",
       "        1.49586441e-01,  3.84550934e-01,  7.77541528e-01, -2.79228379e-02,\n",
       "        8.74584720e-01,  8.57999986e-01,  1.63984536e-01,  9.06841913e-01,\n",
       "        2.24307843e-01,  2.44786186e-01,  6.70271737e-01, -8.98553990e-03,\n",
       "        3.81029527e-01, -6.30345215e-02, -1.76572767e-01,  8.41260622e-01,\n",
       "        4.42508394e-02,  3.82932477e-01,  7.52621815e-01,  9.87186973e-01,\n",
       "        1.10126389e+00,  9.73249217e-01,  6.10796768e-01,  8.46681368e-01,\n",
       "        4.39721485e-01,  8.52620353e-01,  9.75214553e-01,  4.59248663e-01,\n",
       "        3.04767147e-01, -1.66148012e-02,  6.55751731e-01,  7.70993738e-01,\n",
       "        2.13965337e-01,  2.75095980e-01,  3.14776118e-01,  5.40412567e-02,\n",
       "        4.01512029e-01,  2.25217498e-01,  7.74094735e-01,  3.85327904e-01,\n",
       "        5.05149270e-01,  9.12493334e-01,  3.50382758e-01,  7.80514179e-01,\n",
       "        3.66087380e-01, -1.04540889e-02,  4.52774636e-01,  1.46262832e-01,\n",
       "        3.73830594e-01,  1.49653240e-01, -2.78020192e-02, -2.48600824e-02,\n",
       "       -3.44319277e-02,  1.24433263e+00,  3.20087528e-01,  8.72668607e-01,\n",
       "        9.63859204e-01,  4.34774917e-01,  3.01743582e-02,  1.58122351e-01,\n",
       "        9.16044320e-01,  4.67471120e-01,  1.28714671e+00,  4.51529129e-01,\n",
       "        6.47706194e-01,  1.09615795e+00,  6.85777296e-01,  7.49675713e-01,\n",
       "        6.30282355e-01, -1.12249800e-01,  3.34224861e-02,  5.07651873e-01,\n",
       "        3.46675370e-01, -4.49186362e-02,  1.67892371e-01,  2.82306410e-01,\n",
       "        6.78686999e-02,  7.48182962e-01,  9.56768116e-01,  4.34156252e-01,\n",
       "        3.59103077e-01,  7.61236717e-01,  1.12335282e+00,  9.19777687e-01,\n",
       "        1.15387977e+00,  6.27741125e-01,  6.18995940e-01,  9.56581584e-01,\n",
       "       -1.72884316e-01,  1.04044117e+00,  1.23597696e+00,  9.12188060e-01,\n",
       "        8.24675110e-01,  2.63069444e-01,  8.29778852e-01,  2.44304153e-01,\n",
       "        4.64550343e-01,  2.20131535e-01,  9.18300309e-01,  2.13570624e-01,\n",
       "        9.42200216e-01,  3.26834704e-01,  7.70919918e-01,  2.76899626e-01,\n",
       "        6.41195957e-01,  2.85745037e-01, -1.23260251e-01,  7.23348287e-01,\n",
       "        7.05560825e-01,  8.65452908e-02,  1.12169150e+00,  7.81438662e-01,\n",
       "       -4.83043040e-02,  1.15537564e-01,  1.10439876e+00,  2.69942178e-01,\n",
       "        4.76970007e-01,  7.28616488e-01,  1.05110879e+00,  4.26682772e-01,\n",
       "       -2.34556470e-01,  1.03220425e+00,  9.28057886e-01,  1.35942079e-02,\n",
       "        3.51200834e-01,  7.17992288e-01,  1.04019751e+00,  1.17128222e+00,\n",
       "       -2.01397085e-01, -1.94132971e-01,  1.28023680e+00,  8.78292185e-01,\n",
       "        2.55087985e-01,  3.23607469e-01,  3.37321788e-02,  1.00242492e+00,\n",
       "        4.41027362e-01,  5.66115723e-01,  6.83752945e-01,  4.01689550e-01,\n",
       "        6.63637742e-01,  2.39608777e-01,  5.61452018e-02, -2.95599811e-02,\n",
       "        1.00062256e+00,  4.12828674e-01,  2.71234827e-01,  7.76534623e-01,\n",
       "        2.02271083e-01,  7.32896644e-01,  2.42221884e-01,  3.19130470e-02,\n",
       "        1.20970208e+00,  8.72603979e-03,  2.39945740e-01,  7.76901038e-01,\n",
       "        1.15652635e+00,  3.24490442e-01,  9.61659376e-01,  1.07121228e+00,\n",
       "        4.21973318e-01, -6.35217565e-02,  5.71983962e-01,  7.90591327e-01,\n",
       "       -1.87278149e-01,  1.28915820e+00,  6.11905774e-01,  9.79336387e-01,\n",
       "        6.97793248e-01,  2.08752963e-01,  6.37964098e-01,  1.00768593e+00,\n",
       "        3.70409262e-01,  6.03955118e-01,  7.69044900e-01,  8.42139094e-01,\n",
       "       -4.23307231e-02,  6.73906387e-01,  9.16442541e-02,  9.09939481e-01,\n",
       "        1.05618943e+00,  6.79645339e-01,  1.24920940e+00,  5.22281997e-01,\n",
       "       -1.64491842e-03,  8.58883201e-01,  5.99041178e-01,  2.38772549e-01,\n",
       "       -2.01355069e-02,  6.53616166e-01,  8.88503188e-01, -6.75208082e-02,\n",
       "        7.89632950e-01,  8.08943355e-02,  3.53470193e-01,  3.73873767e-01,\n",
       "       -1.83557093e-01,  1.11303113e+00,  6.03984722e-01,  1.08878844e+00,\n",
       "        2.04494234e-02,  9.93761245e-01,  5.20188167e-01,  4.16448329e-01,\n",
       "        4.14294388e-01,  2.61274483e-01,  1.05984085e+00, -3.95834959e-02,\n",
       "        1.86708612e-01, -1.31298433e-01,  4.22386682e-03,  2.22211844e-01,\n",
       "       -7.52707705e-04,  6.78104596e-01,  1.15378086e+00, -1.30598099e-01,\n",
       "        8.97476183e-01,  3.58275462e-01, -2.10711921e-02,  1.08426365e+00,\n",
       "        8.67448343e-01,  1.04633501e+00,  7.42338178e-01,  7.11736646e-01,\n",
       "        3.47629968e-01, -9.15988691e-02,  6.63545299e-01,  1.04304677e-01,\n",
       "        4.09821265e-01,  8.45341627e-01,  3.10093171e-01,  5.10614354e-01])"
      ]
     },
     "execution_count": 56,
     "metadata": {},
     "output_type": "execute_result"
    }
   ],
   "source": [
    "lr.predict(X_train)"
   ]
  },
  {
   "cell_type": "code",
   "execution_count": 35,
   "metadata": {},
   "outputs": [
    {
     "data": {
      "text/html": [
       "<div>\n",
       "<style scoped>\n",
       "    .dataframe tbody tr th:only-of-type {\n",
       "        vertical-align: middle;\n",
       "    }\n",
       "\n",
       "    .dataframe tbody tr th {\n",
       "        vertical-align: top;\n",
       "    }\n",
       "\n",
       "    .dataframe thead th {\n",
       "        text-align: right;\n",
       "    }\n",
       "</style>\n",
       "<table border=\"1\" class=\"dataframe\">\n",
       "  <thead>\n",
       "    <tr style=\"text-align: right;\">\n",
       "      <th></th>\n",
       "      <th>gpa</th>\n",
       "    </tr>\n",
       "  </thead>\n",
       "  <tbody>\n",
       "    <tr>\n",
       "      <th>118</th>\n",
       "      <td>4.609320</td>\n",
       "    </tr>\n",
       "    <tr>\n",
       "      <th>220</th>\n",
       "      <td>3.559342</td>\n",
       "    </tr>\n",
       "    <tr>\n",
       "      <th>361</th>\n",
       "      <td>3.967545</td>\n",
       "    </tr>\n",
       "    <tr>\n",
       "      <th>332</th>\n",
       "      <td>3.989934</td>\n",
       "    </tr>\n",
       "    <tr>\n",
       "      <th>118</th>\n",
       "      <td>4.197249</td>\n",
       "    </tr>\n",
       "    <tr>\n",
       "      <th>...</th>\n",
       "      <td>...</td>\n",
       "    </tr>\n",
       "    <tr>\n",
       "      <th>354</th>\n",
       "      <td>2.817884</td>\n",
       "    </tr>\n",
       "    <tr>\n",
       "      <th>206</th>\n",
       "      <td>4.005583</td>\n",
       "    </tr>\n",
       "    <tr>\n",
       "      <th>274</th>\n",
       "      <td>4.122645</td>\n",
       "    </tr>\n",
       "    <tr>\n",
       "      <th>369</th>\n",
       "      <td>2.700935</td>\n",
       "    </tr>\n",
       "    <tr>\n",
       "      <th>106</th>\n",
       "      <td>3.594389</td>\n",
       "    </tr>\n",
       "  </tbody>\n",
       "</table>\n",
       "<p>122 rows × 1 columns</p>\n",
       "</div>"
      ],
      "text/plain": [
       "          gpa\n",
       "118  4.609320\n",
       "220  3.559342\n",
       "361  3.967545\n",
       "332  3.989934\n",
       "118  4.197249\n",
       "..        ...\n",
       "354  2.817884\n",
       "206  4.005583\n",
       "274  4.122645\n",
       "369  2.700935\n",
       "106  3.594389\n",
       "\n",
       "[122 rows x 1 columns]"
      ]
     },
     "execution_count": 35,
     "metadata": {},
     "output_type": "execute_result"
    }
   ],
   "source": [
    "X_test"
   ]
  },
  {
   "cell_type": "code",
   "execution_count": 37,
   "metadata": {},
   "outputs": [
    {
     "name": "stderr",
     "output_type": "stream",
     "text": [
      "/Users/premchandran/opt/anaconda3/envs/python38/lib/python3.8/site-packages/sklearn/base.py:450: UserWarning: X does not have valid feature names, but LinearRegression was fitted with feature names\n",
      "  warnings.warn(\n"
     ]
    },
    {
     "data": {
      "text/plain": [
       "array([1.10975158])"
      ]
     },
     "execution_count": 37,
     "metadata": {},
     "output_type": "execute_result"
    }
   ],
   "source": [
    "lr.predict([[4.609320]])"
   ]
  },
  {
   "cell_type": "code",
   "execution_count": 43,
   "metadata": {},
   "outputs": [
    {
     "data": {
      "text/plain": [
       "array([1.10975158])"
      ]
     },
     "execution_count": 43,
     "metadata": {},
     "output_type": "execute_result"
    }
   ],
   "source": [
    "# make my own linear regression equation => y = wX + c\n",
    "y_hat = lr.coef_ * 4.609320 + lr.intercept_\n",
    "y_hat"
   ]
  },
  {
   "cell_type": "code",
   "execution_count": 44,
   "metadata": {},
   "outputs": [
    {
     "data": {
      "text/plain": [
       "array([ 1.10975178,  0.58259061,  0.78753636,  0.7987772 ,  0.90286338,\n",
       "        0.78635071,  0.97958216, -0.04431485,  0.96749252,  0.46073301,\n",
       "        0.73893734,  0.98609153,  0.27084547,  1.16139397,  0.06777584,\n",
       "        1.06093697,  0.87411746,  0.58590428,  0.36900312,  0.23349476,\n",
       "        0.22484005,  0.33132284,  0.20394961,  0.79569535, -0.00480817,\n",
       "        0.67403203,  0.14699696,  0.47226202,  0.80058255,  0.05216048,\n",
       "       -0.34835398,  0.52792983, -0.04024208,  0.29697886,  0.30670996,\n",
       "        0.88657767,  0.76825016,  0.71835461,  0.62642399,  0.48592024,\n",
       "        0.37264084,  0.77880732,  0.28036575,  0.30772637,  0.63739154,\n",
       "        0.22123059,  0.27044608,  0.86401173,  0.17716403,  0.61706894,\n",
       "        1.04143035,  0.77420015,  0.9059007 ,  0.70280481,  0.88892728,\n",
       "        0.24514761,  0.62094258,  0.24441509,  1.0120673 ,  1.2506749 ,\n",
       "        1.24136416,  0.21057873, -0.08485542,  0.09045435,  0.12263009,\n",
       "        0.94893253,  1.07407753,  0.30750062,  0.10282156,  0.77553098,\n",
       "        0.86510266,  0.90456369, -0.05984268,  0.5170507 ,  0.22230856,\n",
       "        0.03082232,  0.87169917,  0.97211757,  0.14241522,  0.80844863,\n",
       "       -0.07699564,  0.57331339,  0.97331158,  0.71144769,  0.76420096,\n",
       "        1.12617507,  0.83407715,  0.02152686, -0.11297844,  0.93440309,\n",
       "        0.82156933,  0.72394106,  0.85655192,  0.68327211,  0.32656099,\n",
       "        0.31475043,  1.13214815,  0.19624587,  0.37425267,  0.14356372,\n",
       "        0.06976311,  0.08314575,  0.75747614,  0.55108102,  0.48149389,\n",
       "        0.96610115,  0.40491507,  0.01770417,  0.22235277,  0.07648759,\n",
       "        0.72911426,  1.16832297,  0.4292865 , -0.01500641,  0.92559393,\n",
       "        1.23540161,  1.20330226,  0.21032749,  0.8066341 ,  0.86540711,\n",
       "        0.15161096,  0.60018625])"
      ]
     },
     "execution_count": 44,
     "metadata": {},
     "output_type": "execute_result"
    }
   ],
   "source": [
    "y_preds_lr = lr.predict(X_test)\n",
    "y_preds_lr"
   ]
  },
  {
   "cell_type": "code",
   "execution_count": 46,
   "metadata": {},
   "outputs": [
    {
     "name": "stdout",
     "output_type": "stream",
     "text": [
      "Prediction of first GPA is 1.1097517780860064\n",
      "Prediction of second GPA is 0.5825906113271104\n",
      "Prediction of third GPA is 0.7875363638375259\n"
     ]
    },
    {
     "data": {
      "text/plain": [
       "array([1.10975178, 0.58259061, 0.78753636])"
      ]
     },
     "execution_count": 46,
     "metadata": {},
     "output_type": "execute_result"
    }
   ],
   "source": [
    "print(f'Prediction of first GPA is {y_preds_lr[0]}')\n",
    "print(f'Prediction of second GPA is {y_preds_lr[1]}')\n",
    "print(f'Prediction of third GPA is {y_preds_lr[2]}')\n",
    "y_preds_lr[:3]"
   ]
  },
  {
   "cell_type": "code",
   "execution_count": 47,
   "metadata": {},
   "outputs": [],
   "source": [
    "y_hat_1 = lr.coef_ * 4.609320 + lr.intercept_\n",
    "y_hat_2 = lr.coef_ * 3.559342 + lr.intercept_\n",
    "y_hat_3 = lr.coef_ * 3.967545 + lr.intercept_"
   ]
  },
  {
   "cell_type": "code",
   "execution_count": 48,
   "metadata": {},
   "outputs": [
    {
     "name": "stdout",
     "output_type": "stream",
     "text": [
      "[1.10975158] [0.58259049] [0.78753644]\n"
     ]
    }
   ],
   "source": [
    "print(y_hat_1,y_hat_2,y_hat_3)"
   ]
  },
  {
   "cell_type": "code",
   "execution_count": null,
   "metadata": {},
   "outputs": [],
   "source": []
  },
  {
   "cell_type": "markdown",
   "metadata": {},
   "source": [
    "<a id='plot-reg'></a>\n",
    "### What do those coefficients mean?  Plot `admit` (our $Y$) against `gpa` (our $X$).\n",
    "\n",
    "Looking at the plot below, what are problems with using a regression?"
   ]
  },
  {
   "cell_type": "code",
   "execution_count": 42,
   "metadata": {},
   "outputs": [
    {
     "name": "stderr",
     "output_type": "stream",
     "text": [
      "/Users/premchandran/opt/anaconda3/envs/python38/lib/python3.8/site-packages/sklearn/base.py:450: UserWarning: X does not have valid feature names, but LinearRegression was fitted with feature names\n",
      "  warnings.warn(\n"
     ]
    },
    {
     "data": {
      "image/png": "[encoded data removed]",
      "text/plain": [
       "<Figure size 720x432 with 1 Axes>"
      ]
     },
     "metadata": {},
     "output_type": "display_data"
    }
   ],
   "source": [
    "# Create figure.\n",
    "plt.figure(figsize=(10,6))\n",
    "\n",
    "# Plot the regression line where gpa predicts admit.\n",
    "x_vals = np.linspace(1, 5, 300)\n",
    "\n",
    "# Plot line of best fit\n",
    "plt.plot(x_vals,\n",
    "         lr.predict(x_vals.reshape(-1,1)),\n",
    "         color='black', alpha=0.7, lw=4)\n",
    "\n",
    "# Create scatterplot with orange dots for those rejected.\n",
    "plt.scatter(admit['gpa'][admit['admit'] == 0],\n",
    "            admit['admit'][admit['admit'] == 0],\n",
    "            c='orange',\n",
    "            s=100,\n",
    "            alpha=0.7,\n",
    "            label='rejected')\n",
    "\n",
    "# Create scatterplot with blue dots for those admitted.\n",
    "plt.scatter(admit['gpa'][admit['admit'] == 1],\n",
    "            admit['admit'][admit['admit'] == 1],\n",
    "            c='blue',\n",
    "            s=100,\n",
    "            alpha=0.7,\n",
    "            label='admitted')\n",
    "\n",
    "# Set labels of axes and title.\n",
    "plt.ylabel('P(Admitted)', fontsize=16, rotation = 'horizontal', ha = 'right')\n",
    "plt.yticks(fontsize = 14)\n",
    "plt.xlabel('GPA', fontsize=16)\n",
    "plt.xticks(fontsize = 14)\n",
    "plt.title('Predicting Admission from GPA (Prestige = 1)', fontsize=20)\n",
    "plt.xlim(1.5, 5)\n",
    "plt.ylim(-0.25, 1.25)\n",
    "plt.legend(loc='upper left');"
   ]
  },
  {
   "cell_type": "markdown",
   "metadata": {},
   "source": [
    "#### **Note:** Unless we predict exactly one value, linear regression will always predict values from $-\\infty$ to $+\\infty$. This isn't always appropriate in real-world cases!"
   ]
  },
  {
   "cell_type": "markdown",
   "metadata": {},
   "source": [
    "<a id='pred-binary'></a>\n",
    "\n",
    "## Predicting a Binary Class\n",
    "\n",
    "---\n",
    "\n",
    "In our case we have two classes: `1=admitted` and `0=rejected`.\n",
    "\n",
    "The logistic regression is still solving for $\\hat{Y}$. However, in our binary classification case, $\\hat{Y}$ will be the probability of `y` being one of the classes.\n",
    "\n",
    "### $$\\hat{Y} = P(Y = 1)$$\n",
    "\n",
    "We'll still try to fit a \"line\" of best fit to this... except it won't be perfectly linear. We need to *guarantee* that the right-hand side of the regression equation will evaluate to a probability. (That is, some number between 0 and 1!)"
   ]
  },
  {
   "cell_type": "markdown",
   "metadata": {},
   "source": [
    "## The Logit Link Function (advanced)\n",
    "\n",
    "---\n",
    "\n",
    "We will use something called a **link function** to effectively \"bend\" our line of best fit so that it is a curve of best fit that matches the range or set of values in which we're interested.\n",
    "\n",
    "For logistic regression, that specific link function that transforms (\"bends\") our line is known as the **logit** link.\n",
    "\n",
    "### $$\\text{logit}\\left(P(Y = 1)\\right) = \\beta_0 + \\beta_1X_1 + \\beta_2X_2 + \\cdots + \\beta_pX_p$$\n",
    "\n",
    "### $$\\ y = \\beta_0 + \\beta_1X_1 + \\epsilon$$\n",
    "\n",
    "### $$\\log\\left(\\frac{P(Y = 1)}{1 - P(Y = 1)}\\right) = \\beta_0 + \\beta_1X_1 + \\beta_2X_2 + \\cdots + \\beta_pX_p$$\n",
    "\n",
    "Equivalently, we assume that each independent variable $X_i$ is linearly related to the **log of the odds of success**.\n",
    "\n",
    "Remember, the purpose of the link function is to bend our line of best fit.\n",
    "- This is convenient because we can have any values of $X$ inputs that we want, and we'll only ever predict between 0 and 1!\n",
    "- However, interpreting a one-unit change gets a little harder. (More on this later.)"
   ]
  },
  {
   "cell_type": "markdown",
   "metadata": {},
   "source": [
    "![](./images/logregmeme.png)\n",
    "\n",
    "[*image source*](https://twitter.com/ChelseaParlett/status/1279111984433127425?s=20)"
   ]
  },
  {
   "cell_type": "markdown",
   "metadata": {},
   "source": [
    "## Fitting and making predictions with the logistic regression model.\n",
    "\n",
    "As with linear regression, there are four steps to building a logistic regression model.\n",
    "\n",
    "1. Instantiate the model.\n",
    "2. Fit the model.\n",
    "3. Generate predictions.\n",
    "4. Evaluate model."
   ]
  },
  {
   "cell_type": "code",
   "execution_count": 57,
   "metadata": {
    "scrolled": true
   },
   "outputs": [
    {
     "name": "stdout",
     "output_type": "stream",
     "text": [
      "Logistic Regression Intercept: [-13.58879616]\n",
      "Logistic Regression Coefficient: [[4.01234786]]\n"
     ]
    }
   ],
   "source": [
    "# Step 1: Instantiate our model.\n",
    "logreg = LogisticRegression()\n",
    "\n",
    "# Step 2: Fit our model.\n",
    "logreg.fit(X_train, y_train)\n",
    "\n",
    "print(f'Logistic Regression Intercept: {logreg.intercept_}')\n",
    "print(f'Logistic Regression Coefficient: {logreg.coef_}')"
   ]
  },
  {
   "cell_type": "markdown",
   "metadata": {},
   "source": [
    "There are two methods in `sklearn` we will use **a lot** for the rest of this course and beyond:\n",
    "- `.predict()`\n",
    "- `.predict_proba()`"
   ]
  },
  {
   "cell_type": "code",
   "execution_count": 58,
   "metadata": {},
   "outputs": [
    {
     "data": {
      "text/plain": [
       "array([1, 1, 1, 1, 1, 1, 1, 0, 1, 0, 1, 1, 0, 1, 0, 1, 1, 1, 0, 0, 0, 0,\n",
       "       0, 1, 0, 1, 0, 0, 1, 0, 0, 1, 0, 0, 0, 1, 1, 1, 1, 0, 0, 1, 0, 0,\n",
       "       1, 0, 0, 1, 0, 1, 1, 1, 1, 1, 1, 0, 1, 0, 1, 1, 1, 0, 0, 0, 0, 1,\n",
       "       1, 0, 0, 1, 1, 1, 0, 1, 0, 0, 1, 1, 0, 1, 0, 1, 1, 1, 1, 1, 1, 0,\n",
       "       0, 1, 1, 1, 1, 1, 0, 0, 1, 0, 0, 0, 0, 0, 1, 1, 0, 1, 0, 0, 0, 0,\n",
       "       1, 1, 0, 0, 1, 1, 1, 0, 1, 1, 0, 1])"
      ]
     },
     "execution_count": 58,
     "metadata": {},
     "output_type": "execute_result"
    }
   ],
   "source": [
    "# Step 3 (part 1): Generate predicted values.\n",
    "y_preds_log = logreg.predict(X_test)\n",
    "y_preds_log"
   ]
  },
  {
   "cell_type": "code",
   "execution_count": 59,
   "metadata": {},
   "outputs": [
    {
     "data": {
      "text/plain": [
       "array([[0.00735202, 0.99264798],\n",
       "       [0.33347204, 0.66652796],\n",
       "       [0.08863845, 0.91136155],\n",
       "       [0.08164477, 0.91835523],\n",
       "       [0.03725419, 0.96274581],\n",
       "       [0.08940687, 0.91059313],\n",
       "       [0.02052982, 0.97947018],\n",
       "       [0.98684192, 0.01315808],\n",
       "       [0.02256532, 0.97743468],\n",
       "       [0.5698693 , 0.4301307 ],\n",
       "       [0.12542956, 0.87457044],\n",
       "       [0.01950946, 0.98049054],\n",
       "       [0.85800635, 0.14199365],\n",
       "       [0.00487812, 0.99512188],\n",
       "       [0.96837547, 0.03162453],\n",
       "       [0.01082203, 0.98917797],\n",
       "       [0.04642862, 0.95357138],\n",
       "       [0.32761219, 0.67238781],\n",
       "       [0.73387829, 0.26612171],\n",
       "       [0.89064264, 0.10935736],\n",
       "       [0.89719945, 0.10280055],\n",
       "       [0.78843476, 0.21156524],\n",
       "       [0.91160861, 0.08839139],\n",
       "       [0.08351055, 0.91648945],\n",
       "       [0.9820447 , 0.0179553 ],\n",
       "       [0.19414646, 0.80585354],\n",
       "       [0.94205562, 0.05794438],\n",
       "       [0.54715503, 0.45284497],\n",
       "       [0.0805695 , 0.9194305 ],\n",
       "       [0.9719817 , 0.0280183 ],\n",
       "       [0.99882726, 0.00117274],\n",
       "       [0.43642245, 0.56357755],\n",
       "       [0.98641252, 0.01358748],\n",
       "       [0.83061339, 0.16938661],\n",
       "       [0.819389  , 0.180611  ],\n",
       "       [0.04221387, 0.95778613],\n",
       "       [0.101904  , 0.898096  ],\n",
       "       [0.14461225, 0.85538775],\n",
       "       [0.26060562, 0.73939438],\n",
       "       [0.51999705, 0.48000295],\n",
       "       [0.72816217, 0.27183783],\n",
       "       [0.09443779, 0.90556221],\n",
       "       [0.84848227, 0.15151773],\n",
       "       [0.81818377, 0.18181623],\n",
       "       [0.24407403, 0.75592597],\n",
       "       [0.89982962, 0.10017038],\n",
       "       [0.85839476, 0.14160524],\n",
       "       [0.05013803, 0.94986197],\n",
       "       [0.92740516, 0.07259484],\n",
       "       [0.27526713, 0.72473287],\n",
       "       [0.01262463, 0.98737537],\n",
       "       [0.09763388, 0.90236612],\n",
       "       [0.03639332, 0.96360668],\n",
       "       [0.16067281, 0.83932719],\n",
       "       [0.04146117, 0.95853883],\n",
       "       [0.88123703, 0.11876297],\n",
       "       [0.26913456, 0.73086544],\n",
       "       [0.88184834, 0.11815166],\n",
       "       [0.01591043, 0.98408957],\n",
       "       [0.00239588, 0.99760412],\n",
       "       [0.00258047, 0.99741953],\n",
       "       [0.90724565, 0.09275435],\n",
       "       [0.9904485 , 0.0095515 ],\n",
       "       [0.96232837, 0.03767163],\n",
       "       [0.95181449, 0.04818551],\n",
       "       [0.02607918, 0.97392082],\n",
       "       [0.00975372, 0.99024628],\n",
       "       [0.81845201, 0.18154799],\n",
       "       [0.95857702, 0.04142298],\n",
       "       [0.09670087, 0.90329913],\n",
       "       [0.04972445, 0.95027555],\n",
       "       [0.03676988, 0.96323012],\n",
       "       [0.98835962, 0.01164038],\n",
       "       [0.45791176, 0.54208824],\n",
       "       [0.89905045, 0.10094955],\n",
       "       [0.97627015, 0.02372985],\n",
       "       [0.04729179, 0.95270821],\n",
       "       [0.02176432, 0.97823568],\n",
       "       [0.94402229, 0.05597771],\n",
       "       [0.07603383, 0.92396617],\n",
       "       [0.9898356 , 0.0101644 ],\n",
       "       [0.35014932, 0.64985068],\n",
       "       [0.02156208, 0.97843792],\n",
       "       [0.15157498, 0.84842502],\n",
       "       [0.10490393, 0.89509607],\n",
       "       [0.00645356, 0.99354644],\n",
       "       [0.06283714, 0.93716286],\n",
       "       [0.97793157, 0.02206843],\n",
       "       [0.99235636, 0.00764364],\n",
       "       [0.0291964 , 0.9708036 ],\n",
       "       [0.06898715, 0.93101285],\n",
       "       [0.13917684, 0.86082316],\n",
       "       [0.05305455, 0.94694545],\n",
       "       [0.1828536 , 0.8171464 ],\n",
       "       [0.79471287, 0.20528713],\n",
       "       [0.8096838 , 0.1903162 ],\n",
       "       [0.00615459, 0.99384541],\n",
       "       [0.91644536, 0.08355464],\n",
       "       [0.72560496, 0.27439504],\n",
       "       [0.94353529, 0.05646471],\n",
       "       [0.96788547, 0.03211453],\n",
       "       [0.96438955, 0.03561045],\n",
       "       [0.1100585 , 0.8899415 ],\n",
       "       [0.39157179, 0.60842821],\n",
       "       [0.52881917, 0.47118083],\n",
       "       [0.02281188, 0.97718812],\n",
       "       [0.67423321, 0.32576679],\n",
       "       [0.97858133, 0.02141867],\n",
       "       [0.89901837, 0.10098163],\n",
       "       [0.96617241, 0.03382759],\n",
       "       [0.13429724, 0.86570276],\n",
       "       [0.00461655, 0.99538345],\n",
       "       [0.63009557, 0.36990443],\n",
       "       [0.98342673, 0.01657327],\n",
       "       [0.03125933, 0.96874067],\n",
       "       [0.00270607, 0.99729393],\n",
       "       [0.00349465, 0.99650535],\n",
       "       [0.90741447, 0.09258553],\n",
       "       [0.07705885, 0.92294115],\n",
       "       [0.04960961, 0.95039039],\n",
       "       [0.9400097 , 0.0599903 ],\n",
       "       [0.30298135, 0.69701865]])"
      ]
     },
     "execution_count": 59,
     "metadata": {},
     "output_type": "execute_result"
    }
   ],
   "source": [
    "# Step 3 (part 2): Generate predicted probabilities.\n",
    "y_preds_proba_log = logreg.predict_proba(X_test)\n",
    "y_preds_proba_log"
   ]
  },
  {
   "cell_type": "markdown",
   "metadata": {},
   "source": [
    "<details><summary>How would you interpret the predict_proba() output?</summary>\n",
    "    \n",
    "- The first array, [0.93743193 0.06256807], corresponds to the first training observation.\n",
    "    - This first training observation is predicted to have a 93.7% chance that $Y = 0$ and a 6.3% chance that $Y = 1$.\n",
    "    - The `.predict()` value for this observation is 0. This is because $P(Y=0) > P(Y=1)$.\n",
    "- The second array, [0.1592928 0.8407072], corresponds to the second training observation.\n",
    "    - This second training observation is predicted to have a 15.9% chance that $Y = 0$ and an 84.1% chance that $Y = 1$.\n",
    "    - The `.predict()` value for this observation is 1. This is because $P(Y=1) > P(Y=0)$.\n",
    "</details>"
   ]
  },
  {
   "cell_type": "code",
   "execution_count": 60,
   "metadata": {},
   "outputs": [
    {
     "name": "stderr",
     "output_type": "stream",
     "text": [
      "/Users/premchandran/opt/anaconda3/envs/python38/lib/python3.8/site-packages/sklearn/base.py:450: UserWarning: X does not have valid feature names, but LogisticRegression was fitted with feature names\n",
      "  warnings.warn(\n"
     ]
    },
    {
     "data": {
      "image/png": "[encoded data removed]",
      "text/plain": [
       "<Figure size 720x432 with 1 Axes>"
      ]
     },
     "metadata": {},
     "output_type": "display_data"
    }
   ],
   "source": [
    "# Visualizing logistic regression probabilities.\n",
    "\n",
    "# Create figure.\n",
    "plt.figure(figsize=(10,6))\n",
    "\n",
    "# Plot the regression line where gpa predicts admit.\n",
    "x_vals = np.linspace(1, 5, 3000)\n",
    "\n",
    "# Nicholas Jin - BOS\n",
    "# Plot line of best fit\n",
    "plt.plot(x_vals,\n",
    "         logreg.predict_proba(x_vals.reshape(-1,1))[:,1],\n",
    "         color='black', alpha=0.7, lw=4)\n",
    "\n",
    "# Create scatterplot with orange dots for those rejected.\n",
    "plt.scatter(admit['gpa'][admit['admit'] == 0],\n",
    "            admit['admit'][admit['admit'] == 0],\n",
    "            c='orange',\n",
    "            s=100,\n",
    "            alpha=0.7,\n",
    "            label='rejected')\n",
    "\n",
    "# Create scatterplot with blue dots for those admitted.\n",
    "plt.scatter(admit['gpa'][admit['admit'] == 1],\n",
    "            admit['admit'][admit['admit'] == 1],\n",
    "            c='blue',\n",
    "            s=100,\n",
    "            alpha=0.7,\n",
    "            label='admitted')\n",
    "\n",
    "# Set labels of axes and title.\n",
    "plt.ylabel('P(Admitted)', fontsize=16, rotation = 'horizontal', ha = 'right')\n",
    "plt.yticks(fontsize = 14)\n",
    "plt.xlabel('GPA', fontsize=16)\n",
    "plt.xticks(fontsize = 14)\n",
    "plt.title('Predicting Admission from GPA (Prestige = 1)', fontsize=20)\n",
    "plt.xlim(1.5, 5)\n",
    "plt.ylim(-0.25, 1.25)\n",
    "plt.legend(loc='upper left');"
   ]
  },
  {
   "cell_type": "code",
   "execution_count": 61,
   "metadata": {},
   "outputs": [
    {
     "data": {
      "text/plain": [
       "0.8852459016393442"
      ]
     },
     "execution_count": 61,
     "metadata": {},
     "output_type": "execute_result"
    }
   ],
   "source": [
    "# Step 4: Evaluate model.\n",
    "accuracy_score(y_test, y_preds_log)"
   ]
  },
  {
   "cell_type": "markdown",
   "metadata": {},
   "source": [
    "By default, the `.score()` method for classification models gives us the accuracy score.\n",
    "\n",
    "$$\n",
    "\\begin{eqnarray*}\n",
    "\\text{Accuracy} = \\frac{\\text{number of correct predictions}}{\\text{number of total predictions}}\n",
    "\\end{eqnarray*}\n",
    "$$"
   ]
  },
  {
   "cell_type": "markdown",
   "metadata": {},
   "source": [
    "<details><summary>Remind me: what does .score() tell me for a regression model?</summary>\n",
    "    \n",
    "- The $R^2$ score.\n",
    "- Remember that $R^2$ is the proportion of variance in our $Y$ values that are explained by our model.\n",
    "</details>"
   ]
  },
  {
   "cell_type": "markdown",
   "metadata": {},
   "source": [
    "## Interpretation\n",
    "#### Down the rabbit hole..."
   ]
  },
  {
   "cell_type": "markdown",
   "metadata": {},
   "source": [
    "### Using the log-odds —the natural logarithm of the odds.\n",
    "\n",
    "The combination of converting the \"probability of success\" to \"odds of success,\" then taking the logarithm of that is called the **logit link function**.\n",
    "\n",
    "### $$\\text{logit}\\big(P(Y=1)\\big) = \\log\\bigg(\\frac{P(Y=1)}{1-P(Y=1)}\\bigg) = \\beta_0 + \\beta_1X_1 + \\beta_2X_2 + \\cdots + \\beta_pX_p$$\n",
    "\n",
    "We've bent our line how we want... but how do we interpret our coefficients?"
   ]
  },
  {
   "cell_type": "markdown",
   "metadata": {},
   "source": [
    "### Odds\n",
    "\n",
    "Probabilities and odds represent the same thing in different ways. The odds for probability **p** is defined as:\n",
    "\n",
    "### $$\\text{odds}(p) = \\frac{p}{1-p}$$\n",
    "\n",
    "The odds of a probability is a measure of how many times as likely an event is to happen than it is to not happen.\n",
    "\n",
    "**Example**: Suppose I'm looking at the probability and odds of a specific horse, \"Secretariat,\" winning a race.\n",
    "\n",
    "- When **`p = 0.5`**: **`odds = 1`**\n",
    "    - The horse Secretariat is as likely to win as it is to lose.\n",
    "- When **`p = 0.75`**: **`odds = 3`**\n",
    "    - The horse Secretariat is three times as likely to win as it is to lose.\n",
    "- When **`p = 0.40`**: **`odds = 0.666..`**\n",
    "   - The horse Secretariat is two-thirds as likely to win as it is to lose."
   ]
  },
  {
   "cell_type": "markdown",
   "metadata": {},
   "source": [
    "### Interpreting a one-unit change in $X_i$.\n",
    "\n",
    "$$\\log\\bigg(\\frac{P(Y=1)}{1-P(Y=1)}\\bigg) = \\beta_0 + \\beta_1X_1 + \\beta_2X_2 + \\cdots + \\beta_pX_p$$\n",
    "\n",
    "Given this model, a one-unit change in $X_i$ implies a $\\beta_i$ unit change in the log odds of success.\n",
    "\n",
    "**This is annoying**.\n",
    "\n",
    "We often convert log-odds back to \"regular odds\" when interpreting our coefficient... our mind understands odds better than the log of odds.\n",
    "\n",
    "**(BONUS)** So, let's get rid of the log on the left-hand side. Mathematically, we do this by \"exponentiating\" each side.\n",
    "$$\n",
    "\\begin{eqnarray*}\n",
    "\\log\\bigg(\\frac{P(Y=1)}{1-P(Y=1)}\\bigg) &=& \\beta_0 + \\beta_1X_1 + \\beta_2X_2 + \\cdots + \\beta_pX_p \\\\\n",
    "\\Rightarrow e^{\\Bigg(\\log\\bigg(\\frac{P(Y=1)}{1-P(Y=1)}\\bigg)\\Bigg)} &=& e^{\\Bigg(\\beta_0 + \\beta_1X_1 + \\beta_2X_2 + \\cdots + \\beta_pX_p\\Bigg)} \\\\\n",
    "\\Rightarrow \\frac{P(Y=1)}{1-P(Y=1)} &=& e^{\\Bigg(\\beta_0 + \\beta_1X_1 + \\beta_2X_2 + \\cdots + \\beta_pX_p\\Bigg)} \\\\\n",
    "\\end{eqnarray*}\n",
    "$$\n",
    "\n",
    "**Interpretation**: A one-unit change in $X_i$ means that success is $e^{\\beta_i}$ times as likely."
   ]
  },
  {
   "cell_type": "markdown",
   "metadata": {},
   "source": [
    "<details><summary> I want to interpret the coefficient $\\hat{\\beta}_1$ for my logistic regression model. How would I interpret this coefficient?</summary>\n",
    "    \n",
    "- Our model is that $\\log\\bigg(\\frac{P(admit=1)}{1-P(admit=1)}\\bigg) = \\beta_0 + \\beta_1\\text{GPA}$.\n",
    "- As GPA increases by 1, the log-odds of someone being admitted increases by 3.96.\n",
    "- As GPA increases by 1, someone is $e^{3.96}$ times as likely to be admitted.\n",
    "- As GPA increases by 1, someone is about 52.4 times as likely to be admitted to grad school.\n",
    "</details>\n",
    "\n",
    "> Hint: Use the [np.exp](https://docs.scipy.org/doc/numpy/reference/generated/numpy.exp.html) function."
   ]
  },
  {
   "cell_type": "code",
   "execution_count": null,
   "metadata": {},
   "outputs": [],
   "source": [
    "print(f'Logistic Regression Coefficient: {}')"
   ]
  },
  {
   "cell_type": "code",
   "execution_count": null,
   "metadata": {},
   "outputs": [],
   "source": [
    "# Use np.exp() to exponentiate the coefficient.\n"
   ]
  },
  {
   "cell_type": "markdown",
   "metadata": {},
   "source": [
    "### Alternative Ways of Considering..."
   ]
  },
  {
   "cell_type": "markdown",
   "metadata": {},
   "source": [
    "We could also consider interpreting or understanding the coefficients in other ways:\n",
    "- Postive or negative\n",
    "- Relative size of coefficients\n",
    "- Concrete example (set values for all variables, then vary the one of interest only to compare the probabilities). "
   ]
  },
  {
   "cell_type": "markdown",
   "metadata": {},
   "source": [
    "## Beyond binary classification problems.\n",
    "\n",
    "Today, we looked at a binary classification problem: was somebody admitted, or not? Many of our classification problems will be binary. Even if the problem isn't binary, we can always force it to be binary. (i.e. Did the stock price increase or decrease?)\n",
    "\n",
    "However, some of our classification problems won't be binary. You'll see an example of this in a later lesson!"
   ]
  },
  {
   "cell_type": "markdown",
   "metadata": {},
   "source": [
    "## Conclusion\n",
    "\n",
    "The goal of logistic regression is to find the best-fitting model to describe the relationship between a binary outcome and a set of independent variables.\n",
    "\n",
    "Logistic regression generates the coefficients of a formula to predict a logit transformation of the probability that the characteristic of interest is present."
   ]
  },
  {
   "cell_type": "markdown",
   "metadata": {},
   "source": [
    "## Interview Questions"
   ]
  },
  {
   "cell_type": "markdown",
   "metadata": {},
   "source": [
    "<details><summary>What is the difference between a classification and a regression problem?</summary>\n",
    "    \n",
    "- A classification problem has a discrete $Y$ variable. A regression problem has a continuous $Y$ variable.\n",
    "</details>"
   ]
  },
  {
   "cell_type": "markdown",
   "metadata": {},
   "source": [
    "<details><summary>What are some of the benefits of logistic regression as a classifier?</summary>\n",
    "\n",
    "(Answers may vary; this is not an exhaustive list!)\n",
    "- Logistic regression is a classification algorithm that shares similar properties to linear regression.\n",
    "- The coefficients in a logistic regression model are interpretable. (They represent the change in log-odds caused by the input variables.)\n",
    "- Logistic regression is a very fast model to fit and generate predictions from.\n",
    "- It is by far the most common classification algorithm.\n",
    "\n",
    "**Note**: The original interview question was \"If you're comparing decision trees and logistic regression, what are the pros and cons of each?\"\n",
    "</details>"
   ]
  }
 ],
 "metadata": {
  "kernelspec": {
   "display_name": "python38",
   "language": "python",
   "name": "python38"
  },
  "language_info": {
   "codemirror_mode": {
    "name": "ipython",
    "version": 3
   },
   "file_extension": ".py",
   "mimetype": "text/x-python",
   "name": "python",
   "nbconvert_exporter": "python",
   "pygments_lexer": "ipython3",
   "version": "3.8.12"
  }
 },
 "nbformat": 4,
 "nbformat_minor": 4
}
