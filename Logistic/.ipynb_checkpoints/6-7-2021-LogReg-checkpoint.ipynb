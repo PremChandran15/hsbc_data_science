{
 "cells": [
  {
   "cell_type": "markdown",
   "metadata": {},
   "source": [
    "<img src=\"http://imgur.com/1ZcRyrc.png\" style=\"float: left; margin: 20px; height: 55px\">\n",
    "\n",
    "# Introduction to Logistic Regression\n",
    "\n",
    "_Authors: Kiefer Katovich, Matt Brems, Noelle Brown_\n",
    "\n",
    "---\n",
    "\n",
    "### Learning Objectives\n",
    "- Distinguish between regression and classification problems.\n",
    "- Understand how logistic regression is similar to and different from linear regression.\n",
    "- Fit, generate predictions from, and evaluate a logistic regression model in `sklearn`.\n",
    "- Understand how to interpret the coefficients of logistic regression.\n",
    "- Know the benefits of logistic regression as a classifier."
   ]
  },
  {
   "cell_type": "markdown",
   "metadata": {},
   "source": [
    "<a id='introduction'></a>\n",
    "\n",
    "## Introduction\n",
    "\n",
    "---\n",
    "\n",
    "Logistic regression is a natural bridge to connect regression and classification.\n",
    "- Logistic regression is the most common binary classification algorithm.\n",
    "- Because it is a regression model, logistic regression will predict continuous values.\n",
    "    - Logistic regression will predict continuous probabilities between 0 and 1.\n",
    "    - Example: What is the probability that someone shows up to vote?\n",
    "- However, logistic regression almost always operates as a classification model.\n",
    "    - Logistic regression will use these continuous predictions to classify something as 0 or 1.\n",
    "    - Example: Based on the predicted probability, do we predict that someone votes?\n",
    "\n",
    "In this lecture, we'll only be reviewing the binary outcome case with two classes, but logistic regression can be generalized to predicting outcomes with 3 or more classes.\n",
    "\n",
    "**Some examples of when logistic regression could be used:**\n",
    "- Will a user will purchase a product, given characteristics like income, age, and number of family members?\n",
    "- Does this patient have a specific disease based on their symptoms?\n",
    "- Will a person default on their loan?\n",
    "- Is the iris flower in front of me an \"_Iris versicolor_?\"\n",
    "- Given one's GPA and the prestige of a college, will a student be admitted to a specific graduate program?\n",
    "\n",
    "And many more."
   ]
  },
  {
   "cell_type": "code",
   "execution_count": 50,
   "metadata": {
    "ExecuteTime": {
     "end_time": "2021-07-06T10:12:20.085506Z",
     "start_time": "2021-07-06T10:12:20.079471Z"
    }
   },
   "outputs": [],
   "source": [
    "# imports\n",
    "import pandas as pd\n",
    "import numpy as np\n",
    "import matplotlib.pyplot as plt\n",
    "import seaborn as sns\n",
    "\n",
    "# stylistic choice\n",
    "plt.style.use('fivethirtyeight')\n",
    "\n",
    "# Import train_test_split\n",
    "from sklearn.model_selection import train_test_split\n",
    "\n",
    "# Import logistic & linear regression\n",
    "from sklearn.linear_model import LogisticRegression, LinearRegression"
   ]
  },
  {
   "cell_type": "markdown",
   "metadata": {},
   "source": [
    "## Graduate School Admissions\n",
    "\n",
    "---\n",
    "\n",
    "Today, we'll be applying logistic regression to solve the following problem: \"Given one's GPA, will a student be admitted to a specific graduate program?\""
   ]
  },
  {
   "cell_type": "code",
   "execution_count": 51,
   "metadata": {
    "ExecuteTime": {
     "end_time": "2021-07-06T10:12:20.531000Z",
     "start_time": "2021-07-06T10:12:20.522671Z"
    }
   },
   "outputs": [],
   "source": [
    "# Read in the data.\n",
    "admissions = pd.read_csv('data/admissions.csv')"
   ]
  },
  {
   "cell_type": "code",
   "execution_count": 52,
   "metadata": {
    "ExecuteTime": {
     "end_time": "2021-07-06T10:12:20.933803Z",
     "start_time": "2021-07-06T10:12:20.924504Z"
    },
    "scrolled": false
   },
   "outputs": [
    {
     "data": {
      "text/html": [
       "<div>\n",
       "<style scoped>\n",
       "    .dataframe tbody tr th:only-of-type {\n",
       "        vertical-align: middle;\n",
       "    }\n",
       "\n",
       "    .dataframe tbody tr th {\n",
       "        vertical-align: top;\n",
       "    }\n",
       "\n",
       "    .dataframe thead th {\n",
       "        text-align: right;\n",
       "    }\n",
       "</style>\n",
       "<table border=\"1\" class=\"dataframe\">\n",
       "  <thead>\n",
       "    <tr style=\"text-align: right;\">\n",
       "      <th></th>\n",
       "      <th>admit</th>\n",
       "      <th>gre</th>\n",
       "      <th>gpa</th>\n",
       "      <th>prestige</th>\n",
       "    </tr>\n",
       "  </thead>\n",
       "  <tbody>\n",
       "    <tr>\n",
       "      <th>0</th>\n",
       "      <td>0</td>\n",
       "      <td>380.0</td>\n",
       "      <td>3.61</td>\n",
       "      <td>3.0</td>\n",
       "    </tr>\n",
       "    <tr>\n",
       "      <th>1</th>\n",
       "      <td>1</td>\n",
       "      <td>660.0</td>\n",
       "      <td>3.67</td>\n",
       "      <td>3.0</td>\n",
       "    </tr>\n",
       "    <tr>\n",
       "      <th>2</th>\n",
       "      <td>1</td>\n",
       "      <td>800.0</td>\n",
       "      <td>4.00</td>\n",
       "      <td>1.0</td>\n",
       "    </tr>\n",
       "    <tr>\n",
       "      <th>3</th>\n",
       "      <td>1</td>\n",
       "      <td>640.0</td>\n",
       "      <td>3.19</td>\n",
       "      <td>4.0</td>\n",
       "    </tr>\n",
       "    <tr>\n",
       "      <th>4</th>\n",
       "      <td>0</td>\n",
       "      <td>520.0</td>\n",
       "      <td>2.93</td>\n",
       "      <td>4.0</td>\n",
       "    </tr>\n",
       "  </tbody>\n",
       "</table>\n",
       "</div>"
      ],
      "text/plain": [
       "   admit    gre   gpa  prestige\n",
       "0      0  380.0  3.61       3.0\n",
       "1      1  660.0  3.67       3.0\n",
       "2      1  800.0  4.00       1.0\n",
       "3      1  640.0  3.19       4.0\n",
       "4      0  520.0  2.93       4.0"
      ]
     },
     "execution_count": 52,
     "metadata": {},
     "output_type": "execute_result"
    }
   ],
   "source": [
    "# Check first five rows.\n",
    "admissions.head()"
   ]
  },
  {
   "cell_type": "code",
   "execution_count": 53,
   "metadata": {
    "ExecuteTime": {
     "end_time": "2021-07-06T10:12:21.268567Z",
     "start_time": "2021-07-06T10:12:21.260781Z"
    }
   },
   "outputs": [
    {
     "data": {
      "text/plain": [
       "(400, 4)"
      ]
     },
     "execution_count": 53,
     "metadata": {},
     "output_type": "execute_result"
    }
   ],
   "source": [
    "admissions.shape"
   ]
  },
  {
   "cell_type": "code",
   "execution_count": 54,
   "metadata": {
    "ExecuteTime": {
     "end_time": "2021-07-06T10:12:21.889195Z",
     "start_time": "2021-07-06T10:12:21.863758Z"
    },
    "scrolled": false
   },
   "outputs": [
    {
     "data": {
      "text/html": [
       "<div>\n",
       "<style scoped>\n",
       "    .dataframe tbody tr th:only-of-type {\n",
       "        vertical-align: middle;\n",
       "    }\n",
       "\n",
       "    .dataframe tbody tr th {\n",
       "        vertical-align: top;\n",
       "    }\n",
       "\n",
       "    .dataframe thead th {\n",
       "        text-align: right;\n",
       "    }\n",
       "</style>\n",
       "<table border=\"1\" class=\"dataframe\">\n",
       "  <thead>\n",
       "    <tr style=\"text-align: right;\">\n",
       "      <th></th>\n",
       "      <th>admit</th>\n",
       "      <th>gre</th>\n",
       "      <th>gpa</th>\n",
       "      <th>prestige</th>\n",
       "    </tr>\n",
       "  </thead>\n",
       "  <tbody>\n",
       "    <tr>\n",
       "      <th>count</th>\n",
       "      <td>400.000000</td>\n",
       "      <td>398.000000</td>\n",
       "      <td>398.00000</td>\n",
       "      <td>399.000000</td>\n",
       "    </tr>\n",
       "    <tr>\n",
       "      <th>mean</th>\n",
       "      <td>0.317500</td>\n",
       "      <td>588.040201</td>\n",
       "      <td>3.39093</td>\n",
       "      <td>2.486216</td>\n",
       "    </tr>\n",
       "    <tr>\n",
       "      <th>std</th>\n",
       "      <td>0.466087</td>\n",
       "      <td>115.628513</td>\n",
       "      <td>0.38063</td>\n",
       "      <td>0.945333</td>\n",
       "    </tr>\n",
       "    <tr>\n",
       "      <th>min</th>\n",
       "      <td>0.000000</td>\n",
       "      <td>220.000000</td>\n",
       "      <td>2.26000</td>\n",
       "      <td>1.000000</td>\n",
       "    </tr>\n",
       "    <tr>\n",
       "      <th>25%</th>\n",
       "      <td>0.000000</td>\n",
       "      <td>520.000000</td>\n",
       "      <td>3.13000</td>\n",
       "      <td>2.000000</td>\n",
       "    </tr>\n",
       "    <tr>\n",
       "      <th>50%</th>\n",
       "      <td>0.000000</td>\n",
       "      <td>580.000000</td>\n",
       "      <td>3.39500</td>\n",
       "      <td>2.000000</td>\n",
       "    </tr>\n",
       "    <tr>\n",
       "      <th>75%</th>\n",
       "      <td>1.000000</td>\n",
       "      <td>660.000000</td>\n",
       "      <td>3.67000</td>\n",
       "      <td>3.000000</td>\n",
       "    </tr>\n",
       "    <tr>\n",
       "      <th>max</th>\n",
       "      <td>1.000000</td>\n",
       "      <td>800.000000</td>\n",
       "      <td>4.00000</td>\n",
       "      <td>4.000000</td>\n",
       "    </tr>\n",
       "  </tbody>\n",
       "</table>\n",
       "</div>"
      ],
      "text/plain": [
       "            admit         gre        gpa    prestige\n",
       "count  400.000000  398.000000  398.00000  399.000000\n",
       "mean     0.317500  588.040201    3.39093    2.486216\n",
       "std      0.466087  115.628513    0.38063    0.945333\n",
       "min      0.000000  220.000000    2.26000    1.000000\n",
       "25%      0.000000  520.000000    3.13000    2.000000\n",
       "50%      0.000000  580.000000    3.39500    2.000000\n",
       "75%      1.000000  660.000000    3.67000    3.000000\n",
       "max      1.000000  800.000000    4.00000    4.000000"
      ]
     },
     "execution_count": 54,
     "metadata": {},
     "output_type": "execute_result"
    }
   ],
   "source": [
    "admissions.describe()"
   ]
  },
  {
   "cell_type": "code",
   "execution_count": 55,
   "metadata": {
    "ExecuteTime": {
     "end_time": "2021-07-06T10:12:22.556436Z",
     "start_time": "2021-07-06T10:12:22.495105Z"
    }
   },
   "outputs": [
    {
     "data": {
      "text/html": [
       "<div>\n",
       "<style scoped>\n",
       "    .dataframe tbody tr th:only-of-type {\n",
       "        vertical-align: middle;\n",
       "    }\n",
       "\n",
       "    .dataframe tbody tr th {\n",
       "        vertical-align: top;\n",
       "    }\n",
       "\n",
       "    .dataframe thead tr th {\n",
       "        text-align: left;\n",
       "    }\n",
       "\n",
       "    .dataframe thead tr:last-of-type th {\n",
       "        text-align: right;\n",
       "    }\n",
       "</style>\n",
       "<table border=\"1\" class=\"dataframe\">\n",
       "  <thead>\n",
       "    <tr>\n",
       "      <th></th>\n",
       "      <th colspan=\"8\" halign=\"left\">gre</th>\n",
       "      <th colspan=\"5\" halign=\"left\">gpa</th>\n",
       "      <th colspan=\"8\" halign=\"left\">prestige</th>\n",
       "    </tr>\n",
       "    <tr>\n",
       "      <th></th>\n",
       "      <th>count</th>\n",
       "      <th>mean</th>\n",
       "      <th>std</th>\n",
       "      <th>min</th>\n",
       "      <th>25%</th>\n",
       "      <th>50%</th>\n",
       "      <th>75%</th>\n",
       "      <th>max</th>\n",
       "      <th>count</th>\n",
       "      <th>mean</th>\n",
       "      <th>...</th>\n",
       "      <th>75%</th>\n",
       "      <th>max</th>\n",
       "      <th>count</th>\n",
       "      <th>mean</th>\n",
       "      <th>std</th>\n",
       "      <th>min</th>\n",
       "      <th>25%</th>\n",
       "      <th>50%</th>\n",
       "      <th>75%</th>\n",
       "      <th>max</th>\n",
       "    </tr>\n",
       "    <tr>\n",
       "      <th>admit</th>\n",
       "      <th></th>\n",
       "      <th></th>\n",
       "      <th></th>\n",
       "      <th></th>\n",
       "      <th></th>\n",
       "      <th></th>\n",
       "      <th></th>\n",
       "      <th></th>\n",
       "      <th></th>\n",
       "      <th></th>\n",
       "      <th></th>\n",
       "      <th></th>\n",
       "      <th></th>\n",
       "      <th></th>\n",
       "      <th></th>\n",
       "      <th></th>\n",
       "      <th></th>\n",
       "      <th></th>\n",
       "      <th></th>\n",
       "      <th></th>\n",
       "      <th></th>\n",
       "    </tr>\n",
       "  </thead>\n",
       "  <tbody>\n",
       "    <tr>\n",
       "      <th>0</th>\n",
       "      <td>271.0</td>\n",
       "      <td>573.579336</td>\n",
       "      <td>116.052798</td>\n",
       "      <td>220.0</td>\n",
       "      <td>500.0</td>\n",
       "      <td>580.0</td>\n",
       "      <td>660.0</td>\n",
       "      <td>800.0</td>\n",
       "      <td>272.0</td>\n",
       "      <td>3.345404</td>\n",
       "      <td>...</td>\n",
       "      <td>3.6100</td>\n",
       "      <td>4.0</td>\n",
       "      <td>273.0</td>\n",
       "      <td>2.641026</td>\n",
       "      <td>0.917198</td>\n",
       "      <td>1.0</td>\n",
       "      <td>2.0</td>\n",
       "      <td>3.0</td>\n",
       "      <td>3.0</td>\n",
       "      <td>4.0</td>\n",
       "    </tr>\n",
       "    <tr>\n",
       "      <th>1</th>\n",
       "      <td>127.0</td>\n",
       "      <td>618.897638</td>\n",
       "      <td>108.884884</td>\n",
       "      <td>300.0</td>\n",
       "      <td>540.0</td>\n",
       "      <td>620.0</td>\n",
       "      <td>680.0</td>\n",
       "      <td>800.0</td>\n",
       "      <td>126.0</td>\n",
       "      <td>3.489206</td>\n",
       "      <td>...</td>\n",
       "      <td>3.7575</td>\n",
       "      <td>4.0</td>\n",
       "      <td>126.0</td>\n",
       "      <td>2.150794</td>\n",
       "      <td>0.921455</td>\n",
       "      <td>1.0</td>\n",
       "      <td>1.0</td>\n",
       "      <td>2.0</td>\n",
       "      <td>3.0</td>\n",
       "      <td>4.0</td>\n",
       "    </tr>\n",
       "  </tbody>\n",
       "</table>\n",
       "<p>2 rows × 24 columns</p>\n",
       "</div>"
      ],
      "text/plain": [
       "         gre                                                             \\\n",
       "       count        mean         std    min    25%    50%    75%    max   \n",
       "admit                                                                     \n",
       "0      271.0  573.579336  116.052798  220.0  500.0  580.0  660.0  800.0   \n",
       "1      127.0  618.897638  108.884884  300.0  540.0  620.0  680.0  800.0   \n",
       "\n",
       "         gpa            ...              prestige                           \\\n",
       "       count      mean  ...     75%  max    count      mean       std  min   \n",
       "admit                   ...                                                  \n",
       "0      272.0  3.345404  ...  3.6100  4.0    273.0  2.641026  0.917198  1.0   \n",
       "1      126.0  3.489206  ...  3.7575  4.0    126.0  2.150794  0.921455  1.0   \n",
       "\n",
       "                           \n",
       "       25%  50%  75%  max  \n",
       "admit                      \n",
       "0      2.0  3.0  3.0  4.0  \n",
       "1      1.0  2.0  3.0  4.0  \n",
       "\n",
       "[2 rows x 24 columns]"
      ]
     },
     "execution_count": 55,
     "metadata": {},
     "output_type": "execute_result"
    }
   ],
   "source": [
    "admissions.groupby('admit').describe()"
   ]
  },
  {
   "cell_type": "markdown",
   "metadata": {},
   "source": [
    "The four columns are:\n",
    "- `admit`: A binary 0/1 variable indicating whether or not a student was admitted, where 1 means admitted and 0 means not admitted.\n",
    "- `gre`: The student's [GRE (Graduate Record Exam)](https://en.wikipedia.org/wiki/Graduate_Record_Examinations) score.\n",
    "- `gpa`: The student's GPA.\n",
    "- `prestige`: A 1-4 rating for the college's \"prestige.\""
   ]
  },
  {
   "cell_type": "code",
   "execution_count": 56,
   "metadata": {
    "ExecuteTime": {
     "end_time": "2021-07-06T10:12:26.579889Z",
     "start_time": "2021-07-06T10:12:26.577541Z"
    }
   },
   "outputs": [],
   "source": [
    "# 1 is the highest prestige, 4 is the lowest prestige"
   ]
  },
  {
   "cell_type": "code",
   "execution_count": 57,
   "metadata": {
    "ExecuteTime": {
     "end_time": "2021-07-06T10:12:26.592701Z",
     "start_time": "2021-07-06T10:12:26.585563Z"
    },
    "scrolled": true
   },
   "outputs": [
    {
     "data": {
      "text/plain": [
       "admit       0\n",
       "gre         2\n",
       "gpa         2\n",
       "prestige    1\n",
       "dtype: int64"
      ]
     },
     "execution_count": 57,
     "metadata": {},
     "output_type": "execute_result"
    }
   ],
   "source": [
    "# How many missing values do we have in each column?\n",
    "admissions.isnull().sum()"
   ]
  },
  {
   "cell_type": "code",
   "execution_count": 80,
   "metadata": {
    "ExecuteTime": {
     "end_time": "2021-07-06T10:40:00.412980Z",
     "start_time": "2021-07-06T10:40:00.402603Z"
    }
   },
   "outputs": [
    {
     "data": {
      "text/html": [
       "<div>\n",
       "<style scoped>\n",
       "    .dataframe tbody tr th:only-of-type {\n",
       "        vertical-align: middle;\n",
       "    }\n",
       "\n",
       "    .dataframe tbody tr th {\n",
       "        vertical-align: top;\n",
       "    }\n",
       "\n",
       "    .dataframe thead th {\n",
       "        text-align: right;\n",
       "    }\n",
       "</style>\n",
       "<table border=\"1\" class=\"dataframe\">\n",
       "  <thead>\n",
       "    <tr style=\"text-align: right;\">\n",
       "      <th></th>\n",
       "      <th>admit</th>\n",
       "      <th>gre</th>\n",
       "      <th>gpa</th>\n",
       "      <th>prestige</th>\n",
       "    </tr>\n",
       "  </thead>\n",
       "  <tbody>\n",
       "    <tr>\n",
       "      <th>187</th>\n",
       "      <td>0</td>\n",
       "      <td>NaN</td>\n",
       "      <td>NaN</td>\n",
       "      <td>2.0</td>\n",
       "    </tr>\n",
       "    <tr>\n",
       "      <th>212</th>\n",
       "      <td>0</td>\n",
       "      <td>NaN</td>\n",
       "      <td>2.87</td>\n",
       "      <td>2.0</td>\n",
       "    </tr>\n",
       "    <tr>\n",
       "      <th>236</th>\n",
       "      <td>1</td>\n",
       "      <td>660.0</td>\n",
       "      <td>NaN</td>\n",
       "      <td>NaN</td>\n",
       "    </tr>\n",
       "  </tbody>\n",
       "</table>\n",
       "</div>"
      ],
      "text/plain": [
       "     admit    gre   gpa  prestige\n",
       "187      0    NaN   NaN       2.0\n",
       "212      0    NaN  2.87       2.0\n",
       "236      1  660.0   NaN       NaN"
      ]
     },
     "execution_count": 80,
     "metadata": {},
     "output_type": "execute_result"
    }
   ],
   "source": [
    "# To see all the rows with missing values (works best with a small dataset)\n",
    "admissions[admissions['prestige'].isnull() | admissions['gpa'].isnull() \\\n",
    "           | admissions['gre'].isnull()]"
   ]
  },
  {
   "cell_type": "code",
   "execution_count": 59,
   "metadata": {
    "ExecuteTime": {
     "end_time": "2021-07-06T10:13:20.192675Z",
     "start_time": "2021-07-06T10:13:20.179108Z"
    }
   },
   "outputs": [
    {
     "data": {
      "text/html": [
       "<div>\n",
       "<style scoped>\n",
       "    .dataframe tbody tr th:only-of-type {\n",
       "        vertical-align: middle;\n",
       "    }\n",
       "\n",
       "    .dataframe tbody tr th {\n",
       "        vertical-align: top;\n",
       "    }\n",
       "\n",
       "    .dataframe thead th {\n",
       "        text-align: right;\n",
       "    }\n",
       "</style>\n",
       "<table border=\"1\" class=\"dataframe\">\n",
       "  <thead>\n",
       "    <tr style=\"text-align: right;\">\n",
       "      <th></th>\n",
       "      <th>admit</th>\n",
       "      <th>gre</th>\n",
       "      <th>gpa</th>\n",
       "      <th>prestige</th>\n",
       "    </tr>\n",
       "  </thead>\n",
       "  <tbody>\n",
       "    <tr>\n",
       "      <th>236</th>\n",
       "      <td>1</td>\n",
       "      <td>660.0</td>\n",
       "      <td>NaN</td>\n",
       "      <td>NaN</td>\n",
       "    </tr>\n",
       "  </tbody>\n",
       "</table>\n",
       "</div>"
      ],
      "text/plain": [
       "     admit    gre  gpa  prestige\n",
       "236      1  660.0  NaN       NaN"
      ]
     },
     "execution_count": 59,
     "metadata": {},
     "output_type": "execute_result"
    }
   ],
   "source": [
    "admissions[admissions['prestige'].isnull()]"
   ]
  },
  {
   "cell_type": "code",
   "execution_count": 60,
   "metadata": {
    "ExecuteTime": {
     "end_time": "2021-07-06T10:13:44.493569Z",
     "start_time": "2021-07-06T10:13:44.483857Z"
    },
    "scrolled": true
   },
   "outputs": [
    {
     "data": {
      "text/html": [
       "<div>\n",
       "<style scoped>\n",
       "    .dataframe tbody tr th:only-of-type {\n",
       "        vertical-align: middle;\n",
       "    }\n",
       "\n",
       "    .dataframe tbody tr th {\n",
       "        vertical-align: top;\n",
       "    }\n",
       "\n",
       "    .dataframe thead th {\n",
       "        text-align: right;\n",
       "    }\n",
       "</style>\n",
       "<table border=\"1\" class=\"dataframe\">\n",
       "  <thead>\n",
       "    <tr style=\"text-align: right;\">\n",
       "      <th></th>\n",
       "      <th>admit</th>\n",
       "      <th>gre</th>\n",
       "      <th>gpa</th>\n",
       "      <th>prestige</th>\n",
       "    </tr>\n",
       "  </thead>\n",
       "  <tbody>\n",
       "    <tr>\n",
       "      <th>187</th>\n",
       "      <td>0</td>\n",
       "      <td>NaN</td>\n",
       "      <td>NaN</td>\n",
       "      <td>2.0</td>\n",
       "    </tr>\n",
       "    <tr>\n",
       "      <th>212</th>\n",
       "      <td>0</td>\n",
       "      <td>NaN</td>\n",
       "      <td>2.87</td>\n",
       "      <td>2.0</td>\n",
       "    </tr>\n",
       "  </tbody>\n",
       "</table>\n",
       "</div>"
      ],
      "text/plain": [
       "     admit  gre   gpa  prestige\n",
       "187      0  NaN   NaN       2.0\n",
       "212      0  NaN  2.87       2.0"
      ]
     },
     "execution_count": 60,
     "metadata": {},
     "output_type": "execute_result"
    }
   ],
   "source": [
    "admissions[admissions['gre'].isnull()]"
   ]
  },
  {
   "cell_type": "code",
   "execution_count": 65,
   "metadata": {
    "ExecuteTime": {
     "end_time": "2021-07-06T10:16:14.291675Z",
     "start_time": "2021-07-06T10:16:14.282456Z"
    },
    "scrolled": true
   },
   "outputs": [
    {
     "data": {
      "text/plain": [
       "admit  prestige\n",
       "0      1.0         582.857143\n",
       "       2.0         588.000000\n",
       "       3.0         562.365591\n",
       "       4.0         562.909091\n",
       "1      1.0         636.363636\n",
       "       2.0         612.075472\n",
       "       3.0         616.428571\n",
       "       4.0         603.333333\n",
       "Name: gre, dtype: float64"
      ]
     },
     "execution_count": 65,
     "metadata": {},
     "output_type": "execute_result"
    }
   ],
   "source": [
    "admissions.groupby(['admit', 'prestige'])['gre'].mean()"
   ]
  },
  {
   "cell_type": "code",
   "execution_count": 12,
   "metadata": {
    "ExecuteTime": {
     "end_time": "2021-07-06T08:40:53.925671Z",
     "start_time": "2021-07-06T08:40:53.920009Z"
    }
   },
   "outputs": [],
   "source": [
    "# Drop every row that has an NaN.\n",
    "\n",
    "\n",
    "# admissions.dropna(subset=['gre','gpa','prestige'], inplace=True)"
   ]
  },
  {
   "cell_type": "code",
   "execution_count": 13,
   "metadata": {
    "ExecuteTime": {
     "end_time": "2021-07-06T08:40:58.966335Z",
     "start_time": "2021-07-06T08:40:58.958777Z"
    }
   },
   "outputs": [
    {
     "data": {
      "text/plain": [
       "admit       0\n",
       "gre         0\n",
       "gpa         0\n",
       "prestige    0\n",
       "dtype: int64"
      ]
     },
     "execution_count": 13,
     "metadata": {},
     "output_type": "execute_result"
    }
   ],
   "source": [
    "# Check your work\n",
    "admissions.isnull().sum()"
   ]
  },
  {
   "cell_type": "code",
   "execution_count": 14,
   "metadata": {
    "ExecuteTime": {
     "end_time": "2021-07-06T08:41:06.423414Z",
     "start_time": "2021-07-06T08:41:06.419102Z"
    }
   },
   "outputs": [
    {
     "data": {
      "text/plain": [
       "(397, 4)"
      ]
     },
     "execution_count": 14,
     "metadata": {},
     "output_type": "execute_result"
    }
   ],
   "source": [
    "# Check the shape after dropping missing values\n",
    "admissions.shape"
   ]
  },
  {
   "cell_type": "code",
   "execution_count": 18,
   "metadata": {
    "ExecuteTime": {
     "end_time": "2021-07-06T08:42:20.061672Z",
     "start_time": "2021-07-06T08:42:20.053232Z"
    }
   },
   "outputs": [
    {
     "data": {
      "text/plain": [
       "admit         int64\n",
       "gre         float64\n",
       "gpa         float64\n",
       "prestige    float64\n",
       "dtype: object"
      ]
     },
     "execution_count": 18,
     "metadata": {},
     "output_type": "execute_result"
    }
   ],
   "source": [
    "# Check dtypes for strings/object columns\n",
    "admissions.dtypes"
   ]
  },
  {
   "cell_type": "markdown",
   "metadata": {},
   "source": [
    "<details><summary>What assumption are we making when we drop rows that have at least one NA in it?</summary>\n",
    "    \n",
    "- We assume that what we drop looks like what we have observed. That is, there's nothing special about the rows we happened to drop.\n",
    "- We might say that what we dropped is a random sample of our whole data.\n",
    "- It's not important to know this now, but the formal term is that our data is missing completely at random.\n",
    "</details>"
   ]
  },
  {
   "cell_type": "code",
   "execution_count": null,
   "metadata": {},
   "outputs": [],
   "source": [
    "# MCAR - Missing Completely at Random\n",
    "\n",
    "\n",
    "# Survey - How old are you? Men may be likely to answer this question, per Ruben\n",
    "# 10 missing values and 9 of them are in rows that identify as female\n",
    "\n",
    "# How much money do you make? employed more likely this than unemployed\n",
    "# People who make a lot of money also tend to answer more often than who make little.\n",
    "\n",
    "# Because the value doesn't alway mean it's legit. Sometimes people fib. "
   ]
  },
  {
   "cell_type": "markdown",
   "metadata": {},
   "source": [
    "<details><summary>Suppose I want to check if a value of 1 for prestige means \"most prestigious\" or \"least prestigious.\" How might I find this out?</summary>\n",
    "    \n",
    "- Check a data dictionary to see if the answer exists.\n",
    "- If a data dictionary doesn't exist, compare prestige to admit. You could use [groupby](https://pandas.pydata.org/pandas-docs/version/0.22/generated/pandas.DataFrame.groupby.html) to make a table or you could use a plot.\n",
    "</details>"
   ]
  },
  {
   "cell_type": "code",
   "execution_count": 19,
   "metadata": {
    "ExecuteTime": {
     "end_time": "2021-07-06T08:50:16.561653Z",
     "start_time": "2021-07-06T08:50:16.552942Z"
    }
   },
   "outputs": [
    {
     "data": {
      "text/plain": [
       "admit\n",
       "0    2.645756\n",
       "1    2.150794\n",
       "Name: prestige, dtype: float64"
      ]
     },
     "execution_count": 19,
     "metadata": {},
     "output_type": "execute_result"
    }
   ],
   "source": [
    "admissions.groupby(\"admit\")['prestige'].mean()"
   ]
  },
  {
   "cell_type": "markdown",
   "metadata": {},
   "source": [
    "### Artificially increase the signal in the data.\n",
    "\n",
    "The signal for detecting admission in the college data is fairly weak — too weak for the purposes of our demonstration. (There are lots of factors associated with getting admitted to grad school other than GPA, test score, and prestige.)\n",
    "\n",
    "**Obviously you would never do this to your real data**... but in order to make the relationship between our predictors and whether or not someone is admitted a lot clearer, we are making 10 copies of the data set and adding an artificial signal for detecting `admit` to the `gpa` column."
   ]
  },
  {
   "cell_type": "code",
   "execution_count": 22,
   "metadata": {
    "ExecuteTime": {
     "end_time": "2021-07-06T08:55:52.661814Z",
     "start_time": "2021-07-06T08:55:52.657011Z"
    }
   },
   "outputs": [
    {
     "data": {
      "text/plain": [
       "(61, 4)"
      ]
     },
     "execution_count": 22,
     "metadata": {},
     "output_type": "execute_result"
    }
   ],
   "source": [
    "admit = admissions[admissions['prestige'] == 1]\n",
    "admit.shape"
   ]
  },
  {
   "cell_type": "code",
   "execution_count": 24,
   "metadata": {
    "ExecuteTime": {
     "end_time": "2021-07-06T08:57:29.188647Z",
     "start_time": "2021-07-06T08:57:29.185989Z"
    }
   },
   "outputs": [],
   "source": [
    "#admissions.prestige == 1"
   ]
  },
  {
   "cell_type": "code",
   "execution_count": 28,
   "metadata": {
    "ExecuteTime": {
     "end_time": "2021-07-06T08:58:08.568903Z",
     "start_time": "2021-07-06T08:58:08.557106Z"
    }
   },
   "outputs": [],
   "source": [
    "# Grab all rows where prestige = 1.\n",
    "admit = admissions[admissions['prestige'] == 1]\n",
    "\n",
    "# Concatenate ten copies of admit.\n",
    "admit = pd.concat([admit] * 10, axis=0)\n",
    "\n",
    "# Set a random seed.\n",
    "np.random.seed(42)\n",
    "\n",
    "# Add random noise to inflate GPA for people who were admitted.\n",
    "# Subtract random noise to deflate GPA for people who were not admitted.\n",
    "# Again: DO NOT DO THIS IN GENERAL.\n",
    "admit.loc[admit['admit'] == 1, 'gpa'] += np.random.random(size=admit[admit.admit == 1].shape[0])\n",
    "admit.loc[admit['admit'] == 0, 'gpa'] -= np.random.random(size=admit[admit.admit == 0].shape[0])"
   ]
  },
  {
   "cell_type": "code",
   "execution_count": 29,
   "metadata": {
    "ExecuteTime": {
     "end_time": "2021-07-06T08:58:17.969637Z",
     "start_time": "2021-07-06T08:58:17.963382Z"
    },
    "scrolled": true
   },
   "outputs": [
    {
     "data": {
      "text/plain": [
       "(610, 4)"
      ]
     },
     "execution_count": 29,
     "metadata": {},
     "output_type": "execute_result"
    }
   ],
   "source": [
    "admit.shape"
   ]
  },
  {
   "cell_type": "markdown",
   "metadata": {},
   "source": [
    "## Recap of Notation\n",
    "\n",
    "You're quite familiar with **linear** regression:\n",
    "\n",
    "### $$\n",
    "\\begin{eqnarray*}\n",
    "\\hat{Y} &=& \\hat{\\beta}_0 + \\hat{\\beta}_1X_1 + \\hat{\\beta}_2X_2 + \\cdots + \\hat{\\beta}_pX_p \\\\\n",
    "&=& \\hat{\\beta}_0 + \\sum_{j=1}^p\\hat{\\beta}_jX_j\n",
    "\\end{eqnarray*}\n",
    "$$\n",
    "\n",
    "Where:\n",
    "- $\\hat{Y}$ is the predicted value of $Y$ based on all of the inputs $X_j$.\n",
    "- $X_1$, $X_2$, $\\ldots$, $X_p$ are the predictors.\n",
    "- $\\hat{\\beta}_0$ is the estimated intercept.\n",
    "- $\\hat{\\beta}_j$ is the estimated coefficient for the predictor $X_j$, the $j$th column in variable matrix $\\mathbf{X}$.\n"
   ]
  },
  {
   "cell_type": "markdown",
   "metadata": {},
   "source": [
    "<a id='pred-admit'></a>\n",
    "\n",
    "## What If We Predicted `admit` with `gpa` Using Linear Regression?\n",
    "\n",
    "Let's try predicting the `admit` binary indicator using just `gpa` with a linear regression to see what goes wrong."
   ]
  },
  {
   "cell_type": "code",
   "execution_count": 30,
   "metadata": {
    "ExecuteTime": {
     "end_time": "2021-07-06T09:26:23.320323Z",
     "start_time": "2021-07-06T09:26:23.299652Z"
    }
   },
   "outputs": [
    {
     "name": "stdout",
     "output_type": "stream",
     "text": [
      "Intercept: -1.2222933591361302\n",
      "Coefficient: [0.50496762]\n"
     ]
    }
   ],
   "source": [
    "# Define y and X.\n",
    "y = admit['admit']\n",
    "X = admit[['gpa']] # Because X is a matrix, we'll get a \n",
    "                   # reshape request if we don't use double brackets.\n",
    "\n",
    "# Create training and testing sets.\n",
    "X_train, X_test, y_train, y_test = train_test_split(X, y, test_size=.30,\n",
    "                                                    random_state=42)\n",
    "\n",
    "\n",
    "# Instantiate a linear regression model.\n",
    "lr = LinearRegression()\n",
    "\n",
    "\n",
    "# Fit our linear regression model to the training data.\n",
    "lr.fit(X_train, y_train)\n",
    "\n",
    "\n",
    "# Print out intercept and coefficients.\n",
    "print(f'Intercept: {lr.intercept_}')\n",
    "print(f'Coefficient: {lr.coef_}')"
   ]
  },
  {
   "cell_type": "code",
   "execution_count": 43,
   "metadata": {
    "ExecuteTime": {
     "end_time": "2021-07-06T09:47:29.300343Z",
     "start_time": "2021-07-06T09:47:29.295550Z"
    }
   },
   "outputs": [
    {
     "data": {
      "text/plain": [
       "1.1052639910822695"
      ]
     },
     "execution_count": 43,
     "metadata": {},
     "output_type": "execute_result"
    }
   ],
   "source": [
    "y_hat = -1.2222933591361302 + 0.50496762 * 4.609320 #(gpa)\n",
    "y_hat"
   ]
  },
  {
   "cell_type": "code",
   "execution_count": 39,
   "metadata": {
    "ExecuteTime": {
     "end_time": "2021-07-06T09:38:05.490706Z",
     "start_time": "2021-07-06T09:38:05.480905Z"
    }
   },
   "outputs": [
    {
     "data": {
      "text/html": [
       "<div>\n",
       "<style scoped>\n",
       "    .dataframe tbody tr th:only-of-type {\n",
       "        vertical-align: middle;\n",
       "    }\n",
       "\n",
       "    .dataframe tbody tr th {\n",
       "        vertical-align: top;\n",
       "    }\n",
       "\n",
       "    .dataframe thead th {\n",
       "        text-align: right;\n",
       "    }\n",
       "</style>\n",
       "<table border=\"1\" class=\"dataframe\">\n",
       "  <thead>\n",
       "    <tr style=\"text-align: right;\">\n",
       "      <th></th>\n",
       "      <th>gpa</th>\n",
       "    </tr>\n",
       "  </thead>\n",
       "  <tbody>\n",
       "    <tr>\n",
       "      <th>118</th>\n",
       "      <td>4.609320</td>\n",
       "    </tr>\n",
       "    <tr>\n",
       "      <th>222</th>\n",
       "      <td>3.559342</td>\n",
       "    </tr>\n",
       "    <tr>\n",
       "      <th>364</th>\n",
       "      <td>3.967545</td>\n",
       "    </tr>\n",
       "    <tr>\n",
       "      <th>335</th>\n",
       "      <td>3.989934</td>\n",
       "    </tr>\n",
       "    <tr>\n",
       "      <th>118</th>\n",
       "      <td>4.197249</td>\n",
       "    </tr>\n",
       "    <tr>\n",
       "      <th>...</th>\n",
       "      <td>...</td>\n",
       "    </tr>\n",
       "    <tr>\n",
       "      <th>6</th>\n",
       "      <td>3.602890</td>\n",
       "    </tr>\n",
       "    <tr>\n",
       "      <th>14</th>\n",
       "      <td>4.084140</td>\n",
       "    </tr>\n",
       "    <tr>\n",
       "      <th>79</th>\n",
       "      <td>4.971782</td>\n",
       "    </tr>\n",
       "    <tr>\n",
       "      <th>372</th>\n",
       "      <td>2.955775</td>\n",
       "    </tr>\n",
       "    <tr>\n",
       "      <th>306</th>\n",
       "      <td>3.397935</td>\n",
       "    </tr>\n",
       "  </tbody>\n",
       "</table>\n",
       "<p>183 rows × 1 columns</p>\n",
       "</div>"
      ],
      "text/plain": [
       "          gpa\n",
       "118  4.609320\n",
       "222  3.559342\n",
       "364  3.967545\n",
       "335  3.989934\n",
       "118  4.197249\n",
       "..        ...\n",
       "6    3.602890\n",
       "14   4.084140\n",
       "79   4.971782\n",
       "372  2.955775\n",
       "306  3.397935\n",
       "\n",
       "[183 rows x 1 columns]"
      ]
     },
     "execution_count": 39,
     "metadata": {},
     "output_type": "execute_result"
    }
   ],
   "source": [
    "X_test"
   ]
  },
  {
   "cell_type": "code",
   "execution_count": 42,
   "metadata": {
    "ExecuteTime": {
     "end_time": "2021-07-06T09:39:09.649501Z",
     "start_time": "2021-07-06T09:39:09.645276Z"
    }
   },
   "outputs": [
    {
     "data": {
      "text/plain": [
       "array([0.5750591])"
      ]
     },
     "execution_count": 42,
     "metadata": {},
     "output_type": "execute_result"
    }
   ],
   "source": [
    "lr.predict([[3.559342]])"
   ]
  },
  {
   "cell_type": "code",
   "execution_count": 36,
   "metadata": {
    "ExecuteTime": {
     "end_time": "2021-07-06T09:31:27.277539Z",
     "start_time": "2021-07-06T09:31:27.270298Z"
    }
   },
   "outputs": [],
   "source": [
    "y_preds_lr = lr.predict(X_test)"
   ]
  },
  {
   "cell_type": "code",
   "execution_count": 74,
   "metadata": {
    "ExecuteTime": {
     "end_time": "2021-07-06T10:31:45.983890Z",
     "start_time": "2021-07-06T10:31:45.976789Z"
    }
   },
   "outputs": [
    {
     "name": "stdout",
     "output_type": "stream",
     "text": [
      "Predict off the first GPA value in X_test: [1.105264]\n",
      "Predict off the second GPA value in X_test: [0.5750591]\n",
      "Predict off the third GPA value in X_test: [0.7811884]\n"
     ]
    },
    {
     "data": {
      "text/plain": [
       "array([1.1052642 , 0.57505923, 0.78118833])"
      ]
     },
     "execution_count": 74,
     "metadata": {},
     "output_type": "execute_result"
    }
   ],
   "source": [
    "print(f\"Predict off the first GPA value in X_test: {lr.predict([[4.609320]])}\")\n",
    "print(f\"Predict off the second GPA value in X_test: {lr.predict([[3.559342]])}\")\n",
    "print(f\"Predict off the third GPA value in X_test: {lr.predict([[3.967545]])}\")\n",
    "y_preds_lr[:3]"
   ]
  },
  {
   "cell_type": "code",
   "execution_count": 75,
   "metadata": {
    "ExecuteTime": {
     "end_time": "2021-07-06T10:32:44.772410Z",
     "start_time": "2021-07-06T10:32:44.769443Z"
    }
   },
   "outputs": [],
   "source": [
    "# Do the above manually or by hand\n",
    "\n",
    "first_prediction = -1.2222933591361302 + 0.50496762 * 4.609320 #(gpa)\n",
    "second_prediction = -1.2222933591361302 + 0.50496762 * 3.559342 #(gpa)\n",
    "third_prediction = -1.2222933591361302 + 0.50496762 * 3.967545 #(gpa)"
   ]
  },
  {
   "cell_type": "code",
   "execution_count": 76,
   "metadata": {
    "ExecuteTime": {
     "end_time": "2021-07-06T10:33:05.266601Z",
     "start_time": "2021-07-06T10:33:05.262694Z"
    }
   },
   "outputs": [
    {
     "name": "stdout",
     "output_type": "stream",
     "text": [
      "1.1052639910822695 0.5750590993699096 0.7811883967567694\n"
     ]
    }
   ],
   "source": [
    "print(first_prediction, second_prediction, third_prediction)"
   ]
  },
  {
   "cell_type": "markdown",
   "metadata": {},
   "source": [
    "<a id='plot-reg'></a>\n",
    "### What do those coefficients mean?  Plot `admit` (our $Y$) against `gpa` (our $X$).\n",
    "\n",
    "Looking at the plot below, what are problems with using a regression?"
   ]
  },
  {
   "cell_type": "code",
   "execution_count": 35,
   "metadata": {
    "ExecuteTime": {
     "end_time": "2021-07-06T09:30:42.656031Z",
     "start_time": "2021-07-06T09:30:42.204476Z"
    },
    "scrolled": false
   },
   "outputs": [
    {
     "data": {
      "image/png": "[encoded data removed]",
      "text/plain": [
       "<Figure size 720x432 with 1 Axes>"
      ]
     },
     "metadata": {},
     "output_type": "display_data"
    }
   ],
   "source": [
    "# Create figure.\n",
    "plt.figure(figsize=(10,6))\n",
    "\n",
    "# Plot the regression line where gpa predicts admit.\n",
    "x_vals = np.linspace(1, 5, 300)\n",
    "\n",
    "# Plot line of best fit\n",
    "plt.plot(x_vals,\n",
    "         lr.predict(x_vals.reshape(-1,1)),\n",
    "         color='black', alpha=0.7, lw=4)\n",
    "\n",
    "# Create scatterplot with orange dots for those rejected.\n",
    "plt.scatter(admit['gpa'][admit['admit'] == 0],\n",
    "            admit['admit'][admit['admit'] == 0],\n",
    "            c='orange',\n",
    "            s=100,\n",
    "            alpha=0.7,\n",
    "            label='rejected')\n",
    "\n",
    "# Create scatterplot with blue dots for those admitted.\n",
    "plt.scatter(admit['gpa'][admit['admit'] == 1],\n",
    "            admit['admit'][admit['admit'] == 1],\n",
    "            c='blue',\n",
    "            s=100,\n",
    "            alpha=0.7,\n",
    "            label='admitted')\n",
    "\n",
    "# Set labels of axes and title.\n",
    "plt.ylabel('P(Admitted)', fontsize=16, rotation = 'horizontal', ha = 'right')\n",
    "plt.yticks(fontsize = 14)\n",
    "plt.xlabel('GPA', fontsize=16)\n",
    "plt.xticks(fontsize = 14)\n",
    "plt.title('Predicting Admission from GPA (Prestige = 1)', fontsize=20)\n",
    "plt.xlim(1.5, 5)\n",
    "plt.ylim(-0.25, 1.25)\n",
    "plt.legend(loc='upper left');"
   ]
  },
  {
   "cell_type": "markdown",
   "metadata": {},
   "source": [
    "#### **Note:** Unless we predict exactly one value, linear regression will always predict values from $-\\infty$ to $+\\infty$. This isn't always appropriate in real-world cases!"
   ]
  },
  {
   "cell_type": "code",
   "execution_count": null,
   "metadata": {},
   "outputs": [],
   "source": [
    "# linear regression - continuous target - housing prices is an example\n",
    "# sale_price = intercept + bathrooms + bedrooms + school_quality\n",
    "# 100,000 - 10,000,000\n",
    "\n",
    "# logistic regression - classifier - categories, labels\n",
    "# Admit (1) or Not Admit (0)\n",
    "# Survived (1) or Did Not Survive (0)\n",
    "\n",
    "# ARIMA - time series modeling\n",
    "# ARIMA = Autoregressive Integrated Moving Average"
   ]
  },
  {
   "cell_type": "markdown",
   "metadata": {},
   "source": [
    "<a id='pred-binary'></a>\n",
    "\n",
    "## Predicting a Binary Class\n",
    "\n",
    "---\n",
    "\n",
    "In our case we have two classes: `1=admitted` and `0=rejected`.\n",
    "\n",
    "The logistic regression is still solving for $\\hat{Y}$. However, in our binary classification case, $\\hat{Y}$ will be the probability of `y` being one of the classes.\n",
    "\n",
    "### $$\\hat{Y} = P(Y = 1)$$\n",
    "\n",
    "We'll still try to fit a \"line\" of best fit to this... except it won't be perfectly linear. We need to *guarantee* that the right-hand side of the regression equation will evaluate to a probability. (That is, some number between 0 and 1!)"
   ]
  },
  {
   "cell_type": "markdown",
   "metadata": {},
   "source": [
    "## The Logit Link Function (advanced)\n",
    "\n",
    "---\n",
    "\n",
    "We will use something called a **link function** to effectively \"bend\" our line of best fit so that it is a curve of best fit that matches the range or set of values in which we're interested.\n",
    "\n",
    "For logistic regression, that specific link function that transforms (\"bends\") our line is known as the **logit** link.\n",
    "\n",
    "### $$\\text{logit}\\left(P(Y = 1)\\right) = \\beta_0 + \\beta_1X_1 + \\beta_2X_2 + \\cdots + \\beta_pX_p$$\n",
    "\n",
    "### $$\\ y = \\beta_0 + \\beta_1X_1 + \\epsilon$$\n",
    "\n",
    "### $$\\log\\left(\\frac{P(Y = 1)}{1 - P(Y = 1)}\\right) = \\beta_0 + \\beta_1X_1 + \\beta_2X_2 + \\cdots + \\beta_pX_p$$\n",
    "\n",
    "Equivalently, we assume that each independent variable $X_i$ is linearly related to the **log of the odds of success**.\n",
    "\n",
    "Remember, the purpose of the link function is to bend our line of best fit.\n",
    "- This is convenient because we can have any values of $X$ inputs that we want, and we'll only ever predict between 0 and 1!\n",
    "- However, interpreting a one-unit change gets a little harder. (More on this later.)"
   ]
  },
  {
   "cell_type": "markdown",
   "metadata": {},
   "source": [
    "![](./images/logregmeme.png)\n",
    "\n",
    "[*image source*](https://twitter.com/ChelseaParlett/status/1279111984433127425?s=20)"
   ]
  },
  {
   "cell_type": "markdown",
   "metadata": {},
   "source": [
    "## Fitting and making predictions with the logistic regression model.\n",
    "\n",
    "As with linear regression, there are four steps to building a logistic regression model.\n",
    "\n",
    "1. Instantiate the model.\n",
    "2. Fit the model.\n",
    "3. Generate predictions.\n",
    "4. Evaluate model."
   ]
  },
  {
   "cell_type": "code",
   "execution_count": 45,
   "metadata": {
    "ExecuteTime": {
     "end_time": "2021-07-06T09:55:14.095884Z",
     "start_time": "2021-07-06T09:55:14.079010Z"
    },
    "scrolled": true
   },
   "outputs": [
    {
     "name": "stdout",
     "output_type": "stream",
     "text": [
      "Logistic Regression Intercept: [-13.57744971]\n",
      "Logistic Regression Coefficient: [[3.98585209]]\n"
     ]
    }
   ],
   "source": [
    "# Step 1: Instantiate Logistic Regression model.\n",
    "logreg = LogisticRegression()\n",
    "\n",
    "# Step 2: Fit or train the model.\n",
    "logreg.fit(X_train, y_train)\n",
    "\n",
    "print(f'Logistic Regression Intercept: {logreg.intercept_}')\n",
    "print(f'Logistic Regression Coefficient: {logreg.coef_}')"
   ]
  },
  {
   "cell_type": "markdown",
   "metadata": {},
   "source": [
    "There are two methods in `sklearn` we will use **a lot** for the rest of this course and beyond:\n",
    "- `.predict()`\n",
    "- `.predict_proba()`"
   ]
  },
  {
   "cell_type": "code",
   "execution_count": 46,
   "metadata": {
    "ExecuteTime": {
     "end_time": "2021-07-06T09:57:30.458138Z",
     "start_time": "2021-07-06T09:57:30.452780Z"
    }
   },
   "outputs": [],
   "source": [
    "# Step 3 (part 1): Generate predicted values.\n",
    "y_preds_log = logreg.predict(X_test)"
   ]
  },
  {
   "cell_type": "code",
   "execution_count": 48,
   "metadata": {
    "ExecuteTime": {
     "end_time": "2021-07-06T09:57:58.135649Z",
     "start_time": "2021-07-06T09:57:58.131158Z"
    }
   },
   "outputs": [
    {
     "data": {
      "text/plain": [
       "array([1, 1, 1, 1, 1, 1, 1, 0, 1, 0, 1, 1, 0, 1, 0, 1, 1, 1, 0, 0, 0, 0,\n",
       "       0, 1, 0, 1, 0, 0, 1, 0, 0, 1, 0, 0, 0, 1, 1, 1, 1, 0, 0, 1, 0, 0,\n",
       "       1, 0, 0, 1, 0, 1, 1, 1, 1, 1, 1, 0, 1, 0, 1, 1, 1, 0, 0, 0, 0, 1,\n",
       "       1, 0, 0, 1, 1, 1, 0, 1, 0, 0, 1, 1, 0, 1, 0, 1, 1, 1, 1, 1, 1, 0,\n",
       "       0, 1, 1, 1, 1, 1, 0, 0, 1, 0, 0, 0, 0, 0, 1, 1, 0, 1, 0, 0, 0, 0,\n",
       "       1, 1, 0, 0, 1, 1, 1, 0, 1, 1, 0, 1, 0, 1, 0, 1, 0, 0, 1, 1, 1, 1,\n",
       "       0, 0, 1, 1, 0, 1, 1, 0, 1, 0, 1, 0, 1, 0, 0, 1, 1, 1, 1, 1, 1, 1,\n",
       "       1, 0, 0, 0, 1, 1, 1, 1, 1, 1, 1, 0, 1, 1, 1, 1, 1, 0, 1, 1, 1, 1,\n",
       "       1, 1, 1, 1, 1, 0, 0])"
      ]
     },
     "execution_count": 48,
     "metadata": {},
     "output_type": "execute_result"
    }
   ],
   "source": [
    "y_preds_log"
   ]
  },
  {
   "cell_type": "code",
   "execution_count": 49,
   "metadata": {
    "ExecuteTime": {
     "end_time": "2021-07-06T09:58:11.621232Z",
     "start_time": "2021-07-06T09:58:11.608843Z"
    }
   },
   "outputs": [
    {
     "data": {
      "text/plain": [
       "array([[0.00820625, 0.99179375],\n",
       "       [0.35215912, 0.64784088],\n",
       "       [0.09651185, 0.90348815],\n",
       "       [0.08900567, 0.91099433],\n",
       "       [0.04100617, 0.95899383],\n",
       "       [0.09733573, 0.90266427],\n",
       "       [0.0227268 , 0.9772732 ],\n",
       "       [0.9874741 , 0.0125259 ],\n",
       "       [0.02495903, 0.97504097],\n",
       "       [0.58851944, 0.41148056],\n",
       "       [0.13578175, 0.86421825],\n",
       "       [0.02160691, 0.97839309],\n",
       "       [0.86591797, 0.13408203],\n",
       "       [0.00546126, 0.99453874],\n",
       "       [0.97004015, 0.02995985],\n",
       "       [0.01204383, 0.98795617],\n",
       "       [0.05098214, 0.94901786],\n",
       "       [0.34618101, 0.65381899],\n",
       "       [0.74764261, 0.25235739],\n",
       "       [0.8967719 , 0.1032281 ],\n",
       "       [0.90296122, 0.09703878],\n",
       "       [0.79982759, 0.20017241],\n",
       "       [0.91655353, 0.08344647],\n",
       "       [0.09100954, 0.90899046],\n",
       "       [0.98293836, 0.01706164],\n",
       "       [0.20825065, 0.79174935],\n",
       "       [0.9452439 , 0.0547561 ],\n",
       "       [0.56618949, 0.43381051],\n",
       "       [0.08785037, 0.91214963],\n",
       "       [0.97344046, 0.02655954],\n",
       "       [0.99886623, 0.00113377],\n",
       "       [0.45620804, 0.54379196],\n",
       "       [0.9870678 , 0.0129322 ],\n",
       "       [0.83995175, 0.16004825],\n",
       "       [0.82929165, 0.17070835],\n",
       "       [0.04640322, 0.95359678],\n",
       "       [0.1107122 , 0.8892878 ],\n",
       "       [0.15612161, 0.84387839],\n",
       "       [0.27736921, 0.72263079],\n",
       "       [0.53939079, 0.46060921],\n",
       "       [0.74215499, 0.25784501],\n",
       "       [0.10272576, 0.89727424],\n",
       "       [0.85689763, 0.14310237],\n",
       "       [0.82814628, 0.17185372],\n",
       "       [0.26025978, 0.73974022],\n",
       "       [0.9054432 , 0.0945568 ],\n",
       "       [0.86628567, 0.13371433],\n",
       "       [0.05500663, 0.94499337],\n",
       "       [0.93144253, 0.06855747],\n",
       "       [0.29249843, 0.70750157],\n",
       "       [0.0140328 , 0.9859672 ],\n",
       "       [0.10614638, 0.89385362],\n",
       "       [0.04006837, 0.95993163],\n",
       "       [0.1730841 , 0.8269159 ],\n",
       "       [0.04558476, 0.95441524],\n",
       "       [0.88788828, 0.11211172],\n",
       "       [0.2861753 , 0.7138247 ],\n",
       "       [0.88846586, 0.11153414],\n",
       "       [0.01765165, 0.98234835],\n",
       "       [0.00269573, 0.99730427],\n",
       "       [0.00290193, 0.99709807],\n",
       "       [0.91243915, 0.08756085],\n",
       "       [0.9908897 , 0.0091103 ],\n",
       "       [0.96434081, 0.03565919],\n",
       "       [0.95443585, 0.04556415],\n",
       "       [0.02880723, 0.97119277],\n",
       "       [0.01086368, 0.98913632],\n",
       "       [0.8284012 , 0.1715988 ],\n",
       "       [0.96080628, 0.03919372],\n",
       "       [0.10514812, 0.89485188],\n",
       "       [0.05455816, 0.94544184],\n",
       "       [0.04047862, 0.95952138],\n",
       "       [0.98891071, 0.01108929],\n",
       "       [0.4777023 , 0.5222977 ],\n",
       "       [0.90470797, 0.09529203],\n",
       "       [0.97748603, 0.02251397],\n",
       "       [0.05191906, 0.94808094],\n",
       "       [0.02408089, 0.97591911],\n",
       "       [0.94709632, 0.05290368],\n",
       "       [0.08297337, 0.91702663],\n",
       "       [0.99030881, 0.00969119],\n",
       "       [0.3691392 , 0.6308608 ],\n",
       "       [0.02385912, 0.97614088],\n",
       "       [0.1634827 , 0.8365173 ],\n",
       "       [0.11391697, 0.88608303],\n",
       "       [0.00721035, 0.99278965],\n",
       "       [0.06874828, 0.93125172],\n",
       "       [0.97905409, 0.02094591],\n",
       "       [0.99269933, 0.00730067],\n",
       "       [0.03221582, 0.96778418],\n",
       "       [0.07538423, 0.92461577],\n",
       "       [0.1503673 , 0.8496327 ],\n",
       "       [0.05816743, 0.94183257],\n",
       "       [0.19641423, 0.80358577],\n",
       "       [0.80581155, 0.19418845],\n",
       "       [0.8200643 , 0.1799357 ],\n",
       "       [0.00687871, 0.99312129],\n",
       "       [0.92111357, 0.07888643],\n",
       "       [0.73969873, 0.26030127],\n",
       "       [0.94663761, 0.05336239],\n",
       "       [0.96957823, 0.03042177],\n",
       "       [0.96628317, 0.03371683],\n",
       "       [0.11941797, 0.88058203],\n",
       "       [0.41110194, 0.58889806],\n",
       "       [0.54810833, 0.45189167],\n",
       "       [0.02522926, 0.97477074],\n",
       "       [0.69018383, 0.30981617],\n",
       "       [0.97966747, 0.02033253],\n",
       "       [0.90467771, 0.09532229],\n",
       "       [0.96796348, 0.03203652],\n",
       "       [0.1451954 , 0.8548046 ],\n",
       "       [0.00517047, 0.99482953],\n",
       "       [0.64736974, 0.35263026],\n",
       "       [0.98424436, 0.01575564],\n",
       "       [0.03446904, 0.96553096],\n",
       "       [0.00304217, 0.99695783],\n",
       "       [0.00392169, 0.99607831],\n",
       "       [0.91259838, 0.08740162],\n",
       "       [0.08407606, 0.91592394],\n",
       "       [0.05443362, 0.94556638],\n",
       "       [0.9433168 , 0.0566832 ],\n",
       "       [0.32098446, 0.67901554],\n",
       "       [0.75625718, 0.24374282],\n",
       "       [0.07168578, 0.92831422],\n",
       "       [0.979806  , 0.020194  ],\n",
       "       [0.13778258, 0.86221742],\n",
       "       [0.97894535, 0.02105465],\n",
       "       [0.83983706, 0.16016294],\n",
       "       [0.123557  , 0.876443  ],\n",
       "       [0.13027278, 0.86972722],\n",
       "       [0.04592126, 0.95407874],\n",
       "       [0.00362501, 0.99637499],\n",
       "       [0.87130149, 0.12869851],\n",
       "       [0.75384854, 0.24615146],\n",
       "       [0.07889474, 0.92110526],\n",
       "       [0.00370282, 0.99629718],\n",
       "       [0.99541075, 0.00458925],\n",
       "       [0.16605917, 0.83394083],\n",
       "       [0.00218433, 0.99781567],\n",
       "       [0.67616125, 0.32383875],\n",
       "       [0.02568733, 0.97431267],\n",
       "       [0.70420209, 0.29579791],\n",
       "       [0.03854748, 0.96145252],\n",
       "       [0.97969913, 0.02030087],\n",
       "       [0.12776601, 0.87223399],\n",
       "       [0.97866447, 0.02133553],\n",
       "       [0.93586849, 0.06413151],\n",
       "       [0.01832924, 0.98167076],\n",
       "       [0.44651701, 0.55348299],\n",
       "       [0.07136826, 0.92863174],\n",
       "       [0.00296352, 0.99703648],\n",
       "       [0.31153665, 0.68846335],\n",
       "       [0.2467274 , 0.7532726 ],\n",
       "       [0.11012207, 0.88987793],\n",
       "       [0.35159399, 0.64840601],\n",
       "       [0.75611838, 0.24388162],\n",
       "       [0.6287019 , 0.3712981 ],\n",
       "       [0.80292844, 0.19707156],\n",
       "       [0.10989166, 0.89010834],\n",
       "       [0.02065715, 0.97934285],\n",
       "       [0.07291524, 0.92708476],\n",
       "       [0.0049318 , 0.9950682 ],\n",
       "       [0.0082748 , 0.9917252 ],\n",
       "       [0.25153875, 0.74846125],\n",
       "       [0.02468729, 0.97531271],\n",
       "       [0.5522922 , 0.4477078 ],\n",
       "       [0.01781229, 0.98218771],\n",
       "       [0.08328108, 0.91671892],\n",
       "       [0.22496222, 0.77503778],\n",
       "       [0.0429935 , 0.9570065 ],\n",
       "       [0.13010808, 0.86989192],\n",
       "       [0.82099237, 0.17900763],\n",
       "       [0.0312358 , 0.9687642 ],\n",
       "       [0.00587689, 0.99412311],\n",
       "       [0.14741175, 0.85258825],\n",
       "       [0.10710186, 0.89289814],\n",
       "       [0.01863581, 0.98136419],\n",
       "       [0.07991559, 0.92008441],\n",
       "       [0.31364379, 0.68635621],\n",
       "       [0.06289503, 0.93710497],\n",
       "       [0.00194735, 0.99805265],\n",
       "       [0.85768195, 0.14231805],\n",
       "       [0.50844488, 0.49155512]])"
      ]
     },
     "execution_count": 49,
     "metadata": {},
     "output_type": "execute_result"
    }
   ],
   "source": [
    "# Step 3 (part 2): Generate predicted probabilities.\n",
    "y_preds_log_proba = logreg.predict_proba(X_test)\n",
    "y_preds_log_proba"
   ]
  },
  {
   "cell_type": "markdown",
   "metadata": {},
   "source": [
    "<details><summary>How would you interpret the predict_proba() output?</summary>\n",
    "    \n",
    "- The first array, [0.93743193 0.06256807], corresponds to the first training observation.\n",
    "    - This first training observation is predicted to have a 93.7% chance that $Y = 0$ and a 6.3% chance that $Y = 1$.\n",
    "    - The `.predict()` value for this observation is 0. This is because $P(Y=0) > P(Y=1)$.\n",
    "- The second array, [0.1592928 0.8407072], corresponds to the second training observation.\n",
    "    - This second training observation is predicted to have a 15.9% chance that $Y = 0$ and an 84.1% chance that $Y = 1$.\n",
    "    - The `.predict()` value for this observation is 1. This is because $P(Y=1) > P(Y=0)$.\n",
    "</details>"
   ]
  },
  {
   "cell_type": "code",
   "execution_count": 77,
   "metadata": {
    "ExecuteTime": {
     "end_time": "2021-07-06T10:34:18.130309Z",
     "start_time": "2021-07-06T10:34:17.939432Z"
    }
   },
   "outputs": [
    {
     "data": {
      "image/png": "[encoded data removed]",
      "text/plain": [
       "<Figure size 720x432 with 1 Axes>"
      ]
     },
     "metadata": {},
     "output_type": "display_data"
    }
   ],
   "source": [
    "# Visualizing logistic regression probabilities.\n",
    "\n",
    "# Create figure.\n",
    "plt.figure(figsize=(10,6))\n",
    "\n",
    "# Plot the regression line where gpa predicts admit.\n",
    "x_vals = np.linspace(1, 5, 3000)\n",
    "\n",
    "# Nicholas Jin - BOS\n",
    "# Plot line of best fit\n",
    "plt.plot(x_vals,\n",
    "         logreg.predict_proba(x_vals.reshape(-1,1))[:,1],\n",
    "         color='black', alpha=0.7, lw=4)\n",
    "\n",
    "# Create scatterplot with orange dots for those rejected.\n",
    "plt.scatter(admit['gpa'][admit['admit'] == 0],\n",
    "            admit['admit'][admit['admit'] == 0],\n",
    "            c='orange',\n",
    "            s=100,\n",
    "            alpha=0.7,\n",
    "            label='rejected')\n",
    "\n",
    "# Create scatterplot with blue dots for those admitted.\n",
    "plt.scatter(admit['gpa'][admit['admit'] == 1],\n",
    "            admit['admit'][admit['admit'] == 1],\n",
    "            c='blue',\n",
    "            s=100,\n",
    "            alpha=0.7,\n",
    "            label='admitted')\n",
    "\n",
    "# Set labels of axes and title.\n",
    "plt.ylabel('P(Admitted)', fontsize=16, rotation = 'horizontal', ha = 'right')\n",
    "plt.yticks(fontsize = 14)\n",
    "plt.xlabel('GPA', fontsize=16)\n",
    "plt.xticks(fontsize = 14)\n",
    "plt.title('Predicting Admission from GPA (Prestige = 1)', fontsize=20)\n",
    "plt.xlim(1.5, 5)\n",
    "plt.ylim(-0.25, 1.25)\n",
    "plt.legend(loc='upper left');"
   ]
  },
  {
   "cell_type": "code",
   "execution_count": null,
   "metadata": {},
   "outputs": [],
   "source": [
    "# Step 4: Evaluate model.\n"
   ]
  },
  {
   "cell_type": "markdown",
   "metadata": {},
   "source": [
    "By default, the `.score()` method for classification models gives us the accuracy score.\n",
    "\n",
    "$$\n",
    "\\begin{eqnarray*}\n",
    "\\text{Accuracy} = \\frac{\\text{number of correct predictions}}{\\text{number of total predictions}}\n",
    "\\end{eqnarray*}\n",
    "$$"
   ]
  },
  {
   "cell_type": "markdown",
   "metadata": {},
   "source": [
    "<details><summary>Remind me: what does .score() tell me for a regression model?</summary>\n",
    "    \n",
    "- The $R^2$ score.\n",
    "- Remember that $R^2$ is the proportion of variance in our $Y$ values that are explained by our model.\n",
    "</details>"
   ]
  },
  {
   "cell_type": "markdown",
   "metadata": {},
   "source": [
    "## Interpretation\n",
    "#### Down the rabbit hole..."
   ]
  },
  {
   "cell_type": "markdown",
   "metadata": {},
   "source": [
    "### Using the log-odds —the natural logarithm of the odds.\n",
    "\n",
    "The combination of converting the \"probability of success\" to \"odds of success,\" then taking the logarithm of that is called the **logit link function**.\n",
    "\n",
    "### $$\\text{logit}\\big(P(Y=1)\\big) = \\log\\bigg(\\frac{P(Y=1)}{1-P(Y=1)}\\bigg) = \\beta_0 + \\beta_1X_1 + \\beta_2X_2 + \\cdots + \\beta_pX_p$$\n",
    "\n",
    "We've bent our line how we want... but how do we interpret our coefficients?"
   ]
  },
  {
   "cell_type": "markdown",
   "metadata": {},
   "source": [
    "### Odds\n",
    "\n",
    "Probabilities and odds represent the same thing in different ways. The odds for probability **p** is defined as:\n",
    "\n",
    "### $$\\text{odds}(p) = \\frac{p}{1-p}$$\n",
    "\n",
    "The odds of a probability is a measure of how many times as likely an event is to happen than it is to not happen.\n",
    "\n",
    "**Example**: Suppose I'm looking at the probability and odds of a specific horse, \"Secretariat,\" winning a race.\n",
    "\n",
    "- When **`p = 0.5`**: **`odds = 1`**\n",
    "    - The horse Secretariat is as likely to win as it is to lose.\n",
    "- When **`p = 0.75`**: **`odds = 3`**\n",
    "    - The horse Secretariat is three times as likely to win as it is to lose.\n",
    "- When **`p = 0.40`**: **`odds = 0.666..`**\n",
    "   - The horse Secretariat is two-thirds as likely to win as it is to lose."
   ]
  },
  {
   "cell_type": "markdown",
   "metadata": {},
   "source": [
    "### Interpreting a one-unit change in $X_i$.\n",
    "\n",
    "$$\\log\\bigg(\\frac{P(Y=1)}{1-P(Y=1)}\\bigg) = \\beta_0 + \\beta_1X_1 + \\beta_2X_2 + \\cdots + \\beta_pX_p$$\n",
    "\n",
    "Given this model, a one-unit change in $X_i$ implies a $\\beta_i$ unit change in the log odds of success.\n",
    "\n",
    "**This is annoying**.\n",
    "\n",
    "We often convert log-odds back to \"regular odds\" when interpreting our coefficient... our mind understands odds better than the log of odds.\n",
    "\n",
    "**(BONUS)** So, let's get rid of the log on the left-hand side. Mathematically, we do this by \"exponentiating\" each side.\n",
    "$$\n",
    "\\begin{eqnarray*}\n",
    "\\log\\bigg(\\frac{P(Y=1)}{1-P(Y=1)}\\bigg) &=& \\beta_0 + \\beta_1X_1 + \\beta_2X_2 + \\cdots + \\beta_pX_p \\\\\n",
    "\\Rightarrow e^{\\Bigg(\\log\\bigg(\\frac{P(Y=1)}{1-P(Y=1)}\\bigg)\\Bigg)} &=& e^{\\Bigg(\\beta_0 + \\beta_1X_1 + \\beta_2X_2 + \\cdots + \\beta_pX_p\\Bigg)} \\\\\n",
    "\\Rightarrow \\frac{P(Y=1)}{1-P(Y=1)} &=& e^{\\Bigg(\\beta_0 + \\beta_1X_1 + \\beta_2X_2 + \\cdots + \\beta_pX_p\\Bigg)} \\\\\n",
    "\\end{eqnarray*}\n",
    "$$\n",
    "\n",
    "**Interpretation**: A one-unit change in $X_i$ means that success is $e^{\\beta_i}$ times as likely."
   ]
  },
  {
   "cell_type": "markdown",
   "metadata": {},
   "source": [
    "<details><summary> I want to interpret the coefficient $\\hat{\\beta}_1$ for my logistic regression model. How would I interpret this coefficient?</summary>\n",
    "    \n",
    "- Our model is that $\\log\\bigg(\\frac{P(admit=1)}{1-P(admit=1)}\\bigg) = \\beta_0 + \\beta_1\\text{GPA}$.\n",
    "- As GPA increases by 1, the log-odds of someone being admitted increases by 3.96.\n",
    "- As GPA increases by 1, someone is $e^{3.96}$ times as likely to be admitted.\n",
    "- As GPA increases by 1, someone is about 52.4 times as likely to be admitted to grad school.\n",
    "</details>\n",
    "\n",
    "> Hint: Use the [np.exp](https://docs.scipy.org/doc/numpy/reference/generated/numpy.exp.html) function."
   ]
  },
  {
   "cell_type": "code",
   "execution_count": null,
   "metadata": {},
   "outputs": [],
   "source": [
    "print(f'Logistic Regression Coefficient: {}')"
   ]
  },
  {
   "cell_type": "code",
   "execution_count": null,
   "metadata": {},
   "outputs": [],
   "source": [
    "# Use np.exp() to exponentiate the coefficient.\n"
   ]
  },
  {
   "cell_type": "markdown",
   "metadata": {},
   "source": [
    "### Alternative Ways of Considering..."
   ]
  },
  {
   "cell_type": "markdown",
   "metadata": {},
   "source": [
    "We could also consider interpreting or understanding the coefficients in other ways:\n",
    "- Positive or negative\n",
    "- Relative size of coefficients\n",
    "- Concrete example (set values for all variables, then vary the one of interest only to compare the probabilities). "
   ]
  },
  {
   "cell_type": "markdown",
   "metadata": {},
   "source": [
    "## Beyond binary classification problems.\n",
    "\n",
    "Today, we looked at a binary classification problem: was somebody admitted, or not? Many of our classification problems will be binary. Even if the problem isn't binary, we can always force it to be binary. (i.e. Did the stock price increase or decrease?)\n",
    "\n",
    "However, some of our classification problems won't be binary."
   ]
  },
  {
   "cell_type": "markdown",
   "metadata": {},
   "source": [
    "## Conclusion\n",
    "\n",
    "The goal of logistic regression is to find the best-fitting model to describe the relationship between a binary outcome and a set of independent variables.\n",
    "\n",
    "Logistic regression generates the coefficients of a formula to predict a logit transformation of the probability that the characteristic of interest is present."
   ]
  },
  {
   "cell_type": "markdown",
   "metadata": {},
   "source": [
    "## Interview Questions"
   ]
  },
  {
   "cell_type": "markdown",
   "metadata": {},
   "source": [
    "<details><summary>What is the difference between a classification and a regression problem?</summary>\n",
    "    \n",
    "- A classification problem has a discrete $Y$ variable. A regression problem has a continuous $Y$ variable.\n",
    "</details>"
   ]
  },
  {
   "cell_type": "markdown",
   "metadata": {},
   "source": [
    "<details><summary>What are some of the benefits of logistic regression as a classifier?</summary>\n",
    "\n",
    "(Answers may vary; this is not an exhaustive list!)\n",
    "- Logistic regression is a classification algorithm that shares similar properties to linear regression.\n",
    "- The coefficients in a logistic regression model are interpretable. (They represent the change in log-odds caused by the input variables.)\n",
    "- Logistic regression is a very fast model to fit and generate predictions from.\n",
    "- It is by far the most common classification algorithm.\n",
    "\n",
    "**Note**: The original interview question was \"If you're comparing decision trees and logistic regression, what are the pros and cons of each?\"\n",
    "</details>"
   ]
  }
 ],
 "metadata": {
  "kernelspec": {
   "display_name": "Python 3",
   "language": "python",
   "name": "python3"
  },
  "language_info": {
   "codemirror_mode": {
    "name": "ipython",
    "version": 3
   },
   "file_extension": ".py",
   "mimetype": "text/x-python",
   "name": "python",
   "nbconvert_exporter": "python",
   "pygments_lexer": "ipython3",
   "version": "3.7.4"
  }
 },
 "nbformat": 4,
 "nbformat_minor": 4
}
