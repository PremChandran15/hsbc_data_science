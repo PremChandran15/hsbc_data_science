{
 "cells": [
  {
   "cell_type": "markdown",
   "metadata": {},
   "source": [
    "# Test Instructions\n",
    "1. You are free to use your notes or even use online documentations to solve the questions, however do not copy-paste the answers as there is a plagiarism checker\n",
    "2. Do not discuss with your colleagues as similar answers can easily be spotted by the plagiarism algorithm\n",
    "3. For question1 and question2, check the results with as many inputs as you want, as the final check by the instructor will incorporate a range of lists and inputs. Hence do not just limit or hard-code your answer to the given input\n",
    "4. You are expected to write your code within this notebook itself. Just modify the title with your name before submission\n",
    "5. Your final submission .ipynb should be a working file, i.e the codes should be able to run"
   ]
  },
  {
   "cell_type": "markdown",
   "metadata": {},
   "source": [
    "## Question 1 - NonPrime Numbers\n",
    "Write a Python function that takes in a user input as an int, and returns a list of all integers that are non-prime numbers, which is less than the given number.\n",
    "\n",
    "For example:\n",
    "    \n",
    "    user_input = 9\n",
    "    output = [1,4,6,8]\n",
    "    \n",
    "***BONUS:*** *Handle all exceptions elegantly*"
   ]
  },
  {
   "cell_type": "code",
   "execution_count": 18,
   "metadata": {},
   "outputs": [
    {
     "name": "stdout",
     "output_type": "stream",
     "text": [
      "Please enter an integer: 12\n",
      "[1, 4, 6, 8, 9, 10]\n"
     ]
    }
   ],
   "source": [
    "#Complete your code here: MODIFY Code where necessary\n",
    "\n",
    "def non_Prime(val):\n",
    "    #WRITE YOUR CODE HERE\n",
    "    pass"
   ]
  },
  {
   "cell_type": "code",
   "execution_count": null,
   "metadata": {},
   "outputs": [],
   "source": []
  },
  {
   "cell_type": "code",
   "execution_count": null,
   "metadata": {},
   "outputs": [],
   "source": []
  },
  {
   "cell_type": "markdown",
   "metadata": {},
   "source": [
    "## Question 2 - StockPricePrediction\n",
    "Write a Python function that accepts stock_price_data and user_query as an input to process and give out a list of nearest day(s) corresponding to the queried date(s) showing the day where the stock prices are lower than the queried day. The input parameters are:\n",
    "\n",
    "- InputParam1: stockData as list, with each index representing stock price of a day (Eg: Please note that item at index 0 represents stock price of day 1, item at index 5 represents stock price of day 6 etc); \n",
    "- InputParam2: queries as list, with each index representing the day\n",
    "\n",
    "The function is expected to process these input parameters to output the nearest day, where the stock price is lower than the queried date. If two nearest days are present with lower stock prices, for example one higher and one lower day, the lower day shall be given out as an output. \n",
    "\n",
    "**EXAMPLE**\n",
    "\n",
    "    stockData = [5,6,8,4,9,10,8,3,6,4]\n",
    "    queries = [6,5,4] \n",
    "    \n",
    "    output = [5,4,8]\n",
    "    \n",
    "    => explanation: first item in the queries is day 6, looking at the stockData, at day 6, the stock price is 10. All other items in the list is lesser than this day, however, the question wants you to get the nearest day, hence we have two choices, either day 5 or day 7, but only one output is required where the lower day will be taken, hence the first item in the output list is 5. Similarly, for second query, day 5, the value in stockData is 9, and the nearest day with lower price is day 4 with value 4 hence the second output is 4. Finally third query is day 4, with value of 4 in stockData and the lower stock price occurs in day 8, and hence the final output"
   ]
  },
  {
   "cell_type": "code",
   "execution_count": 1,
   "metadata": {},
   "outputs": [],
   "source": [
    "#Complete your code here: MODIFY Code where necessary\n",
    "\n",
    "def predictAnswer(stockData, queries):\n",
    "    #WRITE YOUR CODE HERE\n",
    "    pass\n"
   ]
  },
  {
   "cell_type": "code",
   "execution_count": 70,
   "metadata": {},
   "outputs": [
    {
     "data": {
      "text/plain": [
       "[8, 2, 10]"
      ]
     },
     "execution_count": 70,
     "metadata": {},
     "output_type": "execute_result"
    }
   ],
   "source": [
    "predictAnswer([10,7,8,7,9,11,8,5,6,4],[7,3,8])"
   ]
  },
  {
   "cell_type": "code",
   "execution_count": null,
   "metadata": {},
   "outputs": [],
   "source": []
  },
  {
   "cell_type": "code",
   "execution_count": null,
   "metadata": {},
   "outputs": [],
   "source": []
  }
 ],
 "metadata": {
  "kernelspec": {
   "display_name": "Python 3",
   "language": "python",
   "name": "python3"
  },
  "language_info": {
   "codemirror_mode": {
    "name": "ipython",
    "version": 3
   },
   "file_extension": ".py",
   "mimetype": "text/x-python",
   "name": "python",
   "nbconvert_exporter": "python",
   "pygments_lexer": "ipython3",
   "version": "3.7.4"
  }
 },
 "nbformat": 4,
 "nbformat_minor": 2
}
