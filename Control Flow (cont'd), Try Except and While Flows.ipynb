{
 "cells": [
  {
   "cell_type": "markdown",
   "metadata": {},
   "source": [
    "### Refresher Questions"
   ]
  },
  {
   "cell_type": "code",
   "execution_count": 3,
   "metadata": {},
   "outputs": [
    {
     "name": "stdout",
     "output_type": "stream",
     "text": [
      "'word' has an even length\n",
      "'in' has an even length\n",
      "'this' has an even length\n",
      "'sentence' has an even length\n",
      "'that' has an even length\n",
      "'an' has an even length\n",
      "'even' has an even length\n",
      "'number' has an even length\n",
      "'of' has an even length\n"
     ]
    }
   ],
   "source": [
    "# Question 1: Print all words in string below that has even number of characters\n",
    "# if it is even, print \"[word] has an even length\"\n",
    "st = \"Print every word in this sentence that has an even number of letters\"\n",
    "for word in st.split():\n",
    "    if len(word)%2 == 0:\n",
    "        print(\"'{}' has an even length\".format(word))"
   ]
  },
  {
   "cell_type": "code",
   "execution_count": 8,
   "metadata": {},
   "outputs": [
    {
     "name": "stdout",
     "output_type": "stream",
     "text": [
      "0: FizzBuzz\n",
      "1\n",
      "2\n",
      "3: Fizz\n",
      "4\n",
      "5: Buzz\n",
      "6: Fizz\n",
      "7\n",
      "8\n",
      "9: Fizz\n",
      "10: Buzz\n",
      "11\n",
      "12: Fizz\n",
      "13\n",
      "14\n",
      "15: FizzBuzz\n",
      "16\n",
      "17\n",
      "18: Fizz\n",
      "19\n"
     ]
    }
   ],
   "source": [
    "#Question 2: Write a program that prints the numbers from 0 to 100. But, for multiples of three, \n",
    "# print “Fizz” instead of the number. For multiples of five, print “Buzz”. For numbers which are multiples of \n",
    "# both three and five, print “FizzBuzz”\n",
    "for num in range(20):\n",
    "    if num%3 == 0 and num%5==0:\n",
    "        print(\"{}: FizzBuzz\".format(num))\n",
    "    elif num%3 == 0:\n",
    "        print(\"{}: Fizz\".format(num))\n",
    "    elif num%5 == 0:\n",
    "        print(\"{}: Buzz\".format(num))\n",
    "    else:\n",
    "        print(num)\n"
   ]
  },
  {
   "cell_type": "markdown",
   "metadata": {},
   "source": [
    "Question 3: Write a program that calculates the number of upper and lowercase letters in a sentence/string\n",
    "\n",
    "    Sample String : 'Hello Mr. Rogers, how are you this fine Tuesday?'\n",
    "    Expected Output : \n",
    "    No. of Upper case characters : 4\n",
    "    No. of Lower case Characters : 33"
   ]
  },
  {
   "cell_type": "code",
   "execution_count": 11,
   "metadata": {},
   "outputs": [
    {
     "name": "stdout",
     "output_type": "stream",
     "text": [
      "Number of upper case: 4\n",
      "Number of lower case: 33\n"
     ]
    }
   ],
   "source": [
    "#Method 1: increment every loop based on conditions\n",
    "st = 'Hello Mr. Rogers, how are you this fine Tuesday?'\n",
    "upper = 0\n",
    "lower = 0\n",
    "for x in st:\n",
    "    if x.isupper():\n",
    "        upper = upper + 1 # upper += 1\n",
    "    elif x.islower():\n",
    "        lower = lower + 1 # lower += 1\n",
    "    else:\n",
    "        continue\n",
    "print(\"Number of upper case: {}\".format(upper))\n",
    "print(\"Number of lower case: {}\".format(lower))"
   ]
  },
  {
   "cell_type": "code",
   "execution_count": 12,
   "metadata": {},
   "outputs": [
    {
     "name": "stdout",
     "output_type": "stream",
     "text": [
      "Number of upper case: 4\n",
      "Number of lower case: 33\n"
     ]
    }
   ],
   "source": [
    "#Method 2: storing information in a list \n",
    "st = 'Hello Mr. Rogers, how are you this fine Tuesday?'\n",
    "upper = []\n",
    "lower = []\n",
    "for x in st:\n",
    "    if x.isupper():\n",
    "        upper.append(x)\n",
    "    elif x.islower():\n",
    "        lower.append(x)\n",
    "    else:\n",
    "        continue\n",
    "print(\"Number of upper case: {}\".format(len(upper)))\n",
    "print(\"Number of lower case: {}\".format(len(lower)))"
   ]
  },
  {
   "cell_type": "code",
   "execution_count": 16,
   "metadata": {},
   "outputs": [
    {
     "name": "stdout",
     "output_type": "stream",
     "text": [
      "Number of upper case: 4\n",
      "Number of lower case: 33\n"
     ]
    }
   ],
   "source": [
    "#Method 3: storing as a dictionary\n",
    "st = 'Hello Mr. Rogers, how are you this fine Tuesday?'\n",
    "d = {'upper': 0, 'lower': 0}\n",
    "for x in st:\n",
    "    if x.isupper():\n",
    "        d['upper'] += 1\n",
    "    elif x.islower():\n",
    "        d['lower'] += 1\n",
    "    else:\n",
    "        continue\n",
    "print(\"Number of upper case: {}\".format(d['upper']))\n",
    "print(\"Number of lower case: {}\".format(d['lower']))"
   ]
  },
  {
   "cell_type": "markdown",
   "metadata": {},
   "source": [
    "## While Loop\n",
    "\n",
    "The **while** statement in Python is one of most general ways to perform iteration. A **while** statement will repeatedly execute a single statement or group of statements as long as the condition is true. The reason it is called a 'loop' is because the code statements are looped through over and over again until the condition is no longer met.\n",
    "\n",
    "The general format of a while loop is:\n",
    "\n",
    "````python\n",
    "while someCondition:\n",
    "    #code statement\n",
    "else: #purely optional\n",
    "    #final code statements\n",
    "````\n",
    "\n",
    "Let’s look at a few simple while loops in action. "
   ]
  },
  {
   "cell_type": "code",
   "execution_count": 19,
   "metadata": {},
   "outputs": [
    {
     "name": "stdout",
     "output_type": "stream",
     "text": [
      "x is currently: 0\n",
      "x is currently: 1\n",
      "x is currently: 2\n",
      "x is currently: 3\n",
      "x is currently: 4\n",
      "x is currently: 5\n",
      "x is currently: 6\n",
      "x is currently: 7\n",
      "x is currently: 8\n",
      "x is currently: 9\n",
      "Done executing. X is now 10\n"
     ]
    }
   ],
   "source": [
    "x = 0\n",
    "\n",
    "while x < 10:\n",
    "    print(\"x is currently: {}\".format(x))\n",
    "    x += 1\n",
    "else:\n",
    "    print('Done executing. X is now {}'.format(x))"
   ]
  },
  {
   "cell_type": "code",
   "execution_count": 20,
   "metadata": {},
   "outputs": [
    {
     "name": "stdout",
     "output_type": "stream",
     "text": [
      "x is currently: 0\n",
      "x is currently: 1\n",
      "x is currently: 2\n",
      "X has reached 3\n"
     ]
    }
   ],
   "source": [
    "#same code as before, but break at 3\n",
    "x = 0\n",
    "\n",
    "while x < 10:\n",
    "    print(\"x is currently: {}\".format(x))\n",
    "    x += 1\n",
    "    if x == 3:\n",
    "        print(\"X has reached 3\")\n",
    "        break\n",
    "else:\n",
    "    print('Done executing. X is now {}'.format(x))"
   ]
  },
  {
   "cell_type": "code",
   "execution_count": null,
   "metadata": {},
   "outputs": [],
   "source": [
    "# Be careful with statements/ while loops like the ones below:\n",
    "while True:\n",
    "    print(\"My computer is doomed because I do not have a break statement or condition\")\n",
    "    \n",
    "while 1:\n",
    "    print(\"My computer is doomed because I do not have a break statement or condition\")"
   ]
  },
  {
   "cell_type": "markdown",
   "metadata": {},
   "source": [
    "## Error Handling (try/except)\n",
    "The basic terminology and syntax used to handle errors in Python is the **try** and **except** statements. The code which can cause an exception to occue is put in the *try* block and the handling of the exception is the implemented in the *except* block of code. The syntax form is:\n",
    "\n",
    "    try:\n",
    "       You do your operations here...\n",
    "       ...\n",
    "    except ExceptionI:\n",
    "       If there is ExceptionI, then execute this block.\n",
    "    except ExceptionII:\n",
    "       If there is ExceptionII, then execute this block.\n",
    "       ...\n",
    "    else:\n",
    "       If there is no exception then execute this block. \n",
    "\n",
    "We can also just check for any exception with just using except: To get a better understanding of all this lets check out an example: We will look at some code that opens and writes a file:"
   ]
  },
  {
   "cell_type": "code",
   "execution_count": 23,
   "metadata": {},
   "outputs": [
    {
     "ename": "TypeError",
     "evalue": "can only concatenate str (not \"int\") to str",
     "output_type": "error",
     "traceback": [
      "\u001b[0;31m---------------------------------------------------------------------------\u001b[0m",
      "\u001b[0;31mTypeError\u001b[0m                                 Traceback (most recent call last)",
      "\u001b[0;32m/var/folders/l9/swvqvt0552gfk3662mhw83b00000gn/T/ipykernel_69680/2877433884.py\u001b[0m in \u001b[0;36m<module>\u001b[0;34m\u001b[0m\n\u001b[1;32m      1\u001b[0m \u001b[0mage\u001b[0m \u001b[0;34m=\u001b[0m \u001b[0;36m36\u001b[0m\u001b[0;34m\u001b[0m\u001b[0;34m\u001b[0m\u001b[0m\n\u001b[0;32m----> 2\u001b[0;31m \u001b[0mprint\u001b[0m\u001b[0;34m(\u001b[0m\u001b[0;34m\"My age is \"\u001b[0m \u001b[0;34m+\u001b[0m \u001b[0mage\u001b[0m\u001b[0;34m)\u001b[0m\u001b[0;34m\u001b[0m\u001b[0;34m\u001b[0m\u001b[0m\n\u001b[0m",
      "\u001b[0;31mTypeError\u001b[0m: can only concatenate str (not \"int\") to str"
     ]
    }
   ],
   "source": [
    "age = 36\n",
    "print(\"My age is \" + age)"
   ]
  },
  {
   "cell_type": "code",
   "execution_count": null,
   "metadata": {},
   "outputs": [],
   "source": [
    "try:    \n",
    "    age = 36\n",
    "    print(\"My age is \" + age)\n",
    "except:\n",
    "    print(\"Could not print age\")"
   ]
  },
  {
   "cell_type": "code",
   "execution_count": 26,
   "metadata": {},
   "outputs": [
    {
     "name": "stdout",
     "output_type": "stream",
     "text": [
      "Could not print age\n"
     ]
    }
   ],
   "source": [
    "# explicitly specify the error that is expected\n",
    "try:    \n",
    "    age = 36\n",
    "    print(\"My age is \" + age)\n",
    "except TypeError:\n",
    "    print(\"Could not print age\")\n"
   ]
  },
  {
   "cell_type": "code",
   "execution_count": 27,
   "metadata": {},
   "outputs": [
    {
     "ename": "TypeError",
     "evalue": "can only concatenate str (not \"int\") to str",
     "output_type": "error",
     "traceback": [
      "\u001b[0;31m---------------------------------------------------------------------------\u001b[0m",
      "\u001b[0;31mTypeError\u001b[0m                                 Traceback (most recent call last)",
      "\u001b[0;32m/var/folders/l9/swvqvt0552gfk3662mhw83b00000gn/T/ipykernel_69680/567595685.py\u001b[0m in \u001b[0;36m<module>\u001b[0;34m\u001b[0m\n\u001b[1;32m      2\u001b[0m \u001b[0;32mtry\u001b[0m\u001b[0;34m:\u001b[0m\u001b[0;34m\u001b[0m\u001b[0;34m\u001b[0m\u001b[0m\n\u001b[1;32m      3\u001b[0m     \u001b[0mage\u001b[0m \u001b[0;34m=\u001b[0m \u001b[0;36m36\u001b[0m\u001b[0;34m\u001b[0m\u001b[0;34m\u001b[0m\u001b[0m\n\u001b[0;32m----> 4\u001b[0;31m     \u001b[0mprint\u001b[0m\u001b[0;34m(\u001b[0m\u001b[0;34m\"My age is \"\u001b[0m \u001b[0;34m+\u001b[0m \u001b[0mage\u001b[0m\u001b[0;34m)\u001b[0m\u001b[0;34m\u001b[0m\u001b[0;34m\u001b[0m\u001b[0m\n\u001b[0m\u001b[1;32m      5\u001b[0m \u001b[0;32mexcept\u001b[0m \u001b[0mKeyError\u001b[0m\u001b[0;34m:\u001b[0m\u001b[0;34m\u001b[0m\u001b[0;34m\u001b[0m\u001b[0m\n\u001b[1;32m      6\u001b[0m     \u001b[0mprint\u001b[0m\u001b[0;34m(\u001b[0m\u001b[0;34m\"Could not print age\"\u001b[0m\u001b[0;34m)\u001b[0m\u001b[0;34m\u001b[0m\u001b[0;34m\u001b[0m\u001b[0m\n",
      "\u001b[0;31mTypeError\u001b[0m: can only concatenate str (not \"int\") to str"
     ]
    }
   ],
   "source": [
    "# explicitly specify the error that is expected\n",
    "try:    \n",
    "    age = 36\n",
    "    print(\"My age is \" + age)\n",
    "except KeyError:\n",
    "    print(\"Could not print age\")"
   ]
  },
  {
   "cell_type": "code",
   "execution_count": 28,
   "metadata": {},
   "outputs": [
    {
     "name": "stdout",
     "output_type": "stream",
     "text": [
      "The right age is 36\n"
     ]
    }
   ],
   "source": [
    "# explicitly specify the error that is expected\n",
    "try:    \n",
    "    age = 36\n",
    "    print(\"My age is \" + age)\n",
    "except KeyError:\n",
    "    print(\"Could not print age\")\n",
    "except TypeError:\n",
    "    print(\"The right age is {}\".format(age))\n",
    "except: # a good practice to capture unexpected errors\n",
    "    print(\"Some error\")\n",
    "    # log this error using some database methods"
   ]
  },
  {
   "cell_type": "code",
   "execution_count": 31,
   "metadata": {},
   "outputs": [
    {
     "name": "stdout",
     "output_type": "stream",
     "text": [
      "Some error: TypeError with explanation: ('can only concatenate str (not \"int\") to str',)\n"
     ]
    }
   ],
   "source": [
    "# explicitly specify the error that is expected\n",
    "try:    \n",
    "    age = 36\n",
    "    print(\"My age is \" + age)\n",
    "except KeyError:\n",
    "    print(\"Could not print age\")\n",
    "except NameError:\n",
    "    print(\"The right age is {}\".format(age))\n",
    "except Exception as ex: # a good practice to capture unexpected errors\n",
    "    print(\"Some error: {} with explanation: {}\".format(type(ex).__name__, ex.args))\n",
    "    # log this error using some database methods"
   ]
  },
  {
   "cell_type": "code",
   "execution_count": 34,
   "metadata": {},
   "outputs": [
    {
     "name": "stdout",
     "output_type": "stream",
     "text": [
      "Please enter something: 4\n"
     ]
    }
   ],
   "source": [
    "# Get user input that is an integer\n",
    "val = input('Please enter something: ')"
   ]
  },
  {
   "cell_type": "code",
   "execution_count": 36,
   "metadata": {},
   "outputs": [
    {
     "name": "stdout",
     "output_type": "stream",
     "text": [
      "4\n"
     ]
    }
   ],
   "source": [
    "print(val)"
   ]
  },
  {
   "cell_type": "code",
   "execution_count": 37,
   "metadata": {},
   "outputs": [
    {
     "data": {
      "text/plain": [
       "str"
      ]
     },
     "execution_count": 37,
     "metadata": {},
     "output_type": "execute_result"
    }
   ],
   "source": [
    "type(val)"
   ]
  },
  {
   "cell_type": "code",
   "execution_count": 41,
   "metadata": {
    "scrolled": true
   },
   "outputs": [
    {
     "name": "stdout",
     "output_type": "stream",
     "text": [
      "Please enter an integer: th\n",
      "There is an error: ValueError because probably you did not enter an integer number\n",
      "Please enter an integer: four\n",
      "There is an error: ValueError because probably you did not enter an integer number\n",
      "Please enter an integer: 8\n",
      "Yes finally you got it!\n"
     ]
    }
   ],
   "source": [
    "# Get user input that is an integer. Keep looping until the person enters integer\n",
    "while True: #or while 1 will also work\n",
    "    try:\n",
    "        val = int(input(\"Please enter an integer: \"))\n",
    "    except Exception as ex:\n",
    "        print(\"There is an error: {} because probably you did not enter an integer number\".format(type(ex).__name__))\n",
    "        continue\n",
    "    else:\n",
    "        print(\"Yes finally you got it!\")\n",
    "        break    "
   ]
  },
  {
   "cell_type": "code",
   "execution_count": null,
   "metadata": {},
   "outputs": [],
   "source": []
  }
 ],
 "metadata": {
  "kernelspec": {
   "display_name": "python38",
   "language": "python",
   "name": "python38"
  },
  "language_info": {
   "codemirror_mode": {
    "name": "ipython",
    "version": 3
   },
   "file_extension": ".py",
   "mimetype": "text/x-python",
   "name": "python",
   "nbconvert_exporter": "python",
   "pygments_lexer": "ipython3",
   "version": "3.8.12"
  }
 },
 "nbformat": 4,
 "nbformat_minor": 2
}
